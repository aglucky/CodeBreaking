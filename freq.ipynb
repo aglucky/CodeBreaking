{
 "cells": [
  {
   "cell_type": "code",
   "execution_count": 16,
   "metadata": {},
   "outputs": [],
   "source": [
    "import plotly.express as px\n",
    "from collections import Counter\n",
    "import json"
   ]
  },
  {
   "cell_type": "code",
   "execution_count": 17,
   "metadata": {},
   "outputs": [
    {
     "data": {
      "text/plain": [
       "'BIVHA JVTTH UKLYZ DLYLA YHPUL KAVSP UNLYV UAOLJ VUCVF ZWYVQ LJALK SPULV MHKCH UJLHA AOLSP TPAVM CPZPI PSPAF BUAPS AOLMH SSVMK HYRAO LUAVZ BYMHJ LPMWV ZZPIS LDPAO PUAOL JVUCV FJVSB TUZMP YLZHS CVLZM YVTIV DHUKZ ALYUA BILZZ PTBSA HULVB ZSFHU KAVZB ITLYN LHUKT HRLAO LPYLZ JHWLH ZAOLL ZJVYA ZHWWL HYLKA OLKPM MPJBS AFMVY AOLBI VHAZD HZAVS VJHAL HJVUC VFPUA OLMPY ZAWSH JLAOL SPTPA VMCPZ PIPSP AFHAI LZAMY VTHJV UUPUN AVDLY DHZAL UTPSL ZHWHA YVSSP ULVMA LUBIV HAZJV BSKAO LYLMV YLJVC LYADV OBUKY LKADL UAFTP SLZVM ZLHHJ VUCVF VMMPM AFZOP WZTLH UDOPS LVJJB WPLKH MYVUA VMVUS FADLU AFMVB YOBUK YLKFH YKZPU AOLLU VYTVB ZZWHJ LZVMA OLHAS HUAPJ HASLH ZAUPU LTPSS PVUZX BHYLT PSLZV MVWLY HAPVU HSDHA LYZAO LVULJ VBSKI LTPZZ LKIFA OLVAO LYDPA OAOLN YLHAL ZALHZ LHUKB ZBHSS FDHZI HKDLH AOLYW SHFLK HWHYA OPKPU NAOLJ VUCVF ZMYVT NLYTH ULFLZ VYMVY JPUNB IVHAZ AVZLL RZOLS ALYMY VTAOL LSLTL UAZHA WLYPZ JVWLK LWAOZ VKPKY VBAPU LHSAL YHAPV UZVMJ VBYZL HUKLT LYNLU JFABY UZPMJ VUAHJ ADLYL THKLK LSPIL YHALY LYVBA PUNVM JVUCV FZOVD LCLYH DHFMY VTWHA YVSSP ULZHU KDVSM WHJRZ SVJHA LKIFI SLAJO SLFDH ZAOLT VZAWY VKBJA PCLTL AOVKK HCPKR HOUAO LNYLH AOPZA VYPHU VMJYF WAVNY HWOFN PCLZH KYHTH APJHJ JVBUA VMVUL ZBJOY LYVBA PUNJV UALZA PUOPZ IVVRV UAOLB IVHAD HYZLP GPUNA OLLUP NTHAO PZWHZ ZHNLL EJLYW ALKMY VTQVO URLLN HUPUA LSSPN LUJLP UDHYY'"
      ]
     },
     "execution_count": 17,
     "metadata": {},
     "output_type": "execute_result"
    }
   ],
   "source": [
    "with open(\"HW1.txt\", \"r\") as f:\n",
    "    cipherText = f.read()\n",
    "\n",
    "cipherText = cipherText.replace(\"\\n\", \" \")\n",
    "cipherText"
   ]
  },
  {
   "cell_type": "code",
   "execution_count": 27,
   "metadata": {},
   "outputs": [
    {
     "data": {
      "text/plain": [
       "[('A', 103),\n",
       " ('B', 31),\n",
       " ('C', 15),\n",
       " ('D', 21),\n",
       " ('E', 1),\n",
       " ('F', 25),\n",
       " ('G', 1),\n",
       " ('H', 86),\n",
       " ('I', 19),\n",
       " ('J', 42),\n",
       " ('K', 37),\n",
       " ('L', 136),\n",
       " ('M', 36),\n",
       " ('N', 18),\n",
       " ('O', 44),\n",
       " ('P', 71),\n",
       " ('Q', 2),\n",
       " ('R', 7),\n",
       " ('S', 46),\n",
       " ('T', 29),\n",
       " ('U', 72),\n",
       " ('V', 98),\n",
       " ('W', 23),\n",
       " ('X', 1),\n",
       " ('Y', 67),\n",
       " ('Z', 69)]"
      ]
     },
     "execution_count": 27,
     "metadata": {},
     "output_type": "execute_result"
    }
   ],
   "source": [
    "cipherFreq = Counter(cipherText)\n",
    "cipherFreq.pop(' ')\n",
    "sortedCipherFreq = sorted(cipherFreq.items(), key=lambda x: x[0])\n",
    "sortedCipherFreq"
   ]
  },
  {
   "cell_type": "code",
   "execution_count": 19,
   "metadata": {},
   "outputs": [
    {
     "data": {
      "text/plain": [
       "{'a': 8.167,\n",
       " 'b': 1.492,\n",
       " 'c': 2.782,\n",
       " 'd': 4.253,\n",
       " 'e': 12.702,\n",
       " 'f': 2.228,\n",
       " 'g': 2.015,\n",
       " 'h': 6.094,\n",
       " 'i': 6.966,\n",
       " 'j': 0.153,\n",
       " 'k': 0.772,\n",
       " 'l': 4.025,\n",
       " 'm': 2.406,\n",
       " 'n': 6.749,\n",
       " 'o': 7.507,\n",
       " 'p': 1.929,\n",
       " 'q': 0.095,\n",
       " 'r': 5.987,\n",
       " 's': 6.327,\n",
       " 't': 9.056,\n",
       " 'u': 2.758,\n",
       " 'v': 0.978,\n",
       " 'w': 2.36,\n",
       " 'x': 0.15,\n",
       " 'y': 1.974,\n",
       " 'z': 0.074}"
      ]
     },
     "execution_count": 19,
     "metadata": {},
     "output_type": "execute_result"
    }
   ],
   "source": [
    "with open(\"English_Freq.json\") as f:\n",
    "    engFreq = json.load(f)\n",
    "engFreq"
   ]
  },
  {
   "cell_type": "code",
   "execution_count": 29,
   "metadata": {},
   "outputs": [
    {
     "data": {
      "application/vnd.plotly.v1+json": {
       "config": {
        "plotlyServerURL": "https://plot.ly"
       },
       "data": [
        {
         "alignmentgroup": "True",
         "hovertemplate": "x=%{x}<br>y=%{y}<extra></extra>",
         "legendgroup": "",
         "marker": {
          "color": "#636efa",
          "pattern": {
           "shape": ""
          }
         },
         "name": "",
         "offsetgroup": "",
         "orientation": "v",
         "showlegend": false,
         "textposition": "auto",
         "type": "bar",
         "x": [
          "A",
          "B",
          "C",
          "D",
          "E",
          "F",
          "G",
          "H",
          "I",
          "J",
          "K",
          "L",
          "M",
          "N",
          "O",
          "P",
          "Q",
          "R",
          "S",
          "T",
          "U",
          "V",
          "W",
          "X",
          "Y",
          "Z"
         ],
         "xaxis": "x",
         "y": [
          103,
          31,
          15,
          21,
          1,
          25,
          1,
          86,
          19,
          42,
          37,
          136,
          36,
          18,
          44,
          71,
          2,
          7,
          46,
          29,
          72,
          98,
          23,
          1,
          67,
          69
         ],
         "yaxis": "y"
        }
       ],
       "layout": {
        "barmode": "relative",
        "legend": {
         "tracegroupgap": 0
        },
        "template": {
         "data": {
          "bar": [
           {
            "error_x": {
             "color": "#2a3f5f"
            },
            "error_y": {
             "color": "#2a3f5f"
            },
            "marker": {
             "line": {
              "color": "#E5ECF6",
              "width": 0.5
             },
             "pattern": {
              "fillmode": "overlay",
              "size": 10,
              "solidity": 0.2
             }
            },
            "type": "bar"
           }
          ],
          "barpolar": [
           {
            "marker": {
             "line": {
              "color": "#E5ECF6",
              "width": 0.5
             },
             "pattern": {
              "fillmode": "overlay",
              "size": 10,
              "solidity": 0.2
             }
            },
            "type": "barpolar"
           }
          ],
          "carpet": [
           {
            "aaxis": {
             "endlinecolor": "#2a3f5f",
             "gridcolor": "white",
             "linecolor": "white",
             "minorgridcolor": "white",
             "startlinecolor": "#2a3f5f"
            },
            "baxis": {
             "endlinecolor": "#2a3f5f",
             "gridcolor": "white",
             "linecolor": "white",
             "minorgridcolor": "white",
             "startlinecolor": "#2a3f5f"
            },
            "type": "carpet"
           }
          ],
          "choropleth": [
           {
            "colorbar": {
             "outlinewidth": 0,
             "ticks": ""
            },
            "type": "choropleth"
           }
          ],
          "contour": [
           {
            "colorbar": {
             "outlinewidth": 0,
             "ticks": ""
            },
            "colorscale": [
             [
              0,
              "#0d0887"
             ],
             [
              0.1111111111111111,
              "#46039f"
             ],
             [
              0.2222222222222222,
              "#7201a8"
             ],
             [
              0.3333333333333333,
              "#9c179e"
             ],
             [
              0.4444444444444444,
              "#bd3786"
             ],
             [
              0.5555555555555556,
              "#d8576b"
             ],
             [
              0.6666666666666666,
              "#ed7953"
             ],
             [
              0.7777777777777778,
              "#fb9f3a"
             ],
             [
              0.8888888888888888,
              "#fdca26"
             ],
             [
              1,
              "#f0f921"
             ]
            ],
            "type": "contour"
           }
          ],
          "contourcarpet": [
           {
            "colorbar": {
             "outlinewidth": 0,
             "ticks": ""
            },
            "type": "contourcarpet"
           }
          ],
          "heatmap": [
           {
            "colorbar": {
             "outlinewidth": 0,
             "ticks": ""
            },
            "colorscale": [
             [
              0,
              "#0d0887"
             ],
             [
              0.1111111111111111,
              "#46039f"
             ],
             [
              0.2222222222222222,
              "#7201a8"
             ],
             [
              0.3333333333333333,
              "#9c179e"
             ],
             [
              0.4444444444444444,
              "#bd3786"
             ],
             [
              0.5555555555555556,
              "#d8576b"
             ],
             [
              0.6666666666666666,
              "#ed7953"
             ],
             [
              0.7777777777777778,
              "#fb9f3a"
             ],
             [
              0.8888888888888888,
              "#fdca26"
             ],
             [
              1,
              "#f0f921"
             ]
            ],
            "type": "heatmap"
           }
          ],
          "heatmapgl": [
           {
            "colorbar": {
             "outlinewidth": 0,
             "ticks": ""
            },
            "colorscale": [
             [
              0,
              "#0d0887"
             ],
             [
              0.1111111111111111,
              "#46039f"
             ],
             [
              0.2222222222222222,
              "#7201a8"
             ],
             [
              0.3333333333333333,
              "#9c179e"
             ],
             [
              0.4444444444444444,
              "#bd3786"
             ],
             [
              0.5555555555555556,
              "#d8576b"
             ],
             [
              0.6666666666666666,
              "#ed7953"
             ],
             [
              0.7777777777777778,
              "#fb9f3a"
             ],
             [
              0.8888888888888888,
              "#fdca26"
             ],
             [
              1,
              "#f0f921"
             ]
            ],
            "type": "heatmapgl"
           }
          ],
          "histogram": [
           {
            "marker": {
             "pattern": {
              "fillmode": "overlay",
              "size": 10,
              "solidity": 0.2
             }
            },
            "type": "histogram"
           }
          ],
          "histogram2d": [
           {
            "colorbar": {
             "outlinewidth": 0,
             "ticks": ""
            },
            "colorscale": [
             [
              0,
              "#0d0887"
             ],
             [
              0.1111111111111111,
              "#46039f"
             ],
             [
              0.2222222222222222,
              "#7201a8"
             ],
             [
              0.3333333333333333,
              "#9c179e"
             ],
             [
              0.4444444444444444,
              "#bd3786"
             ],
             [
              0.5555555555555556,
              "#d8576b"
             ],
             [
              0.6666666666666666,
              "#ed7953"
             ],
             [
              0.7777777777777778,
              "#fb9f3a"
             ],
             [
              0.8888888888888888,
              "#fdca26"
             ],
             [
              1,
              "#f0f921"
             ]
            ],
            "type": "histogram2d"
           }
          ],
          "histogram2dcontour": [
           {
            "colorbar": {
             "outlinewidth": 0,
             "ticks": ""
            },
            "colorscale": [
             [
              0,
              "#0d0887"
             ],
             [
              0.1111111111111111,
              "#46039f"
             ],
             [
              0.2222222222222222,
              "#7201a8"
             ],
             [
              0.3333333333333333,
              "#9c179e"
             ],
             [
              0.4444444444444444,
              "#bd3786"
             ],
             [
              0.5555555555555556,
              "#d8576b"
             ],
             [
              0.6666666666666666,
              "#ed7953"
             ],
             [
              0.7777777777777778,
              "#fb9f3a"
             ],
             [
              0.8888888888888888,
              "#fdca26"
             ],
             [
              1,
              "#f0f921"
             ]
            ],
            "type": "histogram2dcontour"
           }
          ],
          "mesh3d": [
           {
            "colorbar": {
             "outlinewidth": 0,
             "ticks": ""
            },
            "type": "mesh3d"
           }
          ],
          "parcoords": [
           {
            "line": {
             "colorbar": {
              "outlinewidth": 0,
              "ticks": ""
             }
            },
            "type": "parcoords"
           }
          ],
          "pie": [
           {
            "automargin": true,
            "type": "pie"
           }
          ],
          "scatter": [
           {
            "fillpattern": {
             "fillmode": "overlay",
             "size": 10,
             "solidity": 0.2
            },
            "type": "scatter"
           }
          ],
          "scatter3d": [
           {
            "line": {
             "colorbar": {
              "outlinewidth": 0,
              "ticks": ""
             }
            },
            "marker": {
             "colorbar": {
              "outlinewidth": 0,
              "ticks": ""
             }
            },
            "type": "scatter3d"
           }
          ],
          "scattercarpet": [
           {
            "marker": {
             "colorbar": {
              "outlinewidth": 0,
              "ticks": ""
             }
            },
            "type": "scattercarpet"
           }
          ],
          "scattergeo": [
           {
            "marker": {
             "colorbar": {
              "outlinewidth": 0,
              "ticks": ""
             }
            },
            "type": "scattergeo"
           }
          ],
          "scattergl": [
           {
            "marker": {
             "colorbar": {
              "outlinewidth": 0,
              "ticks": ""
             }
            },
            "type": "scattergl"
           }
          ],
          "scattermapbox": [
           {
            "marker": {
             "colorbar": {
              "outlinewidth": 0,
              "ticks": ""
             }
            },
            "type": "scattermapbox"
           }
          ],
          "scatterpolar": [
           {
            "marker": {
             "colorbar": {
              "outlinewidth": 0,
              "ticks": ""
             }
            },
            "type": "scatterpolar"
           }
          ],
          "scatterpolargl": [
           {
            "marker": {
             "colorbar": {
              "outlinewidth": 0,
              "ticks": ""
             }
            },
            "type": "scatterpolargl"
           }
          ],
          "scatterternary": [
           {
            "marker": {
             "colorbar": {
              "outlinewidth": 0,
              "ticks": ""
             }
            },
            "type": "scatterternary"
           }
          ],
          "surface": [
           {
            "colorbar": {
             "outlinewidth": 0,
             "ticks": ""
            },
            "colorscale": [
             [
              0,
              "#0d0887"
             ],
             [
              0.1111111111111111,
              "#46039f"
             ],
             [
              0.2222222222222222,
              "#7201a8"
             ],
             [
              0.3333333333333333,
              "#9c179e"
             ],
             [
              0.4444444444444444,
              "#bd3786"
             ],
             [
              0.5555555555555556,
              "#d8576b"
             ],
             [
              0.6666666666666666,
              "#ed7953"
             ],
             [
              0.7777777777777778,
              "#fb9f3a"
             ],
             [
              0.8888888888888888,
              "#fdca26"
             ],
             [
              1,
              "#f0f921"
             ]
            ],
            "type": "surface"
           }
          ],
          "table": [
           {
            "cells": {
             "fill": {
              "color": "#EBF0F8"
             },
             "line": {
              "color": "white"
             }
            },
            "header": {
             "fill": {
              "color": "#C8D4E3"
             },
             "line": {
              "color": "white"
             }
            },
            "type": "table"
           }
          ]
         },
         "layout": {
          "annotationdefaults": {
           "arrowcolor": "#2a3f5f",
           "arrowhead": 0,
           "arrowwidth": 1
          },
          "autotypenumbers": "strict",
          "coloraxis": {
           "colorbar": {
            "outlinewidth": 0,
            "ticks": ""
           }
          },
          "colorscale": {
           "diverging": [
            [
             0,
             "#8e0152"
            ],
            [
             0.1,
             "#c51b7d"
            ],
            [
             0.2,
             "#de77ae"
            ],
            [
             0.3,
             "#f1b6da"
            ],
            [
             0.4,
             "#fde0ef"
            ],
            [
             0.5,
             "#f7f7f7"
            ],
            [
             0.6,
             "#e6f5d0"
            ],
            [
             0.7,
             "#b8e186"
            ],
            [
             0.8,
             "#7fbc41"
            ],
            [
             0.9,
             "#4d9221"
            ],
            [
             1,
             "#276419"
            ]
           ],
           "sequential": [
            [
             0,
             "#0d0887"
            ],
            [
             0.1111111111111111,
             "#46039f"
            ],
            [
             0.2222222222222222,
             "#7201a8"
            ],
            [
             0.3333333333333333,
             "#9c179e"
            ],
            [
             0.4444444444444444,
             "#bd3786"
            ],
            [
             0.5555555555555556,
             "#d8576b"
            ],
            [
             0.6666666666666666,
             "#ed7953"
            ],
            [
             0.7777777777777778,
             "#fb9f3a"
            ],
            [
             0.8888888888888888,
             "#fdca26"
            ],
            [
             1,
             "#f0f921"
            ]
           ],
           "sequentialminus": [
            [
             0,
             "#0d0887"
            ],
            [
             0.1111111111111111,
             "#46039f"
            ],
            [
             0.2222222222222222,
             "#7201a8"
            ],
            [
             0.3333333333333333,
             "#9c179e"
            ],
            [
             0.4444444444444444,
             "#bd3786"
            ],
            [
             0.5555555555555556,
             "#d8576b"
            ],
            [
             0.6666666666666666,
             "#ed7953"
            ],
            [
             0.7777777777777778,
             "#fb9f3a"
            ],
            [
             0.8888888888888888,
             "#fdca26"
            ],
            [
             1,
             "#f0f921"
            ]
           ]
          },
          "colorway": [
           "#636efa",
           "#EF553B",
           "#00cc96",
           "#ab63fa",
           "#FFA15A",
           "#19d3f3",
           "#FF6692",
           "#B6E880",
           "#FF97FF",
           "#FECB52"
          ],
          "font": {
           "color": "#2a3f5f"
          },
          "geo": {
           "bgcolor": "white",
           "lakecolor": "white",
           "landcolor": "#E5ECF6",
           "showlakes": true,
           "showland": true,
           "subunitcolor": "white"
          },
          "hoverlabel": {
           "align": "left"
          },
          "hovermode": "closest",
          "mapbox": {
           "style": "light"
          },
          "paper_bgcolor": "white",
          "plot_bgcolor": "#E5ECF6",
          "polar": {
           "angularaxis": {
            "gridcolor": "white",
            "linecolor": "white",
            "ticks": ""
           },
           "bgcolor": "#E5ECF6",
           "radialaxis": {
            "gridcolor": "white",
            "linecolor": "white",
            "ticks": ""
           }
          },
          "scene": {
           "xaxis": {
            "backgroundcolor": "#E5ECF6",
            "gridcolor": "white",
            "gridwidth": 2,
            "linecolor": "white",
            "showbackground": true,
            "ticks": "",
            "zerolinecolor": "white"
           },
           "yaxis": {
            "backgroundcolor": "#E5ECF6",
            "gridcolor": "white",
            "gridwidth": 2,
            "linecolor": "white",
            "showbackground": true,
            "ticks": "",
            "zerolinecolor": "white"
           },
           "zaxis": {
            "backgroundcolor": "#E5ECF6",
            "gridcolor": "white",
            "gridwidth": 2,
            "linecolor": "white",
            "showbackground": true,
            "ticks": "",
            "zerolinecolor": "white"
           }
          },
          "shapedefaults": {
           "line": {
            "color": "#2a3f5f"
           }
          },
          "ternary": {
           "aaxis": {
            "gridcolor": "white",
            "linecolor": "white",
            "ticks": ""
           },
           "baxis": {
            "gridcolor": "white",
            "linecolor": "white",
            "ticks": ""
           },
           "bgcolor": "#E5ECF6",
           "caxis": {
            "gridcolor": "white",
            "linecolor": "white",
            "ticks": ""
           }
          },
          "title": {
           "x": 0.05
          },
          "xaxis": {
           "automargin": true,
           "gridcolor": "white",
           "linecolor": "white",
           "ticks": "",
           "title": {
            "standoff": 15
           },
           "zerolinecolor": "white",
           "zerolinewidth": 2
          },
          "yaxis": {
           "automargin": true,
           "gridcolor": "white",
           "linecolor": "white",
           "ticks": "",
           "title": {
            "standoff": 15
           },
           "zerolinecolor": "white",
           "zerolinewidth": 2
          }
         }
        },
        "title": {
         "text": "Frequency of letters in cipher text"
        },
        "xaxis": {
         "anchor": "y",
         "domain": [
          0,
          1
         ],
         "title": {
          "text": "x"
         }
        },
        "yaxis": {
         "anchor": "x",
         "domain": [
          0,
          1
         ],
         "title": {
          "text": "y"
         }
        }
       }
      }
     },
     "metadata": {},
     "output_type": "display_data"
    }
   ],
   "source": [
    "fig = px.bar(x=[l[0] for l in sortedCipherFreq], y=[l[1] for l in sortedCipherFreq], title=\"Frequency of letters in cipher text\")\n",
    "fig.show()"
   ]
  },
  {
   "cell_type": "code",
   "execution_count": 21,
   "metadata": {},
   "outputs": [
    {
     "data": {
      "application/vnd.plotly.v1+json": {
       "config": {
        "plotlyServerURL": "https://plot.ly"
       },
       "data": [
        {
         "alignmentgroup": "True",
         "hovertemplate": "x=%{x}<br>y=%{y}<extra></extra>",
         "legendgroup": "",
         "marker": {
          "color": "#636efa",
          "pattern": {
           "shape": ""
          }
         },
         "name": "",
         "offsetgroup": "",
         "orientation": "v",
         "showlegend": false,
         "textposition": "auto",
         "type": "bar",
         "x": [
          "a",
          "b",
          "c",
          "d",
          "e",
          "f",
          "g",
          "h",
          "i",
          "j",
          "k",
          "l",
          "m",
          "n",
          "o",
          "p",
          "q",
          "r",
          "s",
          "t",
          "u",
          "v",
          "w",
          "x",
          "y",
          "z"
         ],
         "xaxis": "x",
         "y": [
          8.167,
          1.492,
          2.782,
          4.253,
          12.702,
          2.228,
          2.015,
          6.094,
          6.966,
          0.153,
          0.772,
          4.025,
          2.406,
          6.749,
          7.507,
          1.929,
          0.095,
          5.987,
          6.327,
          9.056,
          2.758,
          0.978,
          2.36,
          0.15,
          1.974,
          0.074
         ],
         "yaxis": "y"
        }
       ],
       "layout": {
        "barmode": "relative",
        "legend": {
         "tracegroupgap": 0
        },
        "template": {
         "data": {
          "bar": [
           {
            "error_x": {
             "color": "#2a3f5f"
            },
            "error_y": {
             "color": "#2a3f5f"
            },
            "marker": {
             "line": {
              "color": "#E5ECF6",
              "width": 0.5
             },
             "pattern": {
              "fillmode": "overlay",
              "size": 10,
              "solidity": 0.2
             }
            },
            "type": "bar"
           }
          ],
          "barpolar": [
           {
            "marker": {
             "line": {
              "color": "#E5ECF6",
              "width": 0.5
             },
             "pattern": {
              "fillmode": "overlay",
              "size": 10,
              "solidity": 0.2
             }
            },
            "type": "barpolar"
           }
          ],
          "carpet": [
           {
            "aaxis": {
             "endlinecolor": "#2a3f5f",
             "gridcolor": "white",
             "linecolor": "white",
             "minorgridcolor": "white",
             "startlinecolor": "#2a3f5f"
            },
            "baxis": {
             "endlinecolor": "#2a3f5f",
             "gridcolor": "white",
             "linecolor": "white",
             "minorgridcolor": "white",
             "startlinecolor": "#2a3f5f"
            },
            "type": "carpet"
           }
          ],
          "choropleth": [
           {
            "colorbar": {
             "outlinewidth": 0,
             "ticks": ""
            },
            "type": "choropleth"
           }
          ],
          "contour": [
           {
            "colorbar": {
             "outlinewidth": 0,
             "ticks": ""
            },
            "colorscale": [
             [
              0,
              "#0d0887"
             ],
             [
              0.1111111111111111,
              "#46039f"
             ],
             [
              0.2222222222222222,
              "#7201a8"
             ],
             [
              0.3333333333333333,
              "#9c179e"
             ],
             [
              0.4444444444444444,
              "#bd3786"
             ],
             [
              0.5555555555555556,
              "#d8576b"
             ],
             [
              0.6666666666666666,
              "#ed7953"
             ],
             [
              0.7777777777777778,
              "#fb9f3a"
             ],
             [
              0.8888888888888888,
              "#fdca26"
             ],
             [
              1,
              "#f0f921"
             ]
            ],
            "type": "contour"
           }
          ],
          "contourcarpet": [
           {
            "colorbar": {
             "outlinewidth": 0,
             "ticks": ""
            },
            "type": "contourcarpet"
           }
          ],
          "heatmap": [
           {
            "colorbar": {
             "outlinewidth": 0,
             "ticks": ""
            },
            "colorscale": [
             [
              0,
              "#0d0887"
             ],
             [
              0.1111111111111111,
              "#46039f"
             ],
             [
              0.2222222222222222,
              "#7201a8"
             ],
             [
              0.3333333333333333,
              "#9c179e"
             ],
             [
              0.4444444444444444,
              "#bd3786"
             ],
             [
              0.5555555555555556,
              "#d8576b"
             ],
             [
              0.6666666666666666,
              "#ed7953"
             ],
             [
              0.7777777777777778,
              "#fb9f3a"
             ],
             [
              0.8888888888888888,
              "#fdca26"
             ],
             [
              1,
              "#f0f921"
             ]
            ],
            "type": "heatmap"
           }
          ],
          "heatmapgl": [
           {
            "colorbar": {
             "outlinewidth": 0,
             "ticks": ""
            },
            "colorscale": [
             [
              0,
              "#0d0887"
             ],
             [
              0.1111111111111111,
              "#46039f"
             ],
             [
              0.2222222222222222,
              "#7201a8"
             ],
             [
              0.3333333333333333,
              "#9c179e"
             ],
             [
              0.4444444444444444,
              "#bd3786"
             ],
             [
              0.5555555555555556,
              "#d8576b"
             ],
             [
              0.6666666666666666,
              "#ed7953"
             ],
             [
              0.7777777777777778,
              "#fb9f3a"
             ],
             [
              0.8888888888888888,
              "#fdca26"
             ],
             [
              1,
              "#f0f921"
             ]
            ],
            "type": "heatmapgl"
           }
          ],
          "histogram": [
           {
            "marker": {
             "pattern": {
              "fillmode": "overlay",
              "size": 10,
              "solidity": 0.2
             }
            },
            "type": "histogram"
           }
          ],
          "histogram2d": [
           {
            "colorbar": {
             "outlinewidth": 0,
             "ticks": ""
            },
            "colorscale": [
             [
              0,
              "#0d0887"
             ],
             [
              0.1111111111111111,
              "#46039f"
             ],
             [
              0.2222222222222222,
              "#7201a8"
             ],
             [
              0.3333333333333333,
              "#9c179e"
             ],
             [
              0.4444444444444444,
              "#bd3786"
             ],
             [
              0.5555555555555556,
              "#d8576b"
             ],
             [
              0.6666666666666666,
              "#ed7953"
             ],
             [
              0.7777777777777778,
              "#fb9f3a"
             ],
             [
              0.8888888888888888,
              "#fdca26"
             ],
             [
              1,
              "#f0f921"
             ]
            ],
            "type": "histogram2d"
           }
          ],
          "histogram2dcontour": [
           {
            "colorbar": {
             "outlinewidth": 0,
             "ticks": ""
            },
            "colorscale": [
             [
              0,
              "#0d0887"
             ],
             [
              0.1111111111111111,
              "#46039f"
             ],
             [
              0.2222222222222222,
              "#7201a8"
             ],
             [
              0.3333333333333333,
              "#9c179e"
             ],
             [
              0.4444444444444444,
              "#bd3786"
             ],
             [
              0.5555555555555556,
              "#d8576b"
             ],
             [
              0.6666666666666666,
              "#ed7953"
             ],
             [
              0.7777777777777778,
              "#fb9f3a"
             ],
             [
              0.8888888888888888,
              "#fdca26"
             ],
             [
              1,
              "#f0f921"
             ]
            ],
            "type": "histogram2dcontour"
           }
          ],
          "mesh3d": [
           {
            "colorbar": {
             "outlinewidth": 0,
             "ticks": ""
            },
            "type": "mesh3d"
           }
          ],
          "parcoords": [
           {
            "line": {
             "colorbar": {
              "outlinewidth": 0,
              "ticks": ""
             }
            },
            "type": "parcoords"
           }
          ],
          "pie": [
           {
            "automargin": true,
            "type": "pie"
           }
          ],
          "scatter": [
           {
            "fillpattern": {
             "fillmode": "overlay",
             "size": 10,
             "solidity": 0.2
            },
            "type": "scatter"
           }
          ],
          "scatter3d": [
           {
            "line": {
             "colorbar": {
              "outlinewidth": 0,
              "ticks": ""
             }
            },
            "marker": {
             "colorbar": {
              "outlinewidth": 0,
              "ticks": ""
             }
            },
            "type": "scatter3d"
           }
          ],
          "scattercarpet": [
           {
            "marker": {
             "colorbar": {
              "outlinewidth": 0,
              "ticks": ""
             }
            },
            "type": "scattercarpet"
           }
          ],
          "scattergeo": [
           {
            "marker": {
             "colorbar": {
              "outlinewidth": 0,
              "ticks": ""
             }
            },
            "type": "scattergeo"
           }
          ],
          "scattergl": [
           {
            "marker": {
             "colorbar": {
              "outlinewidth": 0,
              "ticks": ""
             }
            },
            "type": "scattergl"
           }
          ],
          "scattermapbox": [
           {
            "marker": {
             "colorbar": {
              "outlinewidth": 0,
              "ticks": ""
             }
            },
            "type": "scattermapbox"
           }
          ],
          "scatterpolar": [
           {
            "marker": {
             "colorbar": {
              "outlinewidth": 0,
              "ticks": ""
             }
            },
            "type": "scatterpolar"
           }
          ],
          "scatterpolargl": [
           {
            "marker": {
             "colorbar": {
              "outlinewidth": 0,
              "ticks": ""
             }
            },
            "type": "scatterpolargl"
           }
          ],
          "scatterternary": [
           {
            "marker": {
             "colorbar": {
              "outlinewidth": 0,
              "ticks": ""
             }
            },
            "type": "scatterternary"
           }
          ],
          "surface": [
           {
            "colorbar": {
             "outlinewidth": 0,
             "ticks": ""
            },
            "colorscale": [
             [
              0,
              "#0d0887"
             ],
             [
              0.1111111111111111,
              "#46039f"
             ],
             [
              0.2222222222222222,
              "#7201a8"
             ],
             [
              0.3333333333333333,
              "#9c179e"
             ],
             [
              0.4444444444444444,
              "#bd3786"
             ],
             [
              0.5555555555555556,
              "#d8576b"
             ],
             [
              0.6666666666666666,
              "#ed7953"
             ],
             [
              0.7777777777777778,
              "#fb9f3a"
             ],
             [
              0.8888888888888888,
              "#fdca26"
             ],
             [
              1,
              "#f0f921"
             ]
            ],
            "type": "surface"
           }
          ],
          "table": [
           {
            "cells": {
             "fill": {
              "color": "#EBF0F8"
             },
             "line": {
              "color": "white"
             }
            },
            "header": {
             "fill": {
              "color": "#C8D4E3"
             },
             "line": {
              "color": "white"
             }
            },
            "type": "table"
           }
          ]
         },
         "layout": {
          "annotationdefaults": {
           "arrowcolor": "#2a3f5f",
           "arrowhead": 0,
           "arrowwidth": 1
          },
          "autotypenumbers": "strict",
          "coloraxis": {
           "colorbar": {
            "outlinewidth": 0,
            "ticks": ""
           }
          },
          "colorscale": {
           "diverging": [
            [
             0,
             "#8e0152"
            ],
            [
             0.1,
             "#c51b7d"
            ],
            [
             0.2,
             "#de77ae"
            ],
            [
             0.3,
             "#f1b6da"
            ],
            [
             0.4,
             "#fde0ef"
            ],
            [
             0.5,
             "#f7f7f7"
            ],
            [
             0.6,
             "#e6f5d0"
            ],
            [
             0.7,
             "#b8e186"
            ],
            [
             0.8,
             "#7fbc41"
            ],
            [
             0.9,
             "#4d9221"
            ],
            [
             1,
             "#276419"
            ]
           ],
           "sequential": [
            [
             0,
             "#0d0887"
            ],
            [
             0.1111111111111111,
             "#46039f"
            ],
            [
             0.2222222222222222,
             "#7201a8"
            ],
            [
             0.3333333333333333,
             "#9c179e"
            ],
            [
             0.4444444444444444,
             "#bd3786"
            ],
            [
             0.5555555555555556,
             "#d8576b"
            ],
            [
             0.6666666666666666,
             "#ed7953"
            ],
            [
             0.7777777777777778,
             "#fb9f3a"
            ],
            [
             0.8888888888888888,
             "#fdca26"
            ],
            [
             1,
             "#f0f921"
            ]
           ],
           "sequentialminus": [
            [
             0,
             "#0d0887"
            ],
            [
             0.1111111111111111,
             "#46039f"
            ],
            [
             0.2222222222222222,
             "#7201a8"
            ],
            [
             0.3333333333333333,
             "#9c179e"
            ],
            [
             0.4444444444444444,
             "#bd3786"
            ],
            [
             0.5555555555555556,
             "#d8576b"
            ],
            [
             0.6666666666666666,
             "#ed7953"
            ],
            [
             0.7777777777777778,
             "#fb9f3a"
            ],
            [
             0.8888888888888888,
             "#fdca26"
            ],
            [
             1,
             "#f0f921"
            ]
           ]
          },
          "colorway": [
           "#636efa",
           "#EF553B",
           "#00cc96",
           "#ab63fa",
           "#FFA15A",
           "#19d3f3",
           "#FF6692",
           "#B6E880",
           "#FF97FF",
           "#FECB52"
          ],
          "font": {
           "color": "#2a3f5f"
          },
          "geo": {
           "bgcolor": "white",
           "lakecolor": "white",
           "landcolor": "#E5ECF6",
           "showlakes": true,
           "showland": true,
           "subunitcolor": "white"
          },
          "hoverlabel": {
           "align": "left"
          },
          "hovermode": "closest",
          "mapbox": {
           "style": "light"
          },
          "paper_bgcolor": "white",
          "plot_bgcolor": "#E5ECF6",
          "polar": {
           "angularaxis": {
            "gridcolor": "white",
            "linecolor": "white",
            "ticks": ""
           },
           "bgcolor": "#E5ECF6",
           "radialaxis": {
            "gridcolor": "white",
            "linecolor": "white",
            "ticks": ""
           }
          },
          "scene": {
           "xaxis": {
            "backgroundcolor": "#E5ECF6",
            "gridcolor": "white",
            "gridwidth": 2,
            "linecolor": "white",
            "showbackground": true,
            "ticks": "",
            "zerolinecolor": "white"
           },
           "yaxis": {
            "backgroundcolor": "#E5ECF6",
            "gridcolor": "white",
            "gridwidth": 2,
            "linecolor": "white",
            "showbackground": true,
            "ticks": "",
            "zerolinecolor": "white"
           },
           "zaxis": {
            "backgroundcolor": "#E5ECF6",
            "gridcolor": "white",
            "gridwidth": 2,
            "linecolor": "white",
            "showbackground": true,
            "ticks": "",
            "zerolinecolor": "white"
           }
          },
          "shapedefaults": {
           "line": {
            "color": "#2a3f5f"
           }
          },
          "ternary": {
           "aaxis": {
            "gridcolor": "white",
            "linecolor": "white",
            "ticks": ""
           },
           "baxis": {
            "gridcolor": "white",
            "linecolor": "white",
            "ticks": ""
           },
           "bgcolor": "#E5ECF6",
           "caxis": {
            "gridcolor": "white",
            "linecolor": "white",
            "ticks": ""
           }
          },
          "title": {
           "x": 0.05
          },
          "xaxis": {
           "automargin": true,
           "gridcolor": "white",
           "linecolor": "white",
           "ticks": "",
           "title": {
            "standoff": 15
           },
           "zerolinecolor": "white",
           "zerolinewidth": 2
          },
          "yaxis": {
           "automargin": true,
           "gridcolor": "white",
           "linecolor": "white",
           "ticks": "",
           "title": {
            "standoff": 15
           },
           "zerolinecolor": "white",
           "zerolinewidth": 2
          }
         }
        },
        "title": {
         "text": "Frequency of letters in English language"
        },
        "xaxis": {
         "anchor": "y",
         "domain": [
          0,
          1
         ],
         "title": {
          "text": "x"
         }
        },
        "yaxis": {
         "anchor": "x",
         "domain": [
          0,
          1
         ],
         "title": {
          "text": "y"
         }
        }
       }
      }
     },
     "metadata": {},
     "output_type": "display_data"
    }
   ],
   "source": [
    "fig = px.bar(x=list(engFreq.keys()), y=list(engFreq.values()), title=\"Frequency of letters in English language\")\n",
    "fig.show()"
   ]
  },
  {
   "cell_type": "code",
   "execution_count": 22,
   "metadata": {},
   "outputs": [
    {
     "name": "stdout",
     "output_type": "stream",
     "text": [
      "0: BIVHA JVTTH UKLYZ DLYLA YHPUL KAVSP UNLYV UAOLJ VUCVF ZWYVQ LJALK SPULV MHKCH UJLHA AOLSP TPAVM CPZPI PSPAF BUAPS AOLMH SSVMK HYRAO LUAVZ BYMHJ LPMWV ZZPIS LDPAO PUAOL JVUCV FJVSB TUZMP YLZHS CVLZM YVTIV DHUKZ ALYUA BILZZ PTBSA HULVB ZSFHU KAVZB ITLYN LHUKT HRLAO LPYLZ JHWLH ZAOLL ZJVYA ZHWWL HYLKA OLKPM MPJBS AFMVY AOLBI VHAZD HZAVS VJHAL HJVUC VFPUA OLMPY ZAWSH JLAOL SPTPA VMCPZ PIPSP AFHAI LZAMY VTHJV UUPUN AVDLY DHZAL UTPSL ZHWHA YVSSP ULVMA LUBIV HAZJV BSKAO LYLMV YLJVC LYADV OBUKY LKADL UAFTP SLZVM ZLHHJ VUCVF VMMPM AFZOP WZTLH UDOPS LVJJB WPLKH MYVUA VMVUS FADLU AFMVB YOBUK YLKFH YKZPU AOLLU VYTVB ZZWHJ LZVMA OLHAS HUAPJ HASLH ZAUPU LTPSS PVUZX BHYLT PSLZV MVWLY HAPVU HSDHA LYZAO LVULJ VBSKI LTPZZ LKIFA OLVAO LYDPA OAOLN YLHAL ZALHZ LHUKB ZBHSS FDHZI HKDLH AOLYW SHFLK HWHYA OPKPU NAOLJ VUCVF ZMYVT NLYTH ULFLZ VYMVY JPUNB IVHAZ AVZLL RZOLS ALYMY VTAOL LSLTL UAZHA WLYPZ JVWLK LWAOZ VKPKY VBAPU LHSAL YHAPV UZVMJ VBYZL HUKLT LYNLU JFABY UZPMJ VUAHJ ADLYL THKLK LSPIL YHALY LYVBA PUNVM JVUCV FZOVD LCLYH DHFMY VTWHA YVSSP ULZHU KDVSM WHJRZ SVJHA LKIFI SLAJO SLFDH ZAOLT VZAWY VKBJA PCLTL AOVKK HCPKR HOUAO LNYLH AOPZA VYPHU VMJYF WAVNY HWOFN PCLZH KYHTH APJHJ JVBUA VMVUL ZBJOY LYVBA PUNJV UALZA PUOPZ IVVRV UAOLB IVHAD HYZLP GPUNA OLLUP NTHAO PZWHZ ZHNLL EJLYW ALKMY VTQVO URLLN HUPUA LSSPN LUJLP UDHYY\n",
      "1: CJWIB KWUUI VLMZA EMZMB ZIQVM LBWTQ VOMZW VBPMK WVDWG AXZWR MKBML TQVMW NILDI VKMIB BPMTQ UQBWN DQAQJ QTQBG CVBQT BPMNI TTWNL IZSBP MVBWA CZNIK MQNXW AAQJT MEQBP QVBPM KWVDW GKWTC UVANQ ZMAIT DWMAN ZWUJW EIVLA BMZVB CJMAA QUCTB IVMWC ATGIV LBWAC JUMZO MIVLU ISMBP MQZMA KIXMI ABPMM AKWZB AIXXM IZMLB PMLQN NQKCT BGNWZ BPMCJ WIBAE IABWT WKIBM IKWVD WGQVB PMNQZ ABXTI KMBPM TQUQB WNDQA QJQTQ BGIBJ MABNZ WUIKW VVQVO BWEMZ EIABM VUQTM AIXIB ZWTTQ VMWNB MVCJW IBAKW CTLBP MZMNW ZMKWD MZBEW PCVLZ MLBEM VBGUQ TMAWN AMIIK WVDWG WNNQN BGAPQ XAUMI VEPQT MWKKC XQMLI NZWVB WNWVT GBEMV BGNWC ZPCVL ZMLGI ZLAQV BPMMV WZUWC AAXIK MAWNB PMIBT IVBQK IBTMI ABVQV MUQTT QWVAY CIZMU QTMAW NWXMZ IBQWV ITEIB MZABP MWVMK WCTLJ MUQAA MLJGB PMWBP MZEQB PBPMO ZMIBM ABMIA MIVLC ACITT GEIAJ ILEMI BPMZX TIGML IXIZB PQLQV OBPMK WVDWG ANZWU OMZUI VMGMA WZNWZ KQVOC JWIBA BWAMM SAPMT BMZNZ WUBPM MTMUM VBAIB XMZQA KWXML MXBPA WLQLZ WCBQV MITBM ZIBQW VAWNK WCZAM IVLMU MZOMV KGBCZ VAQNK WVBIK BEMZM UILML MTQJM ZIBMZ MZWCB QVOWN KWVDW GAPWE MDMZI EIGNZ WUXIB ZWTTQ VMAIV LEWTN XIKSA TWKIB MLJGJ TMBKP TMGEI ABPMU WABXZ WLCKB QDMUM BPWLL IDQLS IPVBP MOZMI BPQAB WZQIV WNKZG XBWOZ IXPGO QDMAI LZIUI BQKIK KWCVB WNWVM ACKPZ MZWCB QVOKW VBMAB QVPQA JWWSW VBPMC JWIBE IZAMQ HQVOB PMMVQ OUIBP QAXIA AIOMM FKMZX BMLNZ WURWP VSMMO IVQVB MTTQO MVKMQ VEIZZ\n",
      "2: DKXJC LXVVJ WMNAB FNANC AJRWN MCXUR WPNAX WCQNL XWEXH BYAXS NLCNM URWNX OJMEJ WLNJC CQNUR VRCXO ERBRK RURCH DWCRU CQNOJ UUXOM JATCQ NWCXB DAOJL NROYX BBRKU NFRCQ RWCQN LXWEX HLXUD VWBOR ANBJU EXNBO AXVKX FJWMB CNAWC DKNBB RVDUC JWNXD BUHJW MCXBD KVNAP NJWMV JTNCQ NRANB LJYNJ BCQNN BLXAC BJYYN JANMC QNMRO ORLDU CHOXA CQNDK XJCBF JBCXU XLJCN JLXWE XHRWC QNORA BCYUJ LNCQN URVRC XOERB RKRUR CHJCK NBCOA XVJLX WWRWP CXFNA FJBCN WVRUN BJYJC AXUUR WNXOC NWDKX JCBLX DUMCQ NANOX ANLXE NACFX QDWMA NMCFN WCHVR UNBXO BNJJL XWEXH XOORO CHBQR YBVNJ WFQRU NXLLD YRNMJ OAXWC XOXWU HCFNW CHOXD AQDWM ANMHJ AMBRW CQNNW XAVXD BBYJL NBXOC QNJCU JWCRL JCUNJ BCWRW NVRUU RXWBZ DJANV RUNBX OXYNA JCRXW JUFJC NABCQ NXWNL XDUMK NVRBB NMKHC QNXCQ NAFRC QCQNP ANJCN BCNJB NJWMD BDJUU HFJBK JMFNJ CQNAY UJHNM JYJAC QRMRW PCQNL XWEXH BOAXV PNAVJ WNHNB XAOXA LRWPD KXJCB CXBNN TBQNU CNAOA XVCQN NUNVN WCBJC YNARB LXYNM NYCQB XMRMA XDCRW NJUCN AJCRX WBXOL XDABN JWMNV NAPNW LHCDA WBROL XWCJL CFNAN VJMNM NURKN AJCNA NAXDC RWPXO LXWEX HBQXF NENAJ FJHOA XVYJC AXUUR WNBJW MFXUO YJLTB UXLJC NMKHK UNCLQ UNHFJ BCQNV XBCYA XMDLC RENVN CQXMM JERMT JQWCQ NPANJ CQRBC XARJW XOLAH YCXPA JYQHP RENBJ MAJVJ CRLJL LXDWC XOXWN BDLQA NAXDC RWPLX WCNBC RWQRB KXXTX WCQND KXJCF JABNR IRWPC QNNWR PVJCQ RBYJB BJPNN GLNAY CNMOA XVSXQ WTNNP JWRWC NUURP NWLNR WFJAA\n",
      "3: ELYKD MYWWK XNOBC GOBOD BKSXO NDYVS XQOBY XDROM YXFYI CZBYT OMDON VSXOY PKNFK XMOKD DROVS WSDYP FSCSL SVSDI EXDSV DROPK VVYPN KBUDR OXDYC EBPKM OSPZY CCSLV OGSDR SXDRO MYXFY IMYVE WXCPS BOCKV FYOCP BYWLY GKXNC DOBXD ELOCC SWEVD KXOYE CVIKX NDYCE LWOBQ OKXNW KUODR OSBOC MKZOK CDROO CMYBD CKZZO KBOND RONSP PSMEV DIPYB DROEL YKDCG KCDYV YMKDO KMYXF YISXD ROPSB CDZVK MODRO VSWSD YPFSC SLSVS DIKDL OCDPB YWKMY XXSXQ DYGOB GKCDO XWSVO CKZKD BYVVS XOYPD OXELY KDCMY EVNDR OBOPY BOMYF OBDGY REXNB ONDGO XDIWS VOCYP COKKM YXFYI YPPSP DICRS ZCWOK XGRSV OYMME ZSONK PBYXD YPYXV IDGOX DIPYE BREXN BONIK BNCSX DROOX YBWYE CCZKM OCYPD ROKDV KXDSM KDVOK CDXSX OWSVV SYXCA EKBOW SVOCY PYZOB KDSYX KVGKD OBCDR OYXOM YEVNL OWSCC ONLID ROYDR OBGSD RDROQ BOKDO CDOKC OKXNE CEKVV IGKCL KNGOK DROBZ VKION KZKBD RSNSX QDROM YXFYI CPBYW QOBWK XOIOC YBPYB MSXQE LYKDC DYCOO UCROV DOBPB YWDRO OVOWO XDCKD ZOBSC MYZON OZDRC YNSNB YEDSX OKVDO BKDSY XCYPM YEBCO KXNOW OBQOX MIDEB XCSPM YXDKM DGOBO WKNON OVSLO BKDOB OBYED SXQYP MYXFY ICRYG OFOBK GKIPB YWZKD BYVVS XOCKX NGYVP ZKMUC VYMKD ONLIL VODMR VOIGK CDROW YCDZB YNEMD SFOWO DRYNN KFSNU KRXDR OQBOK DRSCD YBSKX YPMBI ZDYQB KZRIQ SFOCK NBKWK DSMKM MYEXD YPYXO CEMRB OBYED SXQMY XDOCD SXRSC LYYUY XDROE LYKDG KBCOS JSXQD ROOXS QWKDR SCZKC CKQOO HMOBZ DONPB YWTYR XUOOQ KXSXD OVVSQ OXMOS XGKBB\n",
      "4: FMZLE NZXXL YOPCD HPCPE CLTYP OEZWT YRPCZ YESPN ZYGZJ DACZU PNEPO WTYPZ QLOGL YNPLE ESPWT XTEZQ GTDTM TWTEJ FYETW ESPQL WWZQO LCVES PYEZD FCQLN PTQAZ DDTMW PHTES TYESP NZYGZ JNZWF XYDQT CPDLW GZPDQ CZXMZ HLYOD EPCYE FMPDD TXFWE LYPZF DWJLY OEZDF MXPCR PLYOX LVPES PTCPD NLAPL DESPP DNZCE DLAAP LCPOE SPOTQ QTNFW EJQZC ESPFM ZLEDH LDEZW ZNLEP LNZYG ZJTYE SPQTC DEAWL NPESP WTXTE ZQGTD TMTWT EJLEM PDEQC ZXLNZ YYTYR EZHPC HLDEP YXTWP DLALE CZWWT YPZQE PYFMZ LEDNZ FWOES PCPQZ CPNZG PCEHZ SFYOC POEHP YEJXT WPDZQ DPLLN ZYGZJ ZQQTQ EJDST ADXPL YHSTW PZNNF ATPOL QCZYE ZQZYW JEHPY EJQZF CSFYO CPOJL CODTY ESPPY ZCXZF DDALN PDZQE SPLEW LYETN LEWPL DEYTY PXTWW TZYDB FLCPX TWPDZ QZAPC LETZY LWHLE PCDES PZYPN ZFWOM PXTDD POMJE SPZES PCHTE SESPR CPLEP DEPLD PLYOF DFLWW JHLDM LOHPL ESPCA WLJPO LALCE STOTY RESPN ZYGZJ DQCZX RPCXL YPJPD ZCQZC NTYRF MZLED EZDPP VDSPW EPCQC ZXESP PWPXP YEDLE APCTD NZAPO PAESD ZOTOC ZFETY PLWEP CLETZ YDZQN ZFCDP LYOPX PCRPY NJEFC YDTQN ZYELN EHPCP XLOPO PWTMP CLEPC PCZFE TYRZQ NZYGZ JDSZH PGPCL HLJQC ZXALE CZWWT YPDLY OHZWQ ALNVD WZNLE POMJM WPENS WPJHL DESPX ZDEAC ZOFNE TGPXP ESZOO LGTOV LSYES PRCPL ESTDE ZCTLY ZQNCJ AEZRC LASJR TGPDL OCLXL ETNLN NZFYE ZQZYP DFNSC PCZFE TYRNZ YEPDE TYSTD MZZVZ YESPF MZLEH LCDPT KTYRE SPPYT RXLES TDALD DLRPP INPCA EPOQC ZXUZS YVPPR LYTYE PWWTR PYNPT YHLCC\n",
      "5: GNAMF OAYYM ZPQDE IQDQF DMUZQ PFAXU ZSQDA ZFTQO AZHAK EBDAV QOFQP XUZQA RMPHM ZOQMF FTQXU YUFAR HUEUN UXUFK GZFUX FTQRM XXARP MDWFT QZFAE GDRMO QURBA EEUNX QIUFT UZFTQ OAZHA KOAXG YZERU DQEMX HAQER DAYNA IMZPE FQDZF GNQEE UYGXF MZQAG EXKMZ PFAEG NYQDS QMZPY MWQFT QUDQE OMBQM EFTQQ EOADF EMBBQ MDQPF TQPUR RUOGX FKRAD FTQGN AMFEI MEFAX AOMFQ MOAZH AKUZF TQRUD EFBXM OQFTQ XUYUF ARHUE UNUXU FKMFN QEFRD AYMOA ZZUZS FAIQD IMEFQ ZYUXQ EMBMF DAXXU ZQARF QZGNA MFEOA GXPFT QDQRA DQOAH QDFIA TGZPD QPFIQ ZFKYU XQEAR EQMMO AZHAK ARRUR FKETU BEYQM ZITUX QAOOG BUQPM RDAZF ARAZX KFIQZ FKRAG DTGZP DQPKM DPEUZ FTQQZ ADYAG EEBMO QEARF TQMFX MZFUO MFXQM EFZUZ QYUXX UAZEC GMDQY UXQEA RABQD MFUAZ MXIMF QDEFT QAZQO AGXPN QYUEE QPNKF TQAFT QDIUF TFTQS DQMFQ EFQME QMZPG EGMXX KIMEN MPIQM FTQDB XMKQP MBMDF TUPUZ SFTQO AZHAK ERDAY SQDYM ZQKQE ADRAD OUZSG NAMFE FAEQQ WETQX FQDRD AYFTQ QXQYQ ZFEMF BQDUE OABQP QBFTE APUPD AGFUZ QMXFQ DMFUA ZEARO AGDEQ MZPQY QDSQZ OKFGD ZEURO AZFMO FIQDQ YMPQP QXUNQ DMFQD QDAGF UZSAR OAZHA KETAI QHQDM IMKRD AYBMF DAXXU ZQEMZ PIAXR BMOWE XAOMF QPNKN XQFOT XQKIM EFTQY AEFBD APGOF UHQYQ FTAPP MHUPW MTZFT QSDQM FTUEF ADUMZ ARODK BFASD MBTKS UHQEM PDMYM FUOMO OAGZF ARAZQ EGOTD QDAGF UZSOA ZFQEF UZTUE NAAWA ZFTQG NAMFI MDEQU LUZSF TQQZU SYMFT UEBME EMSQQ JOQDB FQPRD AYVAT ZWQQS MZUZF QXXUS QZOQU ZIMDD\n",
      "6: HOBNG PBZZN AQREF JRERG ENVAR QGBYV ATREB AGURP BAIBL FCEBW RPGRQ YVARB SNQIN APRNG GURYV ZVGBS IVFVO VYVGL HAGVY GURSN YYBSQ NEXGU RAGBF HESNP RVSCB FFVOY RJVGU VAGUR PBAIB LPBYH ZAFSV ERFNY IBRFS EBZOB JNAQF GREAG HORFF VZHYG NARBH FYLNA QGBFH OZRET RNAQZ NXRGU RVERF PNCRN FGURR FPBEG FNCCR NERQG URQVS SVPHY GLSBE GURHO BNGFJ NFGBY BPNGR NPBAI BLVAG URSVE FGCYN PRGUR YVZVG BSIVF VOVYV GLNGO RFGSE BZNPB AAVAT GBJRE JNFGR AZVYR FNCNG EBYYV ARBSG RAHOB NGFPB HYQGU RERSB ERPBI REGJB UHAQE RQGJR AGLZV YRFBS FRNNP BAIBL BSSVS GLFUV CFZRN AJUVY RBPPH CVRQN SEBAG BSBAY LGJRA GLSBH EUHAQ ERQLN EQFVA GURRA BEZBH FFCNP RFBSG URNGY NAGVP NGYRN FGAVA RZVYY VBAFD HNERZ VYRFB SBCRE NGVBA NYJNG REFGU RBARP BHYQO RZVFF RQOLG URBGU REJVG UGURT ERNGR FGRNF RNAQH FHNYY LJNFO NQJRN GUREC YNLRQ NCNEG UVQVA TGURP BAIBL FSEBZ TREZN ARLRF BESBE PVATH OBNGF GBFRR XFURY GRESE BZGUR RYRZR AGFNG CREVF PBCRQ RCGUF BQVQE BHGVA RNYGR ENGVB AFBSP BHEFR NAQRZ RETRA PLGHE AFVSP BAGNP GJRER ZNQRQ RYVOR ENGRE REBHG VATBS PBAIB LFUBJ RIREN JNLSE BZCNG EBYYV ARFNA QJBYS CNPXF YBPNG RQOLO YRGPU YRLJN FGURZ BFGCE BQHPG VIRZR GUBQQ NIVQX NUAGU RTERN GUVFG BEVNA BSPEL CGBTE NCULT VIRFN QENZN GVPNP PBHAG BSBAR FHPUE REBHG VATPB AGRFG VAUVF OBBXB AGURH OBNGJ NEFRV MVATG URRAV TZNGU VFCNF FNTRR KPREC GRQSE BZWBU AXRRT NAVAG RYYVT RAPRV AJNEE\n",
      "7: IPCOH QCAAO BRSFG KSFSH FOWBS RHCZW BUSFC BHVSQ CBJCM GDFCX SQHSR ZWBSC TORJO BQSOH HVSZW AWHCT JWGWP WZWHM IBHWZ HVSTO ZZCTR OFYHV SBHCG IFTOQ SWTDC GGWPZ SKWHV WBHVS QCBJC MQCZI ABGTW FSGOZ JCSGT FCAPC KOBRG HSFBH IPSGG WAIZH OBSCI GZMOB RHCGI PASFU SOBRA OYSHV SWFSG QODSO GHVSS GQCFH GODDS OFSRH VSRWT TWQIZ HMTCF HVSIP COHGK OGHCZ CQOHS OQCBJ CMWBH VSTWF GHDZO QSHVS ZWAWH CTJWG WPWZW HMOHP SGHTF CAOQC BBWBU HCKSF KOGHS BAWZS GODOH FCZZW BSCTH SBIPC OHGQC IZRHV SFSTC FSQCJ SFHKC VIBRF SRHKS BHMAW ZSGCT GSOOQ CBJCM CTTWT HMGVW DGASO BKVWZ SCQQI DWSRO TFCBH CTCBZ MHKSB HMTCI FVIBR FSRMO FRGWB HVSSB CFACI GGDOQ SGCTH VSOHZ OBHWQ OHZSO GHBWB SAWZZ WCBGE IOFSA WZSGC TCDSF OHWCB OZKOH SFGHV SCBSQ CIZRP SAWGG SRPMH VSCHV SFKWH VHVSU FSOHS GHSOG SOBRI GIOZZ MKOGP ORKSO HVSFD ZOMSR ODOFH VWRWB UHVSQ CBJCM GTFCA USFAO BSMSG CFTCF QWBUI PCOHG HCGSS YGVSZ HSFTF CAHVS SZSAS BHGOH DSFWG QCDSR SDHVG CRWRF CIHWB SOZHS FOHWC BGCTQ CIFGS OBRSA SFUSB QMHIF BGWTQ CBHOQ HKSFS AORSR SZWPS FOHSF SFCIH WBUCT QCBJC MGVCK SJSFO KOMTF CADOH FCZZW BSGOB RKCZT DOQYG ZCQOH SRPMP ZSHQV ZSMKO GHVSA CGHDF CRIQH WJSAS HVCRR OJWRY OVBHV SUFSO HVWGH CFWOB CTQFM DHCUF ODVMU WJSGO RFOAO HWQOQ QCIBH CTCBS GIQVF SFCIH WBUQC BHSGH WBVWG PCCYC BHVSI PCOHK OFGSW NWBUH VSSBW UAOHV WGDOG GOUSS LQSFD HSRTF CAXCV BYSSU OBWBH SZZWU SBQSW BKOFF\n",
      "8: JQDPI RDBBP CSTGH LTGTI GPXCT SIDAX CVTGD CIWTR DCKDN HEGDY TRITS AXCTD UPSKP CRTPI IWTAX BXIDU KXHXQ XAXIN JCIXA IWTUP AADUS PGZIW TCIDH JGUPR TXUED HHXQA TLXIW XCIWT RDCKD NRDAJ BCHUX GTHPA KDTHU GDBQD LPCSH ITGCI JQTHH XBJAI PCTDJ HANPC SIDHJ QBTGV TPCSB PZTIW TXGTH RPETP HIWTT HRDGI HPEET PGTSI WTSXU UXRJA INUDG IWTJQ DPIHL PHIDA DRPIT PRDCK DNXCI WTUXG HIEAP RTIWT AXBXI DUKXH XQXAX INPIQ THIUG DBPRD CCXCV IDLTG LPHIT CBXAT HPEPI GDAAX CTDUI TCJQD PIHRD JASIW TGTUD GTRDK TGILD WJCSG TSILT CINBX ATHDU HTPPR DCKDN DUUXU INHWX EHBTP CLWXA TDRRJ EXTSP UGDCI DUDCA NILTC INUDJ GWJCS GTSNP GSHXC IWTTC DGBDJ HHEPR THDUI WTPIA PCIXR PIATP HICXC TBXAA XDCHF JPGTB XATHD UDETG PIXDC PALPI TGHIW TDCTR DJASQ TBXHH TSQNI WTDIW TGLXI WIWTV GTPIT HITPH TPCSJ HJPAA NLPHQ PSLTP IWTGE APNTS PEPGI WXSXC VIWTR DCKDN HUGDB VTGBP CTNTH DGUDG RXCVJ QDPIH IDHTT ZHWTA ITGUG DBIWT TATBT CIHPI ETGXH RDETS TEIWH DSXSG DJIXC TPAIT GPIXD CHDUR DJGHT PCSTB TGVTC RNIJG CHXUR DCIPR ILTGT BPSTS TAXQT GPITG TGDJI XCVDU RDCKD NHWDL TKTGP LPNUG DBEPI GDAAX CTHPC SLDAU EPRZH ADRPI TSQNQ ATIRW ATNLP HIWTB DHIEG DSJRI XKTBT IWDSS PKXSZ PWCIW TVGTP IWXHI DGXPC DURGN EIDVG PEWNV XKTHP SGPBP IXRPR RDJCI DUDCT HJRWG TGDJI XCVRD CITHI XCWXH QDDZD CIWTJ QDPIL PGHTX OXCVI WTTCX VBPIW XHEPH HPVTT MRTGE ITSUG DBYDW CZTTV PCXCI TAAXV TCRTX CLPGG\n",
      "9: KREQJ SECCQ DTUHI MUHUJ HQYDU TJEBY DWUHE DJXUS EDLEO IFHEZ USJUT BYDUE VQTLQ DSUQJ JXUBY CYJEV LYIYR YBYJO KDJYB JXUVQ BBEVT QHAJX UDJEI KHVQS UYVFE IIYRB UMYJX YDJXU SEDLE OSEBK CDIVY HUIQB LEUIV HECRE MQDTI JUHDJ KRUII YCKBJ QDUEK IBOQD TJEIK RCUHW UQDTC QAUJX UYHUI SQFUQ IJXUU ISEHJ IQFFU QHUTJ XUTYV VYSKB JOVEH JXUKR EQJIM QIJEB ESQJU QSEDL EOYDJ XUVYH IJFBQ SUJXU BYCYJ EVLYI YRYBY JOQJR UIJVH ECQSE DDYDW JEMUH MQIJU DCYBU IQFQJ HEBBY DUEVJ UDKRE QJISE KBTJX UHUVE HUSEL UHJME XKDTH UTJMU DJOCY BUIEV IUQQS EDLEO EVVYV JOIXY FICUQ DMXYB UESSK FYUTQ VHEDJ EVEDB OJMUD JOVEK HXKDT HUTOQ HTIYD JXUUD EHCEK IIFQS UIEVJ XUQJB QDJYS QJBUQ IJDYD UCYBB YEDIG KQHUC YBUIE VEFUH QJYED QBMQJ UHIJX UEDUS EKBTR UCYII UTROJ XUEJX UHMYJ XJXUW HUQJU IJUQI UQDTK IKQBB OMQIR QTMUQ JXUHF BQOUT QFQHJ XYTYD WJXUS EDLEO IVHEC WUHCQ DUOUI EHVEH SYDWK REQJI JEIUU AIXUB JUHVH ECJXU UBUCU DJIQJ FUHYI SEFUT UFJXI ETYTH EKJYD UQBJU HQJYE DIEVS EKHIU QDTUC UHWUD SOJKH DIYVS EDJQS JMUHU CQTUT UBYRU HQJUH UHEKJ YDWEV SEDLE OIXEM ULUHQ MQOVH ECFQJ HEBBY DUIQD TMEBV FQSAI BESQJ UTROR BUJSX BUOMQ IJXUC EIJFH ETKSJ YLUCU JXETT QLYTA QXDJX UWHUQ JXYIJ EHYQD EVSHO FJEWH QFXOW YLUIQ THQCQ JYSQS SEKDJ EVEDU IKSXH UHEKJ YDWSE DJUIJ YDXYI REEAE DJXUK REQJM QHIUY PYDWJ XUUDY WCQJX YIFQI IQWUU NSUHF JUTVH ECZEX DAUUW QDYDJ UBBYW UDSUY DMQHH\n",
      "10: LSFRK TFDDR EUVIJ NVIVK IRZEV UKFCZ EXVIF EKYVT FEMFP JGIFA VTKVU CZEVF WRUMR ETVRK KYVCZ DZKFW MZJZS ZCZKP LEKZC KYVWR CCFWU RIBKY VEKFJ LIWRT VZWGF JJZSC VNZKY ZEKYV TFEMF PTFCL DEJWZ IVJRC MFVJW IFDSF NREUJ KVIEK LSVJJ ZDLCK REVFL JCPRE UKFJL SDVIX VREUD RBVKY VZIVJ TRGVR JKYVV JTFIK JRGGV RIVUK YVUZW WZTLC KPWFI KYVLS FRKJN RJKFC FTRKV RTFEM FPZEK YVWZI JKGCR TVKYV CZDZK FWMZJ ZSZCZ KPRKS VJKWI FDRTF EEZEX KFNVI NRJKV EDZCV JRGRK IFCCZ EVFWK VELSF RKJTF LCUKY VIVWF IVTFM VIKNF YLEUI VUKNV EKPDZ CVJFW JVRRT FEMFP FWWZW KPJYZ GJDVR ENYZC VFTTL GZVUR WIFEK FWFEC PKNVE KPWFL IYLEU IVUPR IUJZE KYVVE FIDFL JJGRT VJFWK YVRKC REKZT RKCVR JKEZE VDZCC ZFEJH LRIVD ZCVJF WFGVI RKZFE RCNRK VIJKY VFEVT FLCUS VDZJJ VUSPK YVFKY VINZK YKYVX IVRKV JKVRJ VREUL JLRCC PNRJS RUNVR KYVIG CRPVU RGRIK YZUZE XKYVT FEMFP JWIFD XVIDR EVPVJ FIWFI TZEXL SFRKJ KFJVV BJYVC KVIWI FDKYV VCVDV EKJRK GVIZJ TFGVU VGKYJ FUZUI FLKZE VRCKV IRKZF EJFWT FLIJV REUVD VIXVE TPKLI EJZWT FEKRT KNVIV DRUVU VCZSV IRKVI VIFLK ZEXFW TFEMF PJYFN VMVIR NRPWI FDGRK IFCCZ EVJRE UNFCW GRTBJ CFTRK VUSPS CVKTY CVPNR JKYVD FJKGI FULTK ZMVDV KYFUU RMZUB RYEKY VXIVR KYZJK FIZRE FWTIP GKFXI RGYPX ZMVJR UIRDR KZTRT TFLEK FWFEV JLTYI VIFLK ZEXTF EKVJK ZEYZJ SFFBF EKYVL SFRKN RIJVZ QZEXK YVVEZ XDRKY ZJGRJ JRXVV OTVIG KVUWI FDAFY EBVVX REZEK VCCZX VETVZ ENRII\n",
      "11: MTGSL UGEES FVWJK OWJWL JSAFW VLGDA FYWJG FLZWU GFNGQ KHJGB WULWV DAFWG XSVNS FUWSL LZWDA EALGX NAKAT ADALQ MFLAD LZWXS DDGXV SJCLZ WFLGK MJXSU WAXHG KKATD WOALZ AFLZW UGFNG QUGDM EFKXA JWKSD NGWKX JGETG OSFVK LWJFL MTWKK AEMDL SFWGM KDQSF VLGKM TEWJY WSFVE SCWLZ WAJWK USHWS KLZWW KUGJL KSHHW SJWVL ZWVAX XAUMD LQXGJ LZWMT GSLKO SKLGD GUSLW SUGFN GQAFL ZWXAJ KLHDS UWLZW DAEAL GXNAK ATADA LQSLT WKLXJ GESUG FFAFY LGOWJ OSKLW FEADW KSHSL JGDDA FWGXL WFMTG SLKUG MDVLZ WJWXG JWUGN WJLOG ZMFVJ WVLOW FLQEA DWKGX KWSSU GFNGQ GXXAX LQKZA HKEWS FOZAD WGUUM HAWVS XJGFL GXGFD QLOWF LQXGM JZMFV JWVQS JVKAF LZWWF GJEGM KKHSU WKGXL ZWSLD SFLAU SLDWS KLFAF WEADD AGFKI MSJWE ADWKG XGHWJ SLAGF SDOSL WJKLZ WGFWU GMDVT WEAKK WVTQL ZWGLZ WJOAL ZLZWY JWSLW KLWSK WSFVM KMSDD QOSKT SVOWS LZWJH DSQWV SHSJL ZAVAF YLZWU GFNGQ KXJGE YWJES FWQWK GJXGJ UAFYM TGSLK LGKWW CKZWD LWJXJ GELZW WDWEW FLKSL HWJAK UGHWV WHLZK GVAVJ GMLAF WSDLW JSLAG FKGXU GMJKW SFVWE WJYWF UQLMJ FKAXU GFLSU LOWJW ESVWV WDATW JSLWJ WJGML AFYGX UGFNG QKZGO WNWJS OSQXJ GEHSL JGDDA FWKSF VOGDX HSUCK DGUSL WVTQT DWLUZ DWQOS KLZWE GKLHJ GVMUL ANWEW LZGVV SNAVC SZFLZ WYJWS LZAKL GJASF GXUJQ HLGYJ SHZQY ANWKS VJSES LAUSU UGMFL GXGFW KMUZJ WJGML AFYUG FLWKL AFZAK TGGCG FLZWM TGSLO SJKWA RAFYL ZWWFA YESLZ AKHSK KSYWW PUWJH LWVXJ GEBGZ FCWWY SFAFL WDDAY WFUWA FOSJJ\n",
      "12: NUHTM VHFFT GWXKL PXKXM KTBGX WMHEB GZXKH GMAXV HGOHR LIKHC XVMXW EBGXH YTWOT GVXTM MAXEB FBMHY OBLBU BEBMR NGMBE MAXYT EEHYW TKDMA XGMHL NKYTV XBYIH LLBUE XPBMA BGMAX VHGOH RVHEN FGLYB KXLTE OHXLY KHFUH PTGWL MXKGM NUXLL BFNEM TGXHN LERTG WMHLN UFXKZ XTGWF TDXMA XBKXL VTIXT LMAXX LVHKM LTIIX TKXWM AXWBY YBVNE MRYHK MAXNU HTMLP TLMHE HVTMX TVHGO HRBGM AXYBK LMIET VXMAX EBFBM HYOBL BUBEB MRTMU XLMYK HFTVH GGBGZ MHPXK PTLMX GFBEX LTITM KHEEB GXHYM XGNUH TMLVH NEWMA XKXYH KXVHO XKMPH ANGWK XWMPX GMRFB EXLHY LXTTV HGOHR HYYBY MRLAB ILFXT GPABE XHVVN IBXWT YKHGM HYHGE RMPXG MRYHN KANGW KXWRT KWLBG MAXXG HKFHN LLITV XLHYM AXTME TGMBV TMEXT LMGBG XFBEE BHGLJ NTKXF BEXLH YHIXK TMBHG TEPTM XKLMA XHGXV HNEWU XFBLL XWURM AXHMA XKPBM AMAXZ KXTMX LMXTL XTGWN LNTEE RPTLU TWPXT MAXKI ETRXW TITKM ABWBG ZMAXV HGOHR LYKHF ZXKFT GXRXL HKYHK VBGZN UHTML MHLXX DLAXE MXKYK HFMAX XEXFX GMLTM IXKBL VHIXW XIMAL HWBWK HNMBG XTEMX KTMBH GLHYV HNKLX TGWXF XKZXG VRMNK GLBYV HGMTV MPXKX FTWXW XEBUX KTMXK XKHNM BGZHY VHGOH RLAHP XOXKT PTRYK HFITM KHEEB GXLTG WPHEY ITVDL EHVTM XWURU EXMVA EXRPT LMAXF HLMIK HWNVM BOXFX MAHWW TOBWD TAGMA XZKXT MABLM HKBTG HYVKR IMHZK TIARZ BOXLT WKTFT MBVTV VHNGM HYHGX LNVAK XKHNM BGZVH GMXLM BGABL UHHDH GMAXN UHTMP TKLXB SBGZM AXXGB ZFTMA BLITL LTZXX QVXKI MXWYK HFCHA GDXXZ TGBGM XEEBZ XGVXB GPTKK\n",
      "13: OVIUN WIGGU HXYLM QYLYN LUCHY XNIFC HAYLI HNBYW IHPIS MJLID YWNYX FCHYI ZUXPU HWYUN NBYFC GCNIZ PCMCV CFCNS OHNCF NBYZU FFIZX ULENB YHNIM OLZUW YCZJI MMCVF YQCNB CHNBY WIHPI SWIFO GHMZC LYMUF PIYMZ LIGVI QUHXM NYLHN OVYMM CGOFN UHYIO MFSUH XNIMO VGYLA YUHXG UEYNB YCLYM WUJYU MNBYY MWILN MUJJY ULYXN BYXCZ ZCWOF NSZIL NBYOV IUNMQ UMNIF IWUNY UWIHP ISCHN BYZCL MNJFU WYNBY FCGCN IZPCM CVCFC NSUNV YMNZL IGUWI HHCHA NIQYL QUMNY HGCFY MUJUN LIFFC HYIZN YHOVI UNMWI OFXNB YLYZI LYWIP YLNQI BOHXL YXNQY HNSGC FYMIZ MYUUW IHPIS IZZCZ NSMBC JMGYU HQBCF YIWWO JCYXU ZLIHN IZIHF SNQYH NSZIO LBOHX LYXSU LXMCH NBYYH ILGIO MMJUW YMIZN BYUNF UHNCW UNFYU MNHCH YGCFF CIHMK OULYG CFYMI ZIJYL UNCIH UFQUN YLMNB YIHYW IOFXV YGCMM YXVSN BYINB YLQCN BNBYA LYUNY MNYUM YUHXO MOUFF SQUMV UXQYU NBYLJ FUSYX UJULN BCXCH ANBYW IHPIS MZLIG AYLGU HYSYM ILZIL WCHAO VIUNM NIMYY EMBYF NYLZL IGNBY YFYGY HNMUN JYLCM WIJYX YJNBM IXCXL IONCH YUFNY LUNCI HMIZW IOLMY UHXYG YLAYH WSNOL HMCZW IHNUW NQYLY GUXYX YFCVY LUNYL YLION CHAIZ WIHPI SMBIQ YPYLU QUSZL IGJUN LIFFC HYMUH XQIFZ JUWEM FIWUN YXVSV FYNWB FYSQU MNBYG IMNJL IXOWN CPYGY NBIXX UPCXE UBHNB YALYU NBCMN ILCUH IZWLS JNIAL UJBSA CPYMU XLUGU NCWUW WIOHN IZIHY MOWBL YLION CHAWI HNYMN CHBCM VIIEI HNBYO VIUNQ ULMYC TCHAN BYYHC AGUNB CMJUM MUAYY RWYLJ NYXZL IGDIB HEYYA UHCHN YFFCA YHWYC HQULL\n",
      "14: PWJVO XJHHV IYZMN RZMZO MVDIZ YOJGD IBZMJ IOCZX JIQJT NKMJE ZXOZY GDIZJ AVYQV IXZVO OCZGD HDOJA QDNDW DGDOT PIODG OCZAV GGJAY VMFOC ZIOJN PMAVX ZDAKJ NNDWG ZRDOC DIOCZ XJIQJ TXJGP HINAD MZNVG QJZNA MJHWJ RVIYN OZMIO PWZNN DHPGO VIZJP NGTVI YOJNP WHZMB ZVIYH VFZOC ZDMZN XVKZV NOCZZ NXJMO NVKKZ VMZYO CZYDA ADXPG OTAJM OCZPW JVONR VNOJG JXVOZ VXJIQ JTDIO CZADM NOKGV XZOCZ GDHDO JAQDN DWDGD OTVOW ZNOAM JHVXJ IIDIB OJRZM RVNOZ IHDGZ NVKVO MJGGD IZJAO ZIPWJ VONXJ PGYOC ZMZAJ MZXJQ ZMORJ CPIYM ZYORZ IOTHD GZNJA NZVVX JIQJT JAADA OTNCD KNHZV IRCDG ZJXXP KDZYV AMJIO JAJIG TORZI OTAJP MCPIY MZYTV MYNDI OCZZI JMHJP NNKVX ZNJAO CZVOG VIODX VOGZV NOIDI ZHDGG DJINL PVMZH DGZNJ AJKZM VODJI VGRVO ZMNOC ZJIZX JPGYW ZHDNN ZYWTO CZJOC ZMRDO COCZB MZVOZ NOZVN ZVIYP NPVGG TRVNW VYRZV OCZMK GVTZY VKVMO CDYDI BOCZX JIQJT NAMJH BZMHV IZTZN JMAJM XDIBP WJVON OJNZZ FNCZG OZMAM JHOCZ ZGZHZ IONVO KZMDN XJKZY ZKOCN JYDYM JPODI ZVGOZ MVODJ INJAX JPMNZ VIYZH ZMBZI XTOPM INDAX JIOVX ORZMZ HVYZY ZGDWZ MVOZM ZMJPO DIBJA XJIQJ TNCJR ZQZMV RVTAM JHKVO MJGGD IZNVI YRJGA KVXFN GJXVO ZYWTW GZOXC GZTRV NOCZH JNOKM JYPXO DQZHZ OCJYY VQDYF VCIOC ZBMZV OCDNO JMDVI JAXMT KOJBM VKCTB DQZNV YMVHV ODXVX XJPIO JAJIZ NPXCM ZMJPO DIBXJ IOZNO DICDN WJJFJ IOCZP WJVOR VMNZD UDIBO CZZID BHVOC DNKVN NVBZZ SXZMK OZYAM JHEJC IFZZB VIDIO ZGGDB ZIXZD IRVMM\n",
      "15: QXKWP YKIIW JZANO SANAP NWEJA ZPKHE JCANK JPDAY KJRKU OLNKF AYPAZ HEJAK BWZRW JYAWP PDAHE IEPKB REOEX EHEPU QJPEH PDABW HHKBZ WNGPD AJPKO QNBWY AEBLK OOEXH ASEPD EJPDA YKJRK UYKHQ IJOBE NAOWH RKAOB NKIXK SWJZO PANJP QXAOO EIQHP WJAKQ OHUWJ ZPKOQ XIANC AWJZI WGAPD AENAO YWLAW OPDAA OYKNP OWLLA WNAZP DAZEB BEYQH PUBKN PDAQX KWPOS WOPKH KYWPA WYKJR KUEJP DABEN OPLHW YAPDA HEIEP KBREO EXEHE PUWPX AOPBN KIWYK JJEJC PKSAN SWOPA JIEHA OWLWP NKHHE JAKBP AJQXK WPOYK QHZPD ANABK NAYKR ANPSK DQJZN AZPSA JPUIE HAOKB OAWWY KJRKU KBBEB PUODE LOIAW JSDEH AKYYQ LEAZW BNKJP KBKJH UPSAJ PUBKQ NDQJZ NAZUW NZOEJ PDAAJ KNIKQ OOLWY AOKBP DAWPH WJPEY WPHAW OPJEJ AIEHH EKJOM QWNAI EHAOK BKLAN WPEKJ WHSWP ANOPD AKJAY KQHZX AIEOO AZXUP DAKPD ANSEP DPDAC NAWPA OPAWO AWJZQ OQWHH USWOX WZSAW PDANL HWUAZ WLWNP DEZEJ CPDAY KJRKU OBNKI CANIW JAUAO KNBKN YEJCQ XKWPO PKOAA GODAH PANBN KIPDA AHAIA JPOWP LANEO YKLAZ ALPDO KZEZN KQPEJ AWHPA NWPEK JOKBY KQNOA WJZAI ANCAJ YUPQN JOEBY KJPWY PSANA IWZAZ AHEXA NWPAN ANKQP EJCKB YKJRK UODKS ARANW SWUBN KILWP NKHHE JAOWJ ZSKHB LWYGO HKYWP AZXUX HAPYD HAUSW OPDAI KOPLN KZQYP ERAIA PDKZZ WREZG WDJPD ACNAW PDEOP KNEWJ KBYNU LPKCN WLDUC ERAOW ZNWIW PEYWY YKQJP KBKJA OQYDN ANKQP EJCYK JPAOP EJDEO XKKGK JPDAQ XKWPS WNOAE VEJCP DAAJE CIWPD EOLWO OWCAA TYANL PAZBN KIFKD JGAAC WJEJP AHHEC AJYAE JSWNN\n",
      "16: RYLXQ ZLJJX KABOP TBOBQ OXFKB AQLIF KDBOL KQEBZ LKSLV PMOLG BZQBA IFKBL CXASX KZBXQ QEBIF JFQLC SFPFY FIFQV RKQFI QEBCX IILCA XOHQE BKQLP ROCXZ BFCML PPFYI BTFQE FKQEB ZLKSL VZLIR JKPCF OBPXI SLBPC OLJYL TXKAP QBOKQ RYBPP FJRIQ XKBLR PIVXK AQLPR YJBOD BXKAJ XHBQE BFOBP ZXMBX PQEBB PZLOQ PXMMB XOBAQ EBAFC CFZRI QVCLO QEBRY LXQPT XPQLI LZXQB XZLKS LVFKQ EBCFO PQMIX ZBQEB IFJFQ LCSFP FYFIF QVXQY BPQCO LJXZL KKFKD QLTBO TXPQB KJFIB PXMXQ OLIIF KBLCQ BKRYL XQPZL RIAQE BOBCL OBZLS BOQTL ERKAO BAQTB KQVJF IBPLC PBXXZ LKSLV LCCFC QVPEF MPJBX KTEFI BLZZR MFBAX COLKQ LCLKI VQTBK QVCLR OERKA OBAVX OAPFK QEBBK LOJLR PPMXZ BPLCQ EBXQI XKQFZ XQIBX PQKFK BJFII FLKPN RXOBJ FIBPL CLMBO XQFLK XITXQ BOPQE BLKBZ LRIAY BJFPP BAYVQ EBLQE BOTFQ EQEBD OBXQB PQBXP BXKAR PRXII VTXPY XATBX QEBOM IXVBA XMXOQ EFAFK DQEBZ LKSLV PCOLJ DBOJX KBVBP LOCLO ZFKDR YLXQP QLPBB HPEBI QBOCO LJQEB BIBJB KQPXQ MBOFP ZLMBA BMQEP LAFAO LRQFK BXIQB OXQFL KPLCZ LROPB XKABJ BODBK ZVQRO KPFCZ LKQXZ QTBOB JXABA BIFYB OXQBO BOLRQ FKDLC ZLKSL VPELT BSBOX TXVCO LJMXQ OLIIF KBPXK ATLIC MXZHP ILZXQ BAYVY IBQZE IBVTX PQEBJ LPQMO LARZQ FSBJB QELAA XSFAH XEKQE BDOBX QEFPQ LOFXK LCZOV MQLDO XMEVD FSBPX AOXJX QFZXZ ZLRKQ LCLKB PRZEO BOLRQ FKDZL KQBPQ FKEFP YLLHL KQEBR YLXQT XOPBF WFKDQ EBBKF DJXQE FPMXP PXDBB UZBOM QBACO LJGLE KHBBD XKFKQ BIIFD BKZBF KTXOO\n",
      "17: SZMYR AMKKY LBCPQ UCPCR PYGLC BRMJG LECPM LRFCA MLTMW QNPMH CARCB JGLCM DYBTY LACYR RFCJG KGRMD TGQGZ GJGRW SLRGJ RFCDY JJMDB YPIRF CLRMQ SPDYA CGDNM QQGZJ CUGRF GLRFC AMLTM WAMJS KLQDG PCQYJ TMCQD PMKZM UYLBQ RCPLR SZCQQ GKSJR YLCMS QJWYL BRMQS ZKCPE CYLBK YICRF CGPCQ AYNCY QRFCC QAMPR QYNNC YPCBR FCBGD DGASJ RWDMP RFCSZ MYRQU YQRMJ MAYRC YAMLT MWGLR FCDGP QRNJY ACRFC JGKGR MDTGQ GZGJG RWYRZ CQRDP MKYAM LLGLE RMUCP UYQRC LKGJC QYNYR PMJJG LCMDR CLSZM YRQAM SJBRF CPCDM PCAMT CPRUM FSLBP CBRUC LRWKG JCQMD QCYYA MLTMW MDDGD RWQFG NQKCY LUFGJ CMAAS NGCBY DPMLR MDMLJ WRUCL RWDMS PFSLB PCBWY PBQGL RFCCL MPKMS QQNYA CQMDR FCYRJ YLRGA YRJCY QRLGL CKGJJ GMLQO SYPCK GJCQM DMNCP YRGML YJUYR CPQRF CMLCA MSJBZ CKGQQ CBZWR FCMRF CPUGR FRFCE PCYRC QRCYQ CYLBS QSYJJ WUYQZ YBUCY RFCPN JYWCB YNYPR FGBGL ERFCA MLTMW QDPMK ECPKY LCWCQ MPDMP AGLES ZMYRQ RMQCC IQFCJ RCPDP MKRFC CJCKC LRQYR NCPGQ AMNCB CNRFQ MBGBP MSRGL CYJRC PYRGM LQMDA MSPQC YLBCK CPECL AWRSP LQGDA MLRYA RUCPC KYBCB CJGZC PYRCP CPMSR GLEMD AMLTM WQFMU CTCPY UYWDP MKNYR PMJJG LCQYL BUMJD NYAIQ JMAYR CBZWZ JCRAF JCWUY QRFCK MQRNP MBSAR GTCKC RFMBB YTGBI YFLRF CEPCY RFGQR MPGYL MDAPW NRMEP YNFWE GTCQY BPYKY RGAYA AMSLR MDMLC QSAFP CPMSR GLEAM LRCQR GLFGQ ZMMIM LRFCS ZMYRU YPQCG XGLER FCCLG EKYRF GQNYQ QYECC VACPN RCBDP MKHMF LICCE YLGLR CJJGE CLACG LUYPP\n",
      "18: TANZS BNLLZ MCDQR VDQDS QZHMD CSNKH MFDQN MSGDB NMUNX ROQNI DBSDC KHMDN EZCUZ MBDZS SGDKH LHSNE UHRHA HKHSX TMSHK SGDEZ KKNEC ZQJSG DMSNR TQEZB DHEON RRHAK DVHSG HMSGD BNMUN XBNKT LMREH QDRZK UNDRE QNLAN VZMCR SDQMS TADRR HLTKS ZMDNT RKXZM CSNRT ALDQF DZMCL ZJDSG DHQDR BZODZ RSGDD RBNQS RZOOD ZQDCS GDCHE EHBTK SXENQ SGDTA NZSRV ZRSNK NBZSD ZBNMU NXHMS GDEHQ RSOKZ BDSGD KHLHS NEUHR HAHKH SXZSA DRSEQ NLZBN MMHMF SNVDQ VZRSD MLHKD RZOZS QNKKH MDNES DMTAN ZSRBN TKCSG DQDEN QDBNU DQSVN GTMCQ DCSVD MSXLH KDRNE RDZZB NMUNX NEEHE SXRGH ORLDZ MVGHK DNBBT OHDCZ EQNMS NENMK XSVDM SXENT QGTMC QDCXZ QCRHM SGDDM NQLNT RROZB DRNES GDZSK ZMSHB ZSKDZ RSMHM DLHKK HNMRP TZQDL HKDRN ENODQ ZSHNM ZKVZS DQRSG DNMDB NTKCA DLHRR DCAXS GDNSG DQVHS GSGDF QDZSD RSDZR DZMCT RTZKK XVZRA ZCVDZ SGDQO KZXDC ZOZQS GHCHM FSGDB NMUNX REQNL FDQLZ MDXDR NQENQ BHMFT ANZSR SNRDD JRGDK SDQEQ NLSGD DKDLD MSRZS ODQHR BNODC DOSGR NCHCQ NTSHM DZKSD QZSHN MRNEB NTQRD ZMCDL DQFDM BXSTQ MRHEB NMSZB SVDQD LZCDC DKHAD QZSDQ DQNTS HMFNE BNMUN XRGNV DUDQZ VZXEQ NLOZS QNKKH MDRZM CVNKE OZBJR KNBZS DCAXA KDSBG KDXVZ RSGDL NRSOQ NCTBS HUDLD SGNCC ZUHCJ ZGMSG DFQDZ SGHRS NQHZM NEBQX OSNFQ ZOGXF HUDRZ CQZLZ SHBZB BNTMS NENMD RTBGQ DQNTS HMFBN MSDRS HMGHR ANNJN MSGDT ANZSV ZQRDH YHMFS GDDMH FLZSG HROZR RZFDD WBDQO SDCEQ NLING MJDDF ZMHMS DKKHF DMBDH MVZQQ\n",
      "19: UBOAT COMMA NDERS WERET RAINE DTOLI NGERO NTHEC ONVOY SPROJ ECTED LINEO FADVA NCEAT THELI MITOF VISIB ILITY UNTIL THEFA LLOFD ARKTH ENTOS URFAC EIFPO SSIBL EWITH INTHE CONVO YCOLU MNSFI RESAL VOESF ROMBO WANDS TERNT UBESS IMULT ANEOU SLYAN DTOSU BMERG EANDM AKETH EIRES CAPEA STHEE SCORT SAPPE AREDT HEDIF FICUL TYFOR THEUB OATSW ASTOL OCATE ACONV OYINT HEFIR STPLA CETHE LIMIT OFVIS IBILI TYATB ESTFR OMACO NNING TOWER WASTE NMILE SAPAT ROLLI NEOFT ENUBO ATSCO ULDTH EREFO RECOV ERTWO HUNDR EDTWE NTYMI LESOF SEAAC ONVOY OFFIF TYSHI PSMEA NWHIL EOCCU PIEDA FRONT OFONL YTWEN TYFOU RHUND REDYA RDSIN THEEN ORMOU SSPAC ESOFT HEATL ANTIC ATLEA STNIN EMILL IONSQ UAREM ILESO FOPER ATION ALWAT ERSTH EONEC OULDB EMISS EDBYT HEOTH ERWIT HTHEG REATE STEAS EANDU SUALL YWASB ADWEA THERP LAYED APART HIDIN GTHEC ONVOY SFROM GERMA NEYES ORFOR CINGU BOATS TOSEE KSHEL TERFR OMTHE ELEME NTSAT PERIS COPED EPTHS ODIDR OUTIN EALTE RATIO NSOFC OURSE ANDEM ERGEN CYTUR NSIFC ONTAC TWERE MADED ELIBE RATER EROUT INGOF CONVO YSHOW EVERA WAYFR OMPAT ROLLI NESAN DWOLF PACKS LOCAT EDBYB LETCH LEYWA STHEM OSTPR ODUCT IVEME THODD AVIDK AHNTH EGREA THIST ORIAN OFCRY PTOGR APHYG IVESA DRAMA TICAC COUNT OFONE SUCHR EROUT INGCO NTEST INHIS BOOKO NTHEU BOATW ARSEI ZINGT HEENI GMATH ISPAS SAGEE XCERP TEDFR OMJOH NKEEG ANINT ELLIG ENCEI NWARR\n",
      "20: VCPBU DPNNB OEFST XFSFU SBJOF EUPMJ OHFSP OUIFD POWPZ TQSPK FDUFE MJOFP GBEWB ODFBU UIFMJ NJUPG WJTJC JMJUZ VOUJM UIFGB MMPGE BSLUI FOUPT VSGBD FJGQP TTJCM FXJUI JOUIF DPOWP ZDPMV NOTGJ SFTBM WPFTG SPNCP XBOET UFSOU VCFTT JNVMU BOFPV TMZBO EUPTV CNFSH FBOEN BLFUI FJSFT DBQFB TUIFF TDPSU TBQQF BSFEU IFEJG GJDVM UZGPS UIFVC PBUTX BTUPM PDBUF BDPOW PZJOU IFGJS TUQMB DFUIF MJNJU PGWJT JCJMJ UZBUC FTUGS PNBDP OOJOH UPXFS XBTUF ONJMF TBQBU SPMMJ OFPGU FOVCP BUTDP VMEUI FSFGP SFDPW FSUXP IVOES FEUXF OUZNJ MFTPG TFBBD POWPZ PGGJG UZTIJ QTNFB OXIJM FPDDV QJFEB GSPOU PGPOM ZUXFO UZGPV SIVOE SFEZB SETJO UIFFO PSNPV TTQBD FTPGU IFBUM BOUJD BUMFB TUOJO FNJMM JPOTR VBSFN JMFTP GPQFS BUJPO BMXBU FSTUI FPOFD PVMEC FNJTT FECZU IFPUI FSXJU IUIFH SFBUF TUFBT FBOEV TVBMM ZXBTC BEXFB UIFSQ MBZFE BQBSU IJEJO HUIFD POWPZ TGSPN HFSNB OFZFT PSGPS DJOHV CPBUT UPTFF LTIFM UFSGS PNUIF FMFNF OUTBU QFSJT DPQFE FQUIT PEJES PVUJO FBMUF SBUJP OTPGD PVSTF BOEFN FSHFO DZUVS OTJGD POUBD UXFSF NBEFE FMJCF SBUFS FSPVU JOHPG DPOWP ZTIPX FWFSB XBZGS PNQBU SPMMJ OFTBO EXPMG QBDLT MPDBU FECZC MFUDI MFZXB TUIFN PTUQS PEVDU JWFNF UIPEE BWJEL BIOUI FHSFB UIJTU PSJBO PGDSZ QUPHS BQIZH JWFTB ESBNB UJDBD DPVOU PGPOF TVDIS FSPVU JOHDP OUFTU JOIJT CPPLP OUIFV CPBUX BSTFJ AJOHU IFFOJ HNBUI JTQBT TBHFF YDFSQ UFEGS PNKPI OLFFH BOJOU FMMJH FODFJ OXBSS\n",
      "21: WDQCV EQOOC PFGTU YGTGV TCKPG FVQNK PIGTQ PVJGE QPXQA URTQL GEVGF NKPGQ HCFXC PEGCV VJGNK OKVQH XKUKD KNKVA WPVKN VJGHC NNQHF CTMVJ GPVQU WTHCE GKHRQ UUKDN GYKVJ KPVJG EQPXQ AEQNW OPUHK TGUCN XQGUH TQODQ YCPFU VGTPV WDGUU KOWNV CPGQW UNACP FVQUW DOGTI GCPFO CMGVJ GKTGU ECRGC UVJGG UEQTV UCRRG CTGFV JGFKH HKEWN VAHQT VJGWD QCVUY CUVQN QECVG CEQPX QAKPV JGHKT UVRNC EGVJG NKOKV QHXKU KDKNK VACVD GUVHT QOCEQ PPKPI VQYGT YCUVG POKNG UCRCV TQNNK PGQHV GPWDQ CVUEQ WNFVJ GTGHQ TGEQX GTVYQ JWPFT GFVYG PVAOK NGUQH UGCCE QPXQA QHHKH VAUJK RUOGC PYJKN GQEEW RKGFC HTQPV QHQPN AVYGP VAHQW TJWPF TGFAC TFUKP VJGGP QTOQW UURCE GUQHV JGCVN CPVKE CVNGC UVPKP GOKNN KQPUS WCTGO KNGUQ HQRGT CVKQP CNYCV GTUVJ GQPGE QWNFD GOKUU GFDAV JGQVJ GTYKV JVJGI TGCVG UVGCU GCPFW UWCNN AYCUD CFYGC VJGTR NCAGF CRCTV JKFKP IVJGE QPXQA UHTQO IGTOC PGAGU QTHQT EKPIW DQCVU VQUGG MUJGN VGTHT QOVJG GNGOG PVUCV RGTKU EQRGF GRVJU QFKFT QWVKP GCNVG TCVKQ PUQHE QWTUG CPFGO GTIGP EAVWT PUKHE QPVCE VYGTG OCFGF GNKDG TCVGT GTQWV KPIQH EQPXQ AUJQY GXGTC YCAHT QORCV TQNNK PGUCP FYQNH RCEMU NQECV GFDAD NGVEJ NGAYC UVJGO QUVRT QFWEV KXGOG VJQFF CXKFM CJPVJ GITGC VJKUV QTKCP QHETA RVQIT CRJAI KXGUC FTCOC VKECE EQWPV QHQPG UWEJT GTQWV KPIEQ PVGUV KPJKU DQQMQ PVJGW DQCVY CTUGK BKPIV JGGPK IOCVJ KURCU UCIGG ZEGTR VGFHT QOLQJ PMGGI CPKPV GNNKI GPEGK PYCTT\n",
      "22: XERDW FRPPD QGHUV ZHUHW UDLQH GWROL QJHUR QWKHF RQYRB VSURM HFWHG OLQHR IDGYD QFHDW WKHOL PLWRI YLVLE LOLWB XQWLO WKHID OORIG DUNWK HQWRV XUIDF HLISR VVLEO HZLWK LQWKH FRQYR BFROX PQVIL UHVDO YRHVI URPER ZDQGV WHUQW XEHVV LPXOW DQHRX VOBDQ GWRVX EPHUJ HDQGP DNHWK HLUHV FDSHD VWKHH VFRUW VDSSH DUHGW KHGLI ILFXO WBIRU WKHXE RDWVZ DVWRO RFDWH DFRQY RBLQW KHILU VWSOD FHWKH OLPLW RIYLV LELOL WBDWE HVWIU RPDFR QQLQJ WRZHU ZDVWH QPLOH VDSDW UROOL QHRIW HQXER DWVFR XOGWK HUHIR UHFRY HUWZR KXQGU HGWZH QWBPL OHVRI VHDDF RQYRB RIILI WBVKL SVPHD QZKLO HRFFX SLHGD IURQW RIRQO BWZHQ WBIRX UKXQG UHGBD UGVLQ WKHHQ RUPRX VVSDF HVRIW KHDWO DQWLF DWOHD VWQLQ HPLOO LRQVT XDUHP LOHVR IRSHU DWLRQ DOZDW HUVWK HRQHF RXOGE HPLVV HGEBW KHRWK HUZLW KWKHJ UHDWH VWHDV HDQGX VXDOO BZDVE DGZHD WKHUS ODBHG DSDUW KLGLQ JWKHF RQYRB VIURP JHUPD QHBHV RUIRU FLQJX ERDWV WRVHH NVKHO WHUIU RPWKH HOHPH QWVDW SHULV FRSHG HSWKV RGLGU RXWLQ HDOWH UDWLR QVRIF RXUVH DQGHP HUJHQ FBWXU QVLIF RQWDF WZHUH PDGHG HOLEH UDWHU HURXW LQJRI FRQYR BVKRZ HYHUD ZDBIU RPSDW UROOL QHVDQ GZROI SDFNV ORFDW HGEBE OHWFK OHBZD VWKHP RVWSU RGXFW LYHPH WKRGG DYLGN DKQWK HJUHD WKLVW RULDQ RIFUB SWRJU DSKBJ LYHVD GUDPD WLFDF FRXQW RIRQH VXFKU HURXW LQJFR QWHVW LQKLV ERRNR QWKHX ERDWZ DUVHL CLQJW KHHQL JPDWK LVSDV VDJHH AFHUS WHGIU RPMRK QNHHJ DQLQW HOOLJ HQFHL QZDUU\n",
      "23: YFSEX GSQQE RHIVW AIVIX VEMRI HXSPM RKIVS RXLIG SRZSC WTVSN IGXIH PMRIS JEHZE RGIEX XLIPM QMXSJ ZMWMF MPMXC YRXMP XLIJE PPSJH EVOXL IRXSW YVJEG IMJTS WWMFP IAMXL MRXLI GSRZS CGSPY QRWJM VIWEP ZSIWJ VSQFS AERHW XIVRX YFIWW MQYPX ERISY WPCER HXSWY FQIVK IERHQ EOIXL IMVIW GETIE WXLII WGSVX WETTI EVIHX LIHMJ JMGYP XCJSV XLIYF SEXWA EWXSP SGEXI EGSRZ SCMRX LIJMV WXTPE GIXLI PMQMX SJZMW MFMPM XCEXF IWXJV SQEGS RRMRK XSAIV AEWXI RQMPI WETEX VSPPM RISJX IRYFS EXWGS YPHXL IVIJS VIGSZ IVXAS LYRHV IHXAI RXCQM PIWSJ WIEEG SRZSC SJJMJ XCWLM TWQIE RALMP ISGGY TMIHE JVSRX SJSRP CXAIR XCJSY VLYRH VIHCE VHWMR XLIIR SVQSY WWTEG IWSJX LIEXP ERXMG EXPIE WXRMR IQMPP MSRWU YEVIQ MPIWS JSTIV EXMSR EPAEX IVWXL ISRIG SYPHF IQMWW IHFCX LISXL IVAMX LXLIK VIEXI WXIEW IERHY WYEPP CAEWF EHAIE XLIVT PECIH ETEVX LMHMR KXLIG SRZSC WJVSQ KIVQE RICIW SVJSV GMRKY FSEXW XSWII OWLIP XIVJV SQXLI IPIQI RXWEX TIVMW GSTIH ITXLW SHMHV SYXMR IEPXI VEXMS RWSJG SYVWI ERHIQ IVKIR GCXYV RWMJG SRXEG XAIVI QEHIH IPMFI VEXIV IVSYX MRKSJ GSRZS CWLSA IZIVE AECJV SQTEX VSPPM RIWER HASPJ TEGOW PSGEX IHFCF PIXGL PICAE WXLIQ SWXTV SHYGX MZIQI XLSHH EZMHO ELRXL IKVIE XLMWX SVMER SJGVC TXSKV ETLCK MZIWE HVEQE XMGEG GSYRX SJSRI WYGLV IVSYX MRKGS RXIWX MRLMW FSSOS RXLIY FSEXA EVWIM DMRKX LIIRM KQEXL MWTEW WEKII BGIVT XIHJV SQNSL ROIIK ERMRX IPPMK IRGIM RAEVV\n",
      "24: ZGTFY HTRRF SIJWX BJWJY WFNSJ IYTQN SLJWT SYMJH TSATD XUWTO JHYJI QNSJT KFIAF SHJFY YMJQN RNYTK ANXNG NQNYD ZSYNQ YMJKF QQTKI FWPYM JSYTX ZWKFH JNKUT XXNGQ JBNYM NSYMJ HTSAT DHTQZ RSXKN WJXFQ ATJXK WTRGT BFSIX YJWSY ZGJXX NRZQY FSJTZ XQDFS IYTXZ GRJWL JFSIR FPJYM JNWJX HFUJF XYMJJ XHTWY XFUUJ FWJIY MJINK KNHZQ YDKTW YMJZG TFYXB FXYTQ THFYJ FHTSA TDNSY MJKNW XYUQF HJYMJ QNRNY TKANX NGNQN YDFYG JXYKW TRFHT SSNSL YTBJW BFXYJ SRNQJ XFUFY WTQQN SJTKY JSZGT FYXHT ZQIYM JWJKT WJHTA JWYBT MZSIW JIYBJ SYDRN QJXTK XJFFH TSATD TKKNK YDXMN UXRJF SBMNQ JTHHZ UNJIF KWTSY TKTSQ DYBJS YDKTZ WMZSI WJIDF WIXNS YMJJS TWRTZ XXUFH JXTKY MJFYQ FSYNH FYQJF XYSNS JRNQQ NTSXV ZFWJR NQJXT KTUJW FYNTS FQBFY JWXYM JTSJH TZQIG JRNXX JIGDY MJTYM JWBNY MYMJL WJFYJ XYJFX JFSIZ XZFQQ DBFXG FIBJF YMJWU QFDJI FUFWY MNINS LYMJH TSATD XKWTR LJWRF SJDJX TWKTW HNSLZ GTFYX YTXJJ PXMJQ YJWKW TRYMJ JQJRJ SYXFY UJWNX HTUJI JUYMX TINIW TZYNS JFQYJ WFYNT SXTKH TZWXJ FSIJR JWLJS HDYZW SXNKH TSYFH YBJWJ RFIJI JQNGJ WFYJW JWTZY NSLTK HTSAT DXMTB JAJWF BFDKW TRUFY WTQQN SJXFS IBTQK UFHPX QTHFY JIGDG QJYHM QJDBF XYMJR TXYUW TIZHY NAJRJ YMTII FANIP FMSYM JLWJF YMNXY TWNFS TKHWD UYTLW FUMDL NAJXF IWFRF YNHFH HTZSY TKTSJ XZHMW JWTZY NSLHT SYJXY NSMNX GTTPT SYMJZ GTFYB FWXJN ENSLY MJJSN LRFYM NXUFX XFLJJ CHJWU YJIKW TROTM SPJJL FSNSY JQQNL JSHJN SBFWW\n",
      "25: AHUGZ IUSSG TJKXY CKXKZ XGOTK JZURO TMKXU TZNKI UTBUE YVXUP KIZKJ ROTKU LGJBG TIKGZ ZNKRO SOZUL BOYOH OROZE ATZOR ZNKLG RRULJ GXQZN KTZUY AXLGI KOLVU YYOHR KCOZN OTZNK IUTBU EIURA STYLO XKYGR BUKYL XUSHU CGTJY ZKXTZ AHKYY OSARZ GTKUA YREGT JZUYA HSKXM KGTJS GQKZN KOXKY IGVKG YZNKK YIUXZ YGVVK GXKJZ NKJOL LOIAR ZELUX ZNKAH UGZYC GYZUR UIGZK GIUTB UEOTZ NKLOX YZVRG IKZNK ROSOZ ULBOY OHORO ZEGZH KYZLX USGIU TTOTM ZUCKX CGYZK TSORK YGVGZ XURRO TKULZ KTAHU GZYIU ARJZN KXKLU XKIUB KXZCU NATJX KJZCK TZESO RKYUL YKGGI UTBUE ULLOL ZEYNO VYSKG TCNOR KUIIA VOKJG LXUTZ ULUTR EZCKT ZELUA XNATJ XKJEG XJYOT ZNKKT UXSUA YYVGI KYULZ NKGZR GTZOI GZRKG YZTOT KSORR OUTYW AGXKS ORKYU LUVKX GZOUT GRCGZ KXYZN KUTKI UARJH KSOYY KJHEZ NKUZN KXCOZ NZNKM XKGZK YZKGY KGTJA YAGRR ECGYH GJCKG ZNKXV RGEKJ GVGXZ NOJOT MZNKI UTBUE YLXUS MKXSG TKEKY UXLUX IOTMA HUGZY ZUYKK QYNKR ZKXLX USZNK KRKSK TZYGZ VKXOY IUVKJ KVZNY UJOJX UAZOT KGRZK XGZOU TYULI UAXYK GTJKS KXMKT IEZAX TYOLI UTZGI ZCKXK SGJKJ KROHK XGZKX KXUAZ OTMUL IUTBU EYNUC KBKXG CGELX USVGZ XURRO TKYGT JCURL VGIQY RUIGZ KJHEH RKZIN RKECG YZNKS UYZVX UJAIZ OBKSK ZNUJJ GBOJQ GNTZN KMXKG ZNOYZ UXOGT ULIXE VZUMX GVNEM OBKYG JXGSG ZOIGI IUATZ ULUTK YAINX KXUAZ OTMIU TZKYZ OTNOY HUUQU TZNKA HUGZC GXYKO FOTMZ NKKTO MSGZN OYVGY YGMKK DIKXV ZKJLX USPUN TQKKM GTOTZ KRROM KTIKO TCGXX\n"
     ]
    }
   ],
   "source": [
    "def shiftRight(letter, num):\n",
    "    if letter == ' ':\n",
    "        return letter\n",
    "    return chr((ord(letter) - ord('A') + num) % 26 + 65)\n",
    "\n",
    "for i in range(26):\n",
    "    unencryptedText = \"\".join(list(map(lambda x: shiftRight(x, i), cipherText)))\n",
    "    print(f'{i}: {unencryptedText}')"
   ]
  },
  {
   "cell_type": "code",
   "execution_count": 23,
   "metadata": {},
   "outputs": [
    {
     "name": "stdout",
     "output_type": "stream",
     "text": [
      "\n",
      "uboat comma nders weret raine dtoli ngero nthec onvoy sproj \n",
      "ected lineo fadva nceat theli mitof visib ility until thefa \n",
      "llofd arkth entos urfac eifpo ssibl ewith inthe convo ycolu \n",
      "mnsfi resal voesf rombo wands ternt ubess imult aneou slyan \n",
      "dtosu bmerg eandm aketh eires capea sthee scort sappe aredt \n",
      "hedif ficul tyfor theub oatsw astol ocate aconv oyint hefir \n",
      "stpla cethe limit ofvis ibili tyatb estfr omaco nning tower \n",
      "waste nmile sapat rolli neoft enubo atsco uldth erefo recov \n",
      "ertwo hundr edtwe ntymi lesof seaac onvoy offif tyshi psmea \n",
      "nwhil eoccu pieda front ofonl ytwen tyfou rhund redya rdsin \n",
      "theen ormou sspac esoft heatl antic atlea stnin emill ionsq \n",
      "uarem ileso foper ation alwat ersth eonec ouldb emiss edbyt \n",
      "heoth erwit htheg reate steas eandu suall ywasb adwea therp \n",
      "layed apart hidin gthec onvoy sfrom germa neyes orfor cingu \n",
      "boats tosee kshel terfr omthe eleme ntsat peris coped epths \n",
      "odidr outin ealte ratio nsofc ourse andem ergen cytur nsifc \n",
      "ontac twere maded elibe rater erout ingof convo yshow evera \n",
      "wayfr ompat rolli nesan dwolf packs locat edbyb letch leywa \n",
      "sthem ostpr oduct iveme thodd avidk ahnth egrea thist orian \n",
      "ofcry ptogr aphyg ivesa drama ticac count ofone suchr erout \n",
      "ingco ntest inhis booko ntheu boatw arsei zingt heeni gmath \n",
      "ispas sagee xcerp tedfr omjoh nkeeg anint ellig encei nwarr "
     ]
    }
   ],
   "source": [
    "unencryptedText = \"\".join(list(map(lambda x: shiftRight(x, 19), cipherText)))\n",
    "\n",
    "for i, let in enumerate(unencryptedText.split(' ')):\n",
    "    if i % 10 == 0:\n",
    "        print()\n",
    "    print(let.lower(), end=\" \")\n"
   ]
  }
 ],
 "metadata": {
  "kernelspec": {
   "display_name": "Python 3",
   "language": "python",
   "name": "python3"
  },
  "language_info": {
   "codemirror_mode": {
    "name": "ipython",
    "version": 3
   },
   "file_extension": ".py",
   "mimetype": "text/x-python",
   "name": "python",
   "nbconvert_exporter": "python",
   "pygments_lexer": "ipython3",
   "version": "3.11.3"
  },
  "orig_nbformat": 4
 },
 "nbformat": 4,
 "nbformat_minor": 2
}
