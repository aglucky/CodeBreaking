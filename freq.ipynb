{
 "cells": [
  {
   "cell_type": "code",
   "execution_count": 60,
   "metadata": {},
   "outputs": [],
   "source": [
    "import plotly.express as px\n",
    "from collections import Counter\n",
    "import json"
   ]
  },
  {
   "cell_type": "code",
   "execution_count": 61,
   "metadata": {},
   "outputs": [
    {
     "data": {
      "text/plain": [
       "'BIVHA JVTTH UKLYZ DLYLA YHPUL KAVSP UNLYV UAOLJ VUCVF ZWYVQLJALK SPULV MHKCH UJLHA AOLSP TPAVM CPZPI PSPAF BUAPS AOLMHSSVMK HYRAO LUAVZ BYMHJ LPMWV ZZPIS LDPAO PUAOL JVUCV FJVSBTUZMP YLZHS CVLZM YVTIV DHUKZ ALYUA BILZZ PTBSA HULVB ZSFHUKAVZB ITLYN LHUKT HRLAO LPYLZ JHWLH ZAOLL ZJVYA ZHWWL HYLKAOLKPM MPJBS AFMVY AOLBI VHAZD HZAVS VJHAL HJVUC VFPUA OLMPYZAWSH JLAOL SPTPA VMCPZ PIPSP AFHAI LZAMY VTHJV UUPUN AVDLYDHZAL UTPSL ZHWHA YVSSP ULVMA LUBIV HAZJV BSKAO LYLMV YLJVCLYADV OBUKY LKADL UAFTP SLZVM ZLHHJ VUCVF VMMPM AFZOP WZTLHUDOPS LVJJB WPLKH MYVUA VMVUS FADLU AFMVB YOBUK YLKFH YKZPUAOLLU VYTVB ZZWHJ LZVMA OLHAS HUAPJ HASLH ZAUPU LTPSS PVUZXBHYLT PSLZV MVWLY HAPVU HSDHA LYZAO LVULJ VBSKI LTPZZ LKIFAOLVAO LYDPA OAOLN YLHAL ZALHZ LHUKB ZBHSS FDHZI HKDLH AOLYWSHFLK HWHYA OPKPU NAOLJ VUCVF ZMYVT NLYTH ULFLZ VYMVY JPUNBIVHAZ AVZLL RZOLS ALYMY VTAOL LSLTL UAZHA WLYPZ JVWLK LWAOZVKPKY VBAPU LHSAL YHAPV UZVMJ VBYZL HUKLT LYNLU JFABY UZPMJVUAHJ ADLYL THKLK LSPIL YHALY LYVBA PUNVM JVUCV FZOVD LCLYHDHFMY VTWHA YVSSP ULZHU KDVSM WHJRZ SVJHA LKIFI SLAJO SLFDHZAOLT VZAWY VKBJA PCLTL AOVKK HCPKR HOUAO LNYLH AOPZA VYPHUVMJYF WAVNY HWOFN PCLZH KYHTH APJHJ JVBUA VMVUL ZBJOY LYVBAPUNJV UALZA PUOPZ IVVRV UAOLB IVHAD HYZLP GPUNA OLLUP NTHAOPZWHZ ZHNLL EJLYW ALKMY VTQVO URLLN HUPUA LSSPN LUJLP UDHYY'"
      ]
     },
     "execution_count": 61,
     "metadata": {},
     "output_type": "execute_result"
    }
   ],
   "source": [
    "with open(\"HW1.txt\", \"r\") as f:\n",
    "    cipherText = f.read()\n",
    "\n",
    "cipherText = cipherText.replace(\"\\t\", \"\").replace(\"\\n\", \"\")\n",
    "cipherText"
   ]
  },
  {
   "cell_type": "code",
   "execution_count": 62,
   "metadata": {},
   "outputs": [
    {
     "data": {
      "text/plain": [
       "Counter({'L': 136,\n",
       "         'A': 103,\n",
       "         'V': 98,\n",
       "         'H': 86,\n",
       "         'U': 72,\n",
       "         'P': 71,\n",
       "         'Z': 69,\n",
       "         'Y': 67,\n",
       "         'S': 46,\n",
       "         'O': 44,\n",
       "         'J': 42,\n",
       "         'K': 37,\n",
       "         'M': 36,\n",
       "         'B': 31,\n",
       "         'T': 29,\n",
       "         'F': 25,\n",
       "         'W': 23,\n",
       "         'D': 21,\n",
       "         'I': 19,\n",
       "         'N': 18,\n",
       "         'C': 15,\n",
       "         'R': 7,\n",
       "         'Q': 2,\n",
       "         'X': 1,\n",
       "         'G': 1,\n",
       "         'E': 1})"
      ]
     },
     "execution_count": 62,
     "metadata": {},
     "output_type": "execute_result"
    }
   ],
   "source": [
    "freq = Counter(cipherText)\n",
    "freq.pop(' ')\n",
    "freq"
   ]
  },
  {
   "cell_type": "code",
   "execution_count": 63,
   "metadata": {},
   "outputs": [
    {
     "data": {
      "text/plain": [
       "{'a': 8.167,\n",
       " 'b': 1.492,\n",
       " 'c': 2.782,\n",
       " 'd': 4.253,\n",
       " 'e': 12.702,\n",
       " 'f': 2.228,\n",
       " 'g': 2.015,\n",
       " 'h': 6.094,\n",
       " 'i': 6.966,\n",
       " 'j': 0.153,\n",
       " 'k': 0.772,\n",
       " 'l': 4.025,\n",
       " 'm': 2.406,\n",
       " 'n': 6.749,\n",
       " 'o': 7.507,\n",
       " 'p': 1.929,\n",
       " 'q': 0.095,\n",
       " 'r': 5.987,\n",
       " 's': 6.327,\n",
       " 't': 9.056,\n",
       " 'u': 2.758,\n",
       " 'v': 0.978,\n",
       " 'w': 2.36,\n",
       " 'x': 0.15,\n",
       " 'y': 1.974,\n",
       " 'z': 0.074}"
      ]
     },
     "execution_count": 63,
     "metadata": {},
     "output_type": "execute_result"
    }
   ],
   "source": [
    "with open(\"English_Freq.json\") as f:\n",
    "    engFreq = json.load(f)\n",
    "engFreq"
   ]
  },
  {
   "cell_type": "code",
   "execution_count": 64,
   "metadata": {},
   "outputs": [
    {
     "data": {
      "application/vnd.plotly.v1+json": {
       "config": {
        "plotlyServerURL": "https://plot.ly"
       },
       "data": [
        {
         "alignmentgroup": "True",
         "hovertemplate": "x=%{x}<br>y=%{y}<extra></extra>",
         "legendgroup": "",
         "marker": {
          "color": "#636efa",
          "pattern": {
           "shape": ""
          }
         },
         "name": "",
         "offsetgroup": "",
         "orientation": "v",
         "showlegend": false,
         "textposition": "auto",
         "type": "bar",
         "x": [
          "A",
          "B",
          "C",
          "D",
          "E",
          "F",
          "G",
          "H",
          "I",
          "J",
          "K",
          "L",
          "M",
          "N",
          "O",
          "P",
          "Q",
          "R",
          "S",
          "T",
          "U",
          "V",
          "W",
          "X",
          "Y",
          "Z"
         ],
         "xaxis": "x",
         "y": [
          31,
          19,
          98,
          86,
          103,
          42,
          29,
          72,
          37,
          136,
          67,
          69,
          21,
          71,
          46,
          18,
          44,
          15,
          25,
          23,
          2,
          36,
          7,
          1,
          1,
          1
         ],
         "yaxis": "y"
        }
       ],
       "layout": {
        "barmode": "relative",
        "legend": {
         "tracegroupgap": 0
        },
        "template": {
         "data": {
          "bar": [
           {
            "error_x": {
             "color": "#2a3f5f"
            },
            "error_y": {
             "color": "#2a3f5f"
            },
            "marker": {
             "line": {
              "color": "#E5ECF6",
              "width": 0.5
             },
             "pattern": {
              "fillmode": "overlay",
              "size": 10,
              "solidity": 0.2
             }
            },
            "type": "bar"
           }
          ],
          "barpolar": [
           {
            "marker": {
             "line": {
              "color": "#E5ECF6",
              "width": 0.5
             },
             "pattern": {
              "fillmode": "overlay",
              "size": 10,
              "solidity": 0.2
             }
            },
            "type": "barpolar"
           }
          ],
          "carpet": [
           {
            "aaxis": {
             "endlinecolor": "#2a3f5f",
             "gridcolor": "white",
             "linecolor": "white",
             "minorgridcolor": "white",
             "startlinecolor": "#2a3f5f"
            },
            "baxis": {
             "endlinecolor": "#2a3f5f",
             "gridcolor": "white",
             "linecolor": "white",
             "minorgridcolor": "white",
             "startlinecolor": "#2a3f5f"
            },
            "type": "carpet"
           }
          ],
          "choropleth": [
           {
            "colorbar": {
             "outlinewidth": 0,
             "ticks": ""
            },
            "type": "choropleth"
           }
          ],
          "contour": [
           {
            "colorbar": {
             "outlinewidth": 0,
             "ticks": ""
            },
            "colorscale": [
             [
              0,
              "#0d0887"
             ],
             [
              0.1111111111111111,
              "#46039f"
             ],
             [
              0.2222222222222222,
              "#7201a8"
             ],
             [
              0.3333333333333333,
              "#9c179e"
             ],
             [
              0.4444444444444444,
              "#bd3786"
             ],
             [
              0.5555555555555556,
              "#d8576b"
             ],
             [
              0.6666666666666666,
              "#ed7953"
             ],
             [
              0.7777777777777778,
              "#fb9f3a"
             ],
             [
              0.8888888888888888,
              "#fdca26"
             ],
             [
              1,
              "#f0f921"
             ]
            ],
            "type": "contour"
           }
          ],
          "contourcarpet": [
           {
            "colorbar": {
             "outlinewidth": 0,
             "ticks": ""
            },
            "type": "contourcarpet"
           }
          ],
          "heatmap": [
           {
            "colorbar": {
             "outlinewidth": 0,
             "ticks": ""
            },
            "colorscale": [
             [
              0,
              "#0d0887"
             ],
             [
              0.1111111111111111,
              "#46039f"
             ],
             [
              0.2222222222222222,
              "#7201a8"
             ],
             [
              0.3333333333333333,
              "#9c179e"
             ],
             [
              0.4444444444444444,
              "#bd3786"
             ],
             [
              0.5555555555555556,
              "#d8576b"
             ],
             [
              0.6666666666666666,
              "#ed7953"
             ],
             [
              0.7777777777777778,
              "#fb9f3a"
             ],
             [
              0.8888888888888888,
              "#fdca26"
             ],
             [
              1,
              "#f0f921"
             ]
            ],
            "type": "heatmap"
           }
          ],
          "heatmapgl": [
           {
            "colorbar": {
             "outlinewidth": 0,
             "ticks": ""
            },
            "colorscale": [
             [
              0,
              "#0d0887"
             ],
             [
              0.1111111111111111,
              "#46039f"
             ],
             [
              0.2222222222222222,
              "#7201a8"
             ],
             [
              0.3333333333333333,
              "#9c179e"
             ],
             [
              0.4444444444444444,
              "#bd3786"
             ],
             [
              0.5555555555555556,
              "#d8576b"
             ],
             [
              0.6666666666666666,
              "#ed7953"
             ],
             [
              0.7777777777777778,
              "#fb9f3a"
             ],
             [
              0.8888888888888888,
              "#fdca26"
             ],
             [
              1,
              "#f0f921"
             ]
            ],
            "type": "heatmapgl"
           }
          ],
          "histogram": [
           {
            "marker": {
             "pattern": {
              "fillmode": "overlay",
              "size": 10,
              "solidity": 0.2
             }
            },
            "type": "histogram"
           }
          ],
          "histogram2d": [
           {
            "colorbar": {
             "outlinewidth": 0,
             "ticks": ""
            },
            "colorscale": [
             [
              0,
              "#0d0887"
             ],
             [
              0.1111111111111111,
              "#46039f"
             ],
             [
              0.2222222222222222,
              "#7201a8"
             ],
             [
              0.3333333333333333,
              "#9c179e"
             ],
             [
              0.4444444444444444,
              "#bd3786"
             ],
             [
              0.5555555555555556,
              "#d8576b"
             ],
             [
              0.6666666666666666,
              "#ed7953"
             ],
             [
              0.7777777777777778,
              "#fb9f3a"
             ],
             [
              0.8888888888888888,
              "#fdca26"
             ],
             [
              1,
              "#f0f921"
             ]
            ],
            "type": "histogram2d"
           }
          ],
          "histogram2dcontour": [
           {
            "colorbar": {
             "outlinewidth": 0,
             "ticks": ""
            },
            "colorscale": [
             [
              0,
              "#0d0887"
             ],
             [
              0.1111111111111111,
              "#46039f"
             ],
             [
              0.2222222222222222,
              "#7201a8"
             ],
             [
              0.3333333333333333,
              "#9c179e"
             ],
             [
              0.4444444444444444,
              "#bd3786"
             ],
             [
              0.5555555555555556,
              "#d8576b"
             ],
             [
              0.6666666666666666,
              "#ed7953"
             ],
             [
              0.7777777777777778,
              "#fb9f3a"
             ],
             [
              0.8888888888888888,
              "#fdca26"
             ],
             [
              1,
              "#f0f921"
             ]
            ],
            "type": "histogram2dcontour"
           }
          ],
          "mesh3d": [
           {
            "colorbar": {
             "outlinewidth": 0,
             "ticks": ""
            },
            "type": "mesh3d"
           }
          ],
          "parcoords": [
           {
            "line": {
             "colorbar": {
              "outlinewidth": 0,
              "ticks": ""
             }
            },
            "type": "parcoords"
           }
          ],
          "pie": [
           {
            "automargin": true,
            "type": "pie"
           }
          ],
          "scatter": [
           {
            "fillpattern": {
             "fillmode": "overlay",
             "size": 10,
             "solidity": 0.2
            },
            "type": "scatter"
           }
          ],
          "scatter3d": [
           {
            "line": {
             "colorbar": {
              "outlinewidth": 0,
              "ticks": ""
             }
            },
            "marker": {
             "colorbar": {
              "outlinewidth": 0,
              "ticks": ""
             }
            },
            "type": "scatter3d"
           }
          ],
          "scattercarpet": [
           {
            "marker": {
             "colorbar": {
              "outlinewidth": 0,
              "ticks": ""
             }
            },
            "type": "scattercarpet"
           }
          ],
          "scattergeo": [
           {
            "marker": {
             "colorbar": {
              "outlinewidth": 0,
              "ticks": ""
             }
            },
            "type": "scattergeo"
           }
          ],
          "scattergl": [
           {
            "marker": {
             "colorbar": {
              "outlinewidth": 0,
              "ticks": ""
             }
            },
            "type": "scattergl"
           }
          ],
          "scattermapbox": [
           {
            "marker": {
             "colorbar": {
              "outlinewidth": 0,
              "ticks": ""
             }
            },
            "type": "scattermapbox"
           }
          ],
          "scatterpolar": [
           {
            "marker": {
             "colorbar": {
              "outlinewidth": 0,
              "ticks": ""
             }
            },
            "type": "scatterpolar"
           }
          ],
          "scatterpolargl": [
           {
            "marker": {
             "colorbar": {
              "outlinewidth": 0,
              "ticks": ""
             }
            },
            "type": "scatterpolargl"
           }
          ],
          "scatterternary": [
           {
            "marker": {
             "colorbar": {
              "outlinewidth": 0,
              "ticks": ""
             }
            },
            "type": "scatterternary"
           }
          ],
          "surface": [
           {
            "colorbar": {
             "outlinewidth": 0,
             "ticks": ""
            },
            "colorscale": [
             [
              0,
              "#0d0887"
             ],
             [
              0.1111111111111111,
              "#46039f"
             ],
             [
              0.2222222222222222,
              "#7201a8"
             ],
             [
              0.3333333333333333,
              "#9c179e"
             ],
             [
              0.4444444444444444,
              "#bd3786"
             ],
             [
              0.5555555555555556,
              "#d8576b"
             ],
             [
              0.6666666666666666,
              "#ed7953"
             ],
             [
              0.7777777777777778,
              "#fb9f3a"
             ],
             [
              0.8888888888888888,
              "#fdca26"
             ],
             [
              1,
              "#f0f921"
             ]
            ],
            "type": "surface"
           }
          ],
          "table": [
           {
            "cells": {
             "fill": {
              "color": "#EBF0F8"
             },
             "line": {
              "color": "white"
             }
            },
            "header": {
             "fill": {
              "color": "#C8D4E3"
             },
             "line": {
              "color": "white"
             }
            },
            "type": "table"
           }
          ]
         },
         "layout": {
          "annotationdefaults": {
           "arrowcolor": "#2a3f5f",
           "arrowhead": 0,
           "arrowwidth": 1
          },
          "autotypenumbers": "strict",
          "coloraxis": {
           "colorbar": {
            "outlinewidth": 0,
            "ticks": ""
           }
          },
          "colorscale": {
           "diverging": [
            [
             0,
             "#8e0152"
            ],
            [
             0.1,
             "#c51b7d"
            ],
            [
             0.2,
             "#de77ae"
            ],
            [
             0.3,
             "#f1b6da"
            ],
            [
             0.4,
             "#fde0ef"
            ],
            [
             0.5,
             "#f7f7f7"
            ],
            [
             0.6,
             "#e6f5d0"
            ],
            [
             0.7,
             "#b8e186"
            ],
            [
             0.8,
             "#7fbc41"
            ],
            [
             0.9,
             "#4d9221"
            ],
            [
             1,
             "#276419"
            ]
           ],
           "sequential": [
            [
             0,
             "#0d0887"
            ],
            [
             0.1111111111111111,
             "#46039f"
            ],
            [
             0.2222222222222222,
             "#7201a8"
            ],
            [
             0.3333333333333333,
             "#9c179e"
            ],
            [
             0.4444444444444444,
             "#bd3786"
            ],
            [
             0.5555555555555556,
             "#d8576b"
            ],
            [
             0.6666666666666666,
             "#ed7953"
            ],
            [
             0.7777777777777778,
             "#fb9f3a"
            ],
            [
             0.8888888888888888,
             "#fdca26"
            ],
            [
             1,
             "#f0f921"
            ]
           ],
           "sequentialminus": [
            [
             0,
             "#0d0887"
            ],
            [
             0.1111111111111111,
             "#46039f"
            ],
            [
             0.2222222222222222,
             "#7201a8"
            ],
            [
             0.3333333333333333,
             "#9c179e"
            ],
            [
             0.4444444444444444,
             "#bd3786"
            ],
            [
             0.5555555555555556,
             "#d8576b"
            ],
            [
             0.6666666666666666,
             "#ed7953"
            ],
            [
             0.7777777777777778,
             "#fb9f3a"
            ],
            [
             0.8888888888888888,
             "#fdca26"
            ],
            [
             1,
             "#f0f921"
            ]
           ]
          },
          "colorway": [
           "#636efa",
           "#EF553B",
           "#00cc96",
           "#ab63fa",
           "#FFA15A",
           "#19d3f3",
           "#FF6692",
           "#B6E880",
           "#FF97FF",
           "#FECB52"
          ],
          "font": {
           "color": "#2a3f5f"
          },
          "geo": {
           "bgcolor": "white",
           "lakecolor": "white",
           "landcolor": "#E5ECF6",
           "showlakes": true,
           "showland": true,
           "subunitcolor": "white"
          },
          "hoverlabel": {
           "align": "left"
          },
          "hovermode": "closest",
          "mapbox": {
           "style": "light"
          },
          "paper_bgcolor": "white",
          "plot_bgcolor": "#E5ECF6",
          "polar": {
           "angularaxis": {
            "gridcolor": "white",
            "linecolor": "white",
            "ticks": ""
           },
           "bgcolor": "#E5ECF6",
           "radialaxis": {
            "gridcolor": "white",
            "linecolor": "white",
            "ticks": ""
           }
          },
          "scene": {
           "xaxis": {
            "backgroundcolor": "#E5ECF6",
            "gridcolor": "white",
            "gridwidth": 2,
            "linecolor": "white",
            "showbackground": true,
            "ticks": "",
            "zerolinecolor": "white"
           },
           "yaxis": {
            "backgroundcolor": "#E5ECF6",
            "gridcolor": "white",
            "gridwidth": 2,
            "linecolor": "white",
            "showbackground": true,
            "ticks": "",
            "zerolinecolor": "white"
           },
           "zaxis": {
            "backgroundcolor": "#E5ECF6",
            "gridcolor": "white",
            "gridwidth": 2,
            "linecolor": "white",
            "showbackground": true,
            "ticks": "",
            "zerolinecolor": "white"
           }
          },
          "shapedefaults": {
           "line": {
            "color": "#2a3f5f"
           }
          },
          "ternary": {
           "aaxis": {
            "gridcolor": "white",
            "linecolor": "white",
            "ticks": ""
           },
           "baxis": {
            "gridcolor": "white",
            "linecolor": "white",
            "ticks": ""
           },
           "bgcolor": "#E5ECF6",
           "caxis": {
            "gridcolor": "white",
            "linecolor": "white",
            "ticks": ""
           }
          },
          "title": {
           "x": 0.05
          },
          "xaxis": {
           "automargin": true,
           "gridcolor": "white",
           "linecolor": "white",
           "ticks": "",
           "title": {
            "standoff": 15
           },
           "zerolinecolor": "white",
           "zerolinewidth": 2
          },
          "yaxis": {
           "automargin": true,
           "gridcolor": "white",
           "linecolor": "white",
           "ticks": "",
           "title": {
            "standoff": 15
           },
           "zerolinecolor": "white",
           "zerolinewidth": 2
          }
         }
        },
        "title": {
         "text": "Frequency of letters in cipher text"
        },
        "xaxis": {
         "anchor": "y",
         "domain": [
          0,
          1
         ],
         "title": {
          "text": "x"
         }
        },
        "yaxis": {
         "anchor": "x",
         "domain": [
          0,
          1
         ],
         "title": {
          "text": "y"
         }
        }
       }
      }
     },
     "metadata": {},
     "output_type": "display_data"
    }
   ],
   "source": [
    "fig = px.bar(x=sorted(list(freq.keys())), y=list(freq.values()), title=\"Frequency of letters in cipher text\")\n",
    "fig.show()"
   ]
  },
  {
   "cell_type": "code",
   "execution_count": 65,
   "metadata": {},
   "outputs": [
    {
     "data": {
      "application/vnd.plotly.v1+json": {
       "config": {
        "plotlyServerURL": "https://plot.ly"
       },
       "data": [
        {
         "alignmentgroup": "True",
         "hovertemplate": "x=%{x}<br>y=%{y}<extra></extra>",
         "legendgroup": "",
         "marker": {
          "color": "#636efa",
          "pattern": {
           "shape": ""
          }
         },
         "name": "",
         "offsetgroup": "",
         "orientation": "v",
         "showlegend": false,
         "textposition": "auto",
         "type": "bar",
         "x": [
          "a",
          "b",
          "c",
          "d",
          "e",
          "f",
          "g",
          "h",
          "i",
          "j",
          "k",
          "l",
          "m",
          "n",
          "o",
          "p",
          "q",
          "r",
          "s",
          "t",
          "u",
          "v",
          "w",
          "x",
          "y",
          "z"
         ],
         "xaxis": "x",
         "y": [
          8.167,
          1.492,
          2.782,
          4.253,
          12.702,
          2.228,
          2.015,
          6.094,
          6.966,
          0.153,
          0.772,
          4.025,
          2.406,
          6.749,
          7.507,
          1.929,
          0.095,
          5.987,
          6.327,
          9.056,
          2.758,
          0.978,
          2.36,
          0.15,
          1.974,
          0.074
         ],
         "yaxis": "y"
        }
       ],
       "layout": {
        "barmode": "relative",
        "legend": {
         "tracegroupgap": 0
        },
        "template": {
         "data": {
          "bar": [
           {
            "error_x": {
             "color": "#2a3f5f"
            },
            "error_y": {
             "color": "#2a3f5f"
            },
            "marker": {
             "line": {
              "color": "#E5ECF6",
              "width": 0.5
             },
             "pattern": {
              "fillmode": "overlay",
              "size": 10,
              "solidity": 0.2
             }
            },
            "type": "bar"
           }
          ],
          "barpolar": [
           {
            "marker": {
             "line": {
              "color": "#E5ECF6",
              "width": 0.5
             },
             "pattern": {
              "fillmode": "overlay",
              "size": 10,
              "solidity": 0.2
             }
            },
            "type": "barpolar"
           }
          ],
          "carpet": [
           {
            "aaxis": {
             "endlinecolor": "#2a3f5f",
             "gridcolor": "white",
             "linecolor": "white",
             "minorgridcolor": "white",
             "startlinecolor": "#2a3f5f"
            },
            "baxis": {
             "endlinecolor": "#2a3f5f",
             "gridcolor": "white",
             "linecolor": "white",
             "minorgridcolor": "white",
             "startlinecolor": "#2a3f5f"
            },
            "type": "carpet"
           }
          ],
          "choropleth": [
           {
            "colorbar": {
             "outlinewidth": 0,
             "ticks": ""
            },
            "type": "choropleth"
           }
          ],
          "contour": [
           {
            "colorbar": {
             "outlinewidth": 0,
             "ticks": ""
            },
            "colorscale": [
             [
              0,
              "#0d0887"
             ],
             [
              0.1111111111111111,
              "#46039f"
             ],
             [
              0.2222222222222222,
              "#7201a8"
             ],
             [
              0.3333333333333333,
              "#9c179e"
             ],
             [
              0.4444444444444444,
              "#bd3786"
             ],
             [
              0.5555555555555556,
              "#d8576b"
             ],
             [
              0.6666666666666666,
              "#ed7953"
             ],
             [
              0.7777777777777778,
              "#fb9f3a"
             ],
             [
              0.8888888888888888,
              "#fdca26"
             ],
             [
              1,
              "#f0f921"
             ]
            ],
            "type": "contour"
           }
          ],
          "contourcarpet": [
           {
            "colorbar": {
             "outlinewidth": 0,
             "ticks": ""
            },
            "type": "contourcarpet"
           }
          ],
          "heatmap": [
           {
            "colorbar": {
             "outlinewidth": 0,
             "ticks": ""
            },
            "colorscale": [
             [
              0,
              "#0d0887"
             ],
             [
              0.1111111111111111,
              "#46039f"
             ],
             [
              0.2222222222222222,
              "#7201a8"
             ],
             [
              0.3333333333333333,
              "#9c179e"
             ],
             [
              0.4444444444444444,
              "#bd3786"
             ],
             [
              0.5555555555555556,
              "#d8576b"
             ],
             [
              0.6666666666666666,
              "#ed7953"
             ],
             [
              0.7777777777777778,
              "#fb9f3a"
             ],
             [
              0.8888888888888888,
              "#fdca26"
             ],
             [
              1,
              "#f0f921"
             ]
            ],
            "type": "heatmap"
           }
          ],
          "heatmapgl": [
           {
            "colorbar": {
             "outlinewidth": 0,
             "ticks": ""
            },
            "colorscale": [
             [
              0,
              "#0d0887"
             ],
             [
              0.1111111111111111,
              "#46039f"
             ],
             [
              0.2222222222222222,
              "#7201a8"
             ],
             [
              0.3333333333333333,
              "#9c179e"
             ],
             [
              0.4444444444444444,
              "#bd3786"
             ],
             [
              0.5555555555555556,
              "#d8576b"
             ],
             [
              0.6666666666666666,
              "#ed7953"
             ],
             [
              0.7777777777777778,
              "#fb9f3a"
             ],
             [
              0.8888888888888888,
              "#fdca26"
             ],
             [
              1,
              "#f0f921"
             ]
            ],
            "type": "heatmapgl"
           }
          ],
          "histogram": [
           {
            "marker": {
             "pattern": {
              "fillmode": "overlay",
              "size": 10,
              "solidity": 0.2
             }
            },
            "type": "histogram"
           }
          ],
          "histogram2d": [
           {
            "colorbar": {
             "outlinewidth": 0,
             "ticks": ""
            },
            "colorscale": [
             [
              0,
              "#0d0887"
             ],
             [
              0.1111111111111111,
              "#46039f"
             ],
             [
              0.2222222222222222,
              "#7201a8"
             ],
             [
              0.3333333333333333,
              "#9c179e"
             ],
             [
              0.4444444444444444,
              "#bd3786"
             ],
             [
              0.5555555555555556,
              "#d8576b"
             ],
             [
              0.6666666666666666,
              "#ed7953"
             ],
             [
              0.7777777777777778,
              "#fb9f3a"
             ],
             [
              0.8888888888888888,
              "#fdca26"
             ],
             [
              1,
              "#f0f921"
             ]
            ],
            "type": "histogram2d"
           }
          ],
          "histogram2dcontour": [
           {
            "colorbar": {
             "outlinewidth": 0,
             "ticks": ""
            },
            "colorscale": [
             [
              0,
              "#0d0887"
             ],
             [
              0.1111111111111111,
              "#46039f"
             ],
             [
              0.2222222222222222,
              "#7201a8"
             ],
             [
              0.3333333333333333,
              "#9c179e"
             ],
             [
              0.4444444444444444,
              "#bd3786"
             ],
             [
              0.5555555555555556,
              "#d8576b"
             ],
             [
              0.6666666666666666,
              "#ed7953"
             ],
             [
              0.7777777777777778,
              "#fb9f3a"
             ],
             [
              0.8888888888888888,
              "#fdca26"
             ],
             [
              1,
              "#f0f921"
             ]
            ],
            "type": "histogram2dcontour"
           }
          ],
          "mesh3d": [
           {
            "colorbar": {
             "outlinewidth": 0,
             "ticks": ""
            },
            "type": "mesh3d"
           }
          ],
          "parcoords": [
           {
            "line": {
             "colorbar": {
              "outlinewidth": 0,
              "ticks": ""
             }
            },
            "type": "parcoords"
           }
          ],
          "pie": [
           {
            "automargin": true,
            "type": "pie"
           }
          ],
          "scatter": [
           {
            "fillpattern": {
             "fillmode": "overlay",
             "size": 10,
             "solidity": 0.2
            },
            "type": "scatter"
           }
          ],
          "scatter3d": [
           {
            "line": {
             "colorbar": {
              "outlinewidth": 0,
              "ticks": ""
             }
            },
            "marker": {
             "colorbar": {
              "outlinewidth": 0,
              "ticks": ""
             }
            },
            "type": "scatter3d"
           }
          ],
          "scattercarpet": [
           {
            "marker": {
             "colorbar": {
              "outlinewidth": 0,
              "ticks": ""
             }
            },
            "type": "scattercarpet"
           }
          ],
          "scattergeo": [
           {
            "marker": {
             "colorbar": {
              "outlinewidth": 0,
              "ticks": ""
             }
            },
            "type": "scattergeo"
           }
          ],
          "scattergl": [
           {
            "marker": {
             "colorbar": {
              "outlinewidth": 0,
              "ticks": ""
             }
            },
            "type": "scattergl"
           }
          ],
          "scattermapbox": [
           {
            "marker": {
             "colorbar": {
              "outlinewidth": 0,
              "ticks": ""
             }
            },
            "type": "scattermapbox"
           }
          ],
          "scatterpolar": [
           {
            "marker": {
             "colorbar": {
              "outlinewidth": 0,
              "ticks": ""
             }
            },
            "type": "scatterpolar"
           }
          ],
          "scatterpolargl": [
           {
            "marker": {
             "colorbar": {
              "outlinewidth": 0,
              "ticks": ""
             }
            },
            "type": "scatterpolargl"
           }
          ],
          "scatterternary": [
           {
            "marker": {
             "colorbar": {
              "outlinewidth": 0,
              "ticks": ""
             }
            },
            "type": "scatterternary"
           }
          ],
          "surface": [
           {
            "colorbar": {
             "outlinewidth": 0,
             "ticks": ""
            },
            "colorscale": [
             [
              0,
              "#0d0887"
             ],
             [
              0.1111111111111111,
              "#46039f"
             ],
             [
              0.2222222222222222,
              "#7201a8"
             ],
             [
              0.3333333333333333,
              "#9c179e"
             ],
             [
              0.4444444444444444,
              "#bd3786"
             ],
             [
              0.5555555555555556,
              "#d8576b"
             ],
             [
              0.6666666666666666,
              "#ed7953"
             ],
             [
              0.7777777777777778,
              "#fb9f3a"
             ],
             [
              0.8888888888888888,
              "#fdca26"
             ],
             [
              1,
              "#f0f921"
             ]
            ],
            "type": "surface"
           }
          ],
          "table": [
           {
            "cells": {
             "fill": {
              "color": "#EBF0F8"
             },
             "line": {
              "color": "white"
             }
            },
            "header": {
             "fill": {
              "color": "#C8D4E3"
             },
             "line": {
              "color": "white"
             }
            },
            "type": "table"
           }
          ]
         },
         "layout": {
          "annotationdefaults": {
           "arrowcolor": "#2a3f5f",
           "arrowhead": 0,
           "arrowwidth": 1
          },
          "autotypenumbers": "strict",
          "coloraxis": {
           "colorbar": {
            "outlinewidth": 0,
            "ticks": ""
           }
          },
          "colorscale": {
           "diverging": [
            [
             0,
             "#8e0152"
            ],
            [
             0.1,
             "#c51b7d"
            ],
            [
             0.2,
             "#de77ae"
            ],
            [
             0.3,
             "#f1b6da"
            ],
            [
             0.4,
             "#fde0ef"
            ],
            [
             0.5,
             "#f7f7f7"
            ],
            [
             0.6,
             "#e6f5d0"
            ],
            [
             0.7,
             "#b8e186"
            ],
            [
             0.8,
             "#7fbc41"
            ],
            [
             0.9,
             "#4d9221"
            ],
            [
             1,
             "#276419"
            ]
           ],
           "sequential": [
            [
             0,
             "#0d0887"
            ],
            [
             0.1111111111111111,
             "#46039f"
            ],
            [
             0.2222222222222222,
             "#7201a8"
            ],
            [
             0.3333333333333333,
             "#9c179e"
            ],
            [
             0.4444444444444444,
             "#bd3786"
            ],
            [
             0.5555555555555556,
             "#d8576b"
            ],
            [
             0.6666666666666666,
             "#ed7953"
            ],
            [
             0.7777777777777778,
             "#fb9f3a"
            ],
            [
             0.8888888888888888,
             "#fdca26"
            ],
            [
             1,
             "#f0f921"
            ]
           ],
           "sequentialminus": [
            [
             0,
             "#0d0887"
            ],
            [
             0.1111111111111111,
             "#46039f"
            ],
            [
             0.2222222222222222,
             "#7201a8"
            ],
            [
             0.3333333333333333,
             "#9c179e"
            ],
            [
             0.4444444444444444,
             "#bd3786"
            ],
            [
             0.5555555555555556,
             "#d8576b"
            ],
            [
             0.6666666666666666,
             "#ed7953"
            ],
            [
             0.7777777777777778,
             "#fb9f3a"
            ],
            [
             0.8888888888888888,
             "#fdca26"
            ],
            [
             1,
             "#f0f921"
            ]
           ]
          },
          "colorway": [
           "#636efa",
           "#EF553B",
           "#00cc96",
           "#ab63fa",
           "#FFA15A",
           "#19d3f3",
           "#FF6692",
           "#B6E880",
           "#FF97FF",
           "#FECB52"
          ],
          "font": {
           "color": "#2a3f5f"
          },
          "geo": {
           "bgcolor": "white",
           "lakecolor": "white",
           "landcolor": "#E5ECF6",
           "showlakes": true,
           "showland": true,
           "subunitcolor": "white"
          },
          "hoverlabel": {
           "align": "left"
          },
          "hovermode": "closest",
          "mapbox": {
           "style": "light"
          },
          "paper_bgcolor": "white",
          "plot_bgcolor": "#E5ECF6",
          "polar": {
           "angularaxis": {
            "gridcolor": "white",
            "linecolor": "white",
            "ticks": ""
           },
           "bgcolor": "#E5ECF6",
           "radialaxis": {
            "gridcolor": "white",
            "linecolor": "white",
            "ticks": ""
           }
          },
          "scene": {
           "xaxis": {
            "backgroundcolor": "#E5ECF6",
            "gridcolor": "white",
            "gridwidth": 2,
            "linecolor": "white",
            "showbackground": true,
            "ticks": "",
            "zerolinecolor": "white"
           },
           "yaxis": {
            "backgroundcolor": "#E5ECF6",
            "gridcolor": "white",
            "gridwidth": 2,
            "linecolor": "white",
            "showbackground": true,
            "ticks": "",
            "zerolinecolor": "white"
           },
           "zaxis": {
            "backgroundcolor": "#E5ECF6",
            "gridcolor": "white",
            "gridwidth": 2,
            "linecolor": "white",
            "showbackground": true,
            "ticks": "",
            "zerolinecolor": "white"
           }
          },
          "shapedefaults": {
           "line": {
            "color": "#2a3f5f"
           }
          },
          "ternary": {
           "aaxis": {
            "gridcolor": "white",
            "linecolor": "white",
            "ticks": ""
           },
           "baxis": {
            "gridcolor": "white",
            "linecolor": "white",
            "ticks": ""
           },
           "bgcolor": "#E5ECF6",
           "caxis": {
            "gridcolor": "white",
            "linecolor": "white",
            "ticks": ""
           }
          },
          "title": {
           "x": 0.05
          },
          "xaxis": {
           "automargin": true,
           "gridcolor": "white",
           "linecolor": "white",
           "ticks": "",
           "title": {
            "standoff": 15
           },
           "zerolinecolor": "white",
           "zerolinewidth": 2
          },
          "yaxis": {
           "automargin": true,
           "gridcolor": "white",
           "linecolor": "white",
           "ticks": "",
           "title": {
            "standoff": 15
           },
           "zerolinecolor": "white",
           "zerolinewidth": 2
          }
         }
        },
        "title": {
         "text": "Frequency of letters in English language"
        },
        "xaxis": {
         "anchor": "y",
         "domain": [
          0,
          1
         ],
         "title": {
          "text": "x"
         }
        },
        "yaxis": {
         "anchor": "x",
         "domain": [
          0,
          1
         ],
         "title": {
          "text": "y"
         }
        }
       }
      }
     },
     "metadata": {},
     "output_type": "display_data"
    }
   ],
   "source": [
    "fig = px.bar(x=list(engFreq.keys()), y=list(engFreq.values()), title=\"Frequency of letters in English language\")\n",
    "fig.show()"
   ]
  },
  {
   "cell_type": "code",
   "execution_count": 66,
   "metadata": {},
   "outputs": [
    {
     "name": "stdout",
     "output_type": "stream",
     "text": [
      "0: BIVHA JVTTH UKLYZ DLYLA YHPUL KAVSP UNLYV UAOLJ VUCVF ZWYVQLJALK SPULV MHKCH UJLHA AOLSP TPAVM CPZPI PSPAF BUAPS AOLMHSSVMK HYRAO LUAVZ BYMHJ LPMWV ZZPIS LDPAO PUAOL JVUCV FJVSBTUZMP YLZHS CVLZM YVTIV DHUKZ ALYUA BILZZ PTBSA HULVB ZSFHUKAVZB ITLYN LHUKT HRLAO LPYLZ JHWLH ZAOLL ZJVYA ZHWWL HYLKAOLKPM MPJBS AFMVY AOLBI VHAZD HZAVS VJHAL HJVUC VFPUA OLMPYZAWSH JLAOL SPTPA VMCPZ PIPSP AFHAI LZAMY VTHJV UUPUN AVDLYDHZAL UTPSL ZHWHA YVSSP ULVMA LUBIV HAZJV BSKAO LYLMV YLJVCLYADV OBUKY LKADL UAFTP SLZVM ZLHHJ VUCVF VMMPM AFZOP WZTLHUDOPS LVJJB WPLKH MYVUA VMVUS FADLU AFMVB YOBUK YLKFH YKZPUAOLLU VYTVB ZZWHJ LZVMA OLHAS HUAPJ HASLH ZAUPU LTPSS PVUZXBHYLT PSLZV MVWLY HAPVU HSDHA LYZAO LVULJ VBSKI LTPZZ LKIFAOLVAO LYDPA OAOLN YLHAL ZALHZ LHUKB ZBHSS FDHZI HKDLH AOLYWSHFLK HWHYA OPKPU NAOLJ VUCVF ZMYVT NLYTH ULFLZ VYMVY JPUNBIVHAZ AVZLL RZOLS ALYMY VTAOL LSLTL UAZHA WLYPZ JVWLK LWAOZVKPKY VBAPU LHSAL YHAPV UZVMJ VBYZL HUKLT LYNLU JFABY UZPMJVUAHJ ADLYL THKLK LSPIL YHALY LYVBA PUNVM JVUCV FZOVD LCLYHDHFMY VTWHA YVSSP ULZHU KDVSM WHJRZ SVJHA LKIFI SLAJO SLFDHZAOLT VZAWY VKBJA PCLTL AOVKK HCPKR HOUAO LNYLH AOPZA VYPHUVMJYF WAVNY HWOFN PCLZH KYHTH APJHJ JVBUA VMVUL ZBJOY LYVBAPUNJV UALZA PUOPZ IVVRV UAOLB IVHAD HYZLP GPUNA OLLUP NTHAOPZWHZ ZHNLL EJLYW ALKMY VTQVO URLLN HUPUA LSSPN LUJLP UDHYY\n",
      "1: CJWIB KWUUI VLMZA EMZMB ZIQVM LBWTQ VOMZW VBPMK WVDWG AXZWRMKBML TQVMW NILDI VKMIB BPMTQ UQBWN DQAQJ QTQBG CVBQT BPMNITTWNL IZSBP MVBWA CZNIK MQNXW AAQJT MEQBP QVBPM KWVDW GKWTCUVANQ ZMAIT DWMAN ZWUJW EIVLA BMZVB CJMAA QUCTB IVMWC ATGIVLBWAC JUMZO MIVLU ISMBP MQZMA KIXMI ABPMM AKWZB AIXXM IZMLBPMLQN NQKCT BGNWZ BPMCJ WIBAE IABWT WKIBM IKWVD WGQVB PMNQZABXTI KMBPM TQUQB WNDQA QJQTQ BGIBJ MABNZ WUIKW VVQVO BWEMZEIABM VUQTM AIXIB ZWTTQ VMWNB MVCJW IBAKW CTLBP MZMNW ZMKWDMZBEW PCVLZ MLBEM VBGUQ TMAWN AMIIK WVDWG WNNQN BGAPQ XAUMIVEPQT MWKKC XQMLI NZWVB WNWVT GBEMV BGNWC ZPCVL ZMLGI ZLAQVBPMMV WZUWC AAXIK MAWNB PMIBT IVBQK IBTMI ABVQV MUQTT QWVAYCIZMU QTMAW NWXMZ IBQWV ITEIB MZABP MWVMK WCTLJ MUQAA MLJGBPMWBP MZEQB PBPMO ZMIBM ABMIA MIVLC ACITT GEIAJ ILEMI BPMZXTIGML IXIZB PQLQV OBPMK WVDWG ANZWU OMZUI VMGMA WZNWZ KQVOCJWIBA BWAMM SAPMT BMZNZ WUBPM MTMUM VBAIB XMZQA KWXML MXBPAWLQLZ WCBQV MITBM ZIBQW VAWNK WCZAM IVLMU MZOMV KGBCZ VAQNKWVBIK BEMZM UILML MTQJM ZIBMZ MZWCB QVOWN KWVDW GAPWE MDMZIEIGNZ WUXIB ZWTTQ VMAIV LEWTN XIKSA TWKIB MLJGJ TMBKP TMGEIABPMU WABXZ WLCKB QDMUM BPWLL IDQLS IPVBP MOZMI BPQAB WZQIVWNKZG XBWOZ IXPGO QDMAI LZIUI BQKIK KWCVB WNWVM ACKPZ MZWCBQVOKW VBMAB QVPQA JWWSW VBPMC JWIBE IZAMQ HQVOB PMMVQ OUIBPQAXIA AIOMM FKMZX BMLNZ WURWP VSMMO IVQVB MTTQO MVKMQ VEIZZ\n",
      "2: DKXJC LXVVJ WMNAB FNANC AJRWN MCXUR WPNAX WCQNL XWEXH BYAXSNLCNM URWNX OJMEJ WLNJC CQNUR VRCXO ERBRK RURCH DWCRU CQNOJUUXOM JATCQ NWCXB DAOJL NROYX BBRKU NFRCQ RWCQN LXWEX HLXUDVWBOR ANBJU EXNBO AXVKX FJWMB CNAWC DKNBB RVDUC JWNXD BUHJWMCXBD KVNAP NJWMV JTNCQ NRANB LJYNJ BCQNN BLXAC BJYYN JANMCQNMRO ORLDU CHOXA CQNDK XJCBF JBCXU XLJCN JLXWE XHRWC QNORABCYUJ LNCQN URVRC XOERB RKRUR CHJCK NBCOA XVJLX WWRWP CXFNAFJBCN WVRUN BJYJC AXUUR WNXOC NWDKX JCBLX DUMCQ NANOX ANLXENACFX QDWMA NMCFN WCHVR UNBXO BNJJL XWEXH XOORO CHBQR YBVNJWFQRU NXLLD YRNMJ OAXWC XOXWU HCFNW CHOXD AQDWM ANMHJ AMBRWCQNNW XAVXD BBYJL NBXOC QNJCU JWCRL JCUNJ BCWRW NVRUU RXWBZDJANV RUNBX OXYNA JCRXW JUFJC NABCQ NXWNL XDUMK NVRBB NMKHCQNXCQ NAFRC QCQNP ANJCN BCNJB NJWMD BDJUU HFJBK JMFNJ CQNAYUJHNM JYJAC QRMRW PCQNL XWEXH BOAXV PNAVJ WNHNB XAOXA LRWPDKXJCB CXBNN TBQNU CNAOA XVCQN NUNVN WCBJC YNARB LXYNM NYCQBXMRMA XDCRW NJUCN AJCRX WBXOL XDABN JWMNV NAPNW LHCDA WBROLXWCJL CFNAN VJMNM NURKN AJCNA NAXDC RWPXO LXWEX HBQXF NENAJFJHOA XVYJC AXUUR WNBJW MFXUO YJLTB UXLJC NMKHK UNCLQ UNHFJBCQNV XBCYA XMDLC RENVN CQXMM JERMT JQWCQ NPANJ CQRBC XARJWXOLAH YCXPA JYQHP RENBJ MAJVJ CRLJL LXDWC XOXWN BDLQA NAXDCRWPLX WCNBC RWQRB KXXTX WCQND KXJCF JABNR IRWPC QNNWR PVJCQRBYJB BJPNN GLNAY CNMOA XVSXQ WTNNP JWRWC NUURP NWLNR WFJAA\n",
      "3: ELYKD MYWWK XNOBC GOBOD BKSXO NDYVS XQOBY XDROM YXFYI CZBYTOMDON VSXOY PKNFK XMOKD DROVS WSDYP FSCSL SVSDI EXDSV DROPKVVYPN KBUDR OXDYC EBPKM OSPZY CCSLV OGSDR SXDRO MYXFY IMYVEWXCPS BOCKV FYOCP BYWLY GKXNC DOBXD ELOCC SWEVD KXOYE CVIKXNDYCE LWOBQ OKXNW KUODR OSBOC MKZOK CDROO CMYBD CKZZO KBONDRONSP PSMEV DIPYB DROEL YKDCG KCDYV YMKDO KMYXF YISXD ROPSBCDZVK MODRO VSWSD YPFSC SLSVS DIKDL OCDPB YWKMY XXSXQ DYGOBGKCDO XWSVO CKZKD BYVVS XOYPD OXELY KDCMY EVNDR OBOPY BOMYFOBDGY REXNB ONDGO XDIWS VOCYP COKKM YXFYI YPPSP DICRS ZCWOKXGRSV OYMME ZSONK PBYXD YPYXV IDGOX DIPYE BREXN BONIK BNCSXDROOX YBWYE CCZKM OCYPD ROKDV KXDSM KDVOK CDXSX OWSVV SYXCAEKBOW SVOCY PYZOB KDSYX KVGKD OBCDR OYXOM YEVNL OWSCC ONLIDROYDR OBGSD RDROQ BOKDO CDOKC OKXNE CEKVV IGKCL KNGOK DROBZVKION KZKBD RSNSX QDROM YXFYI CPBYW QOBWK XOIOC YBPYB MSXQELYKDC DYCOO UCROV DOBPB YWDRO OVOWO XDCKD ZOBSC MYZON OZDRCYNSNB YEDSX OKVDO BKDSY XCYPM YEBCO KXNOW OBQOX MIDEB XCSPMYXDKM DGOBO WKNON OVSLO BKDOB OBYED SXQYP MYXFY ICRYG OFOBKGKIPB YWZKD BYVVS XOCKX NGYVP ZKMUC VYMKD ONLIL VODMR VOIGKCDROW YCDZB YNEMD SFOWO DRYNN KFSNU KRXDR OQBOK DRSCD YBSKXYPMBI ZDYQB KZRIQ SFOCK NBKWK DSMKM MYEXD YPYXO CEMRB OBYEDSXQMY XDOCD SXRSC LYYUY XDROE LYKDG KBCOS JSXQD ROOXS QWKDRSCZKC CKQOO HMOBZ DONPB YWTYR XUOOQ KXSXD OVVSQ OXMOS XGKBB\n",
      "4: FMZLE NZXXL YOPCD HPCPE CLTYP OEZWT YRPCZ YESPN ZYGZJ DACZUPNEPO WTYPZ QLOGL YNPLE ESPWT XTEZQ GTDTM TWTEJ FYETW ESPQLWWZQO LCVES PYEZD FCQLN PTQAZ DDTMW PHTES TYESP NZYGZ JNZWFXYDQT CPDLW GZPDQ CZXMZ HLYOD EPCYE FMPDD TXFWE LYPZF DWJLYOEZDF MXPCR PLYOX LVPES PTCPD NLAPL DESPP DNZCE DLAAP LCPOESPOTQ QTNFW EJQZC ESPFM ZLEDH LDEZW ZNLEP LNZYG ZJTYE SPQTCDEAWL NPESP WTXTE ZQGTD TMTWT EJLEM PDEQC ZXLNZ YYTYR EZHPCHLDEP YXTWP DLALE CZWWT YPZQE PYFMZ LEDNZ FWOES PCPQZ CPNZGPCEHZ SFYOC POEHP YEJXT WPDZQ DPLLN ZYGZJ ZQQTQ EJDST ADXPLYHSTW PZNNF ATPOL QCZYE ZQZYW JEHPY EJQZF CSFYO CPOJL CODTYESPPY ZCXZF DDALN PDZQE SPLEW LYETN LEWPL DEYTY PXTWW TZYDBFLCPX TWPDZ QZAPC LETZY LWHLE PCDES PZYPN ZFWOM PXTDD POMJESPZES PCHTE SESPR CPLEP DEPLD PLYOF DFLWW JHLDM LOHPL ESPCAWLJPO LALCE STOTY RESPN ZYGZJ DQCZX RPCXL YPJPD ZCQZC NTYRFMZLED EZDPP VDSPW EPCQC ZXESP PWPXP YEDLE APCTD NZAPO PAESDZOTOC ZFETY PLWEP CLETZ YDZQN ZFCDP LYOPX PCRPY NJEFC YDTQNZYELN EHPCP XLOPO PWTMP CLEPC PCZFE TYRZQ NZYGZ JDSZH PGPCLHLJQC ZXALE CZWWT YPDLY OHZWQ ALNVD WZNLE POMJM WPENS WPJHLDESPX ZDEAC ZOFNE TGPXP ESZOO LGTOV LSYES PRCPL ESTDE ZCTLYZQNCJ AEZRC LASJR TGPDL OCLXL ETNLN NZFYE ZQZYP DFNSC PCZFETYRNZ YEPDE TYSTD MZZVZ YESPF MZLEH LCDPT KTYRE SPPYT RXLESTDALD DLRPP INPCA EPOQC ZXUZS YVPPR LYTYE PWWTR PYNPT YHLCC\n",
      "5: GNAMF OAYYM ZPQDE IQDQF DMUZQ PFAXU ZSQDA ZFTQO AZHAK EBDAVQOFQP XUZQA RMPHM ZOQMF FTQXU YUFAR HUEUN UXUFK GZFUX FTQRMXXARP MDWFT QZFAE GDRMO QURBA EEUNX QIUFT UZFTQ OAZHA KOAXGYZERU DQEMX HAQER DAYNA IMZPE FQDZF GNQEE UYGXF MZQAG EXKMZPFAEG NYQDS QMZPY MWQFT QUDQE OMBQM EFTQQ EOADF EMBBQ MDQPFTQPUR RUOGX FKRAD FTQGN AMFEI MEFAX AOMFQ MOAZH AKUZF TQRUDEFBXM OQFTQ XUYUF ARHUE UNUXU FKMFN QEFRD AYMOA ZZUZS FAIQDIMEFQ ZYUXQ EMBMF DAXXU ZQARF QZGNA MFEOA GXPFT QDQRA DQOAHQDFIA TGZPD QPFIQ ZFKYU XQEAR EQMMO AZHAK ARRUR FKETU BEYQMZITUX QAOOG BUQPM RDAZF ARAZX KFIQZ FKRAG DTGZP DQPKM DPEUZFTQQZ ADYAG EEBMO QEARF TQMFX MZFUO MFXQM EFZUZ QYUXX UAZECGMDQY UXQEA RABQD MFUAZ MXIMF QDEFT QAZQO AGXPN QYUEE QPNKFTQAFT QDIUF TFTQS DQMFQ EFQME QMZPG EGMXX KIMEN MPIQM FTQDBXMKQP MBMDF TUPUZ SFTQO AZHAK ERDAY SQDYM ZQKQE ADRAD OUZSGNAMFE FAEQQ WETQX FQDRD AYFTQ QXQYQ ZFEMF BQDUE OABQP QBFTEAPUPD AGFUZ QMXFQ DMFUA ZEARO AGDEQ MZPQY QDSQZ OKFGD ZEUROAZFMO FIQDQ YMPQP QXUNQ DMFQD QDAGF UZSAR OAZHA KETAI QHQDMIMKRD AYBMF DAXXU ZQEMZ PIAXR BMOWE XAOMF QPNKN XQFOT XQKIMEFTQY AEFBD APGOF UHQYQ FTAPP MHUPW MTZFT QSDQM FTUEF ADUMZARODK BFASD MBTKS UHQEM PDMYM FUOMO OAGZF ARAZQ EGOTD QDAGFUZSOA ZFQEF UZTUE NAAWA ZFTQG NAMFI MDEQU LUZSF TQQZU SYMFTUEBME EMSQQ JOQDB FQPRD AYVAT ZWQQS MZUZF QXXUS QZOQU ZIMDD\n",
      "6: HOBNG PBZZN AQREF JRERG ENVAR QGBYV ATREB AGURP BAIBL FCEBWRPGRQ YVARB SNQIN APRNG GURYV ZVGBS IVFVO VYVGL HAGVY GURSNYYBSQ NEXGU RAGBF HESNP RVSCB FFVOY RJVGU VAGUR PBAIB LPBYHZAFSV ERFNY IBRFS EBZOB JNAQF GREAG HORFF VZHYG NARBH FYLNAQGBFH OZRET RNAQZ NXRGU RVERF PNCRN FGURR FPBEG FNCCR NERQGURQVS SVPHY GLSBE GURHO BNGFJ NFGBY BPNGR NPBAI BLVAG URSVEFGCYN PRGUR YVZVG BSIVF VOVYV GLNGO RFGSE BZNPB AAVAT GBJREJNFGR AZVYR FNCNG EBYYV ARBSG RAHOB NGFPB HYQGU RERSB ERPBIREGJB UHAQE RQGJR AGLZV YRFBS FRNNP BAIBL BSSVS GLFUV CFZRNAJUVY RBPPH CVRQN SEBAG BSBAY LGJRA GLSBH EUHAQ ERQLN EQFVAGURRA BEZBH FFCNP RFBSG URNGY NAGVP NGYRN FGAVA RZVYY VBAFDHNERZ VYRFB SBCRE NGVBA NYJNG REFGU RBARP BHYQO RZVFF RQOLGURBGU REJVG UGURT ERNGR FGRNF RNAQH FHNYY LJNFO NQJRN GURECYNLRQ NCNEG UVQVA TGURP BAIBL FSEBZ TREZN ARLRF BESBE PVATHOBNGF GBFRR XFURY GRESE BZGUR RYRZR AGFNG CREVF PBCRQ RCGUFBQVQE BHGVA RNYGR ENGVB AFBSP BHEFR NAQRZ RETRA PLGHE AFVSPBAGNP GJRER ZNQRQ RYVOR ENGRE REBHG VATBS PBAIB LFUBJ RIRENJNLSE BZCNG EBYYV ARFNA QJBYS CNPXF YBPNG RQOLO YRGPU YRLJNFGURZ BFGCE BQHPG VIRZR GUBQQ NIVQX NUAGU RTERN GUVFG BEVNABSPEL CGBTE NCULT VIRFN QENZN GVPNP PBHAG BSBAR FHPUE REBHGVATPB AGRFG VAUVF OBBXB AGURH OBNGJ NEFRV MVATG URRAV TZNGUVFCNF FNTRR KPREC GRQSE BZWBU AXRRT NAVAG RYYVT RAPRV AJNEE\n",
      "7: IPCOH QCAAO BRSFG KSFSH FOWBS RHCZW BUSFC BHVSQ CBJCM GDFCXSQHSR ZWBSC TORJO BQSOH HVSZW AWHCT JWGWP WZWHM IBHWZ HVSTOZZCTR OFYHV SBHCG IFTOQ SWTDC GGWPZ SKWHV WBHVS QCBJC MQCZIABGTW FSGOZ JCSGT FCAPC KOBRG HSFBH IPSGG WAIZH OBSCI GZMOBRHCGI PASFU SOBRA OYSHV SWFSG QODSO GHVSS GQCFH GODDS OFSRHVSRWT TWQIZ HMTCF HVSIP COHGK OGHCZ CQOHS OQCBJ CMWBH VSTWFGHDZO QSHVS ZWAWH CTJWG WPWZW HMOHP SGHTF CAOQC BBWBU HCKSFKOGHS BAWZS GODOH FCZZW BSCTH SBIPC OHGQC IZRHV SFSTC FSQCJSFHKC VIBRF SRHKS BHMAW ZSGCT GSOOQ CBJCM CTTWT HMGVW DGASOBKVWZ SCQQI DWSRO TFCBH CTCBZ MHKSB HMTCI FVIBR FSRMO FRGWBHVSSB CFACI GGDOQ SGCTH VSOHZ OBHWQ OHZSO GHBWB SAWZZ WCBGEIOFSA WZSGC TCDSF OHWCB OZKOH SFGHV SCBSQ CIZRP SAWGG SRPMHVSCHV SFKWH VHVSU FSOHS GHSOG SOBRI GIOZZ MKOGP ORKSO HVSFDZOMSR ODOFH VWRWB UHVSQ CBJCM GTFCA USFAO BSMSG CFTCF QWBUIPCOHG HCGSS YGVSZ HSFTF CAHVS SZSAS BHGOH DSFWG QCDSR SDHVGCRWRF CIHWB SOZHS FOHWC BGCTQ CIFGS OBRSA SFUSB QMHIF BGWTQCBHOQ HKSFS AORSR SZWPS FOHSF SFCIH WBUCT QCBJC MGVCK SJSFOKOMTF CADOH FCZZW BSGOB RKCZT DOQYG ZCQOH SRPMP ZSHQV ZSMKOGHVSA CGHDF CRIQH WJSAS HVCRR OJWRY OVBHV SUFSO HVWGH CFWOBCTQFM DHCUF ODVMU WJSGO RFOAO HWQOQ QCIBH CTCBS GIQVF SFCIHWBUQC BHSGH WBVWG PCCYC BHVSI PCOHK OFGSW NWBUH VSSBW UAOHVWGDOG GOUSS LQSFD HSRTF CAXCV BYSSU OBWBH SZZWU SBQSW BKOFF\n",
      "8: JQDPI RDBBP CSTGH LTGTI GPXCT SIDAX CVTGD CIWTR DCKDN HEGDYTRITS AXCTD UPSKP CRTPI IWTAX BXIDU KXHXQ XAXIN JCIXA IWTUPAADUS PGZIW TCIDH JGUPR TXUED HHXQA TLXIW XCIWT RDCKD NRDAJBCHUX GTHPA KDTHU GDBQD LPCSH ITGCI JQTHH XBJAI PCTDJ HANPCSIDHJ QBTGV TPCSB PZTIW TXGTH RPETP HIWTT HRDGI HPEET PGTSIWTSXU UXRJA INUDG IWTJQ DPIHL PHIDA DRPIT PRDCK DNXCI WTUXGHIEAP RTIWT AXBXI DUKXH XQXAX INPIQ THIUG DBPRD CCXCV IDLTGLPHIT CBXAT HPEPI GDAAX CTDUI TCJQD PIHRD JASIW TGTUD GTRDKTGILD WJCSG TSILT CINBX ATHDU HTPPR DCKDN DUUXU INHWX EHBTPCLWXA TDRRJ EXTSP UGDCI DUDCA NILTC INUDJ GWJCS GTSNP GSHXCIWTTC DGBDJ HHEPR THDUI WTPIA PCIXR PIATP HICXC TBXAA XDCHFJPGTB XATHD UDETG PIXDC PALPI TGHIW TDCTR DJASQ TBXHH TSQNIWTDIW TGLXI WIWTV GTPIT HITPH TPCSJ HJPAA NLPHQ PSLTP IWTGEAPNTS PEPGI WXSXC VIWTR DCKDN HUGDB VTGBP CTNTH DGUDG RXCVJQDPIH IDHTT ZHWTA ITGUG DBIWT TATBT CIHPI ETGXH RDETS TEIWHDSXSG DJIXC TPAIT GPIXD CHDUR DJGHT PCSTB TGVTC RNIJG CHXURDCIPR ILTGT BPSTS TAXQT GPITG TGDJI XCVDU RDCKD NHWDL TKTGPLPNUG DBEPI GDAAX CTHPC SLDAU EPRZH ADRPI TSQNQ ATIRW ATNLPHIWTB DHIEG DSJRI XKTBT IWDSS PKXSZ PWCIW TVGTP IWXHI DGXPCDURGN EIDVG PEWNV XKTHP SGPBP IXRPR RDJCI DUDCT HJRWG TGDJIXCVRD CITHI XCWXH QDDZD CIWTJ QDPIL PGHTX OXCVI WTTCX VBPIWXHEPH HPVTT MRTGE ITSUG DBYDW CZTTV PCXCI TAAXV TCRTX CLPGG\n",
      "9: KREQJ SECCQ DTUHI MUHUJ HQYDU TJEBY DWUHE DJXUS EDLEO IFHEZUSJUT BYDUE VQTLQ DSUQJ JXUBY CYJEV LYIYR YBYJO KDJYB JXUVQBBEVT QHAJX UDJEI KHVQS UYVFE IIYRB UMYJX YDJXU SEDLE OSEBKCDIVY HUIQB LEUIV HECRE MQDTI JUHDJ KRUII YCKBJ QDUEK IBOQDTJEIK RCUHW UQDTC QAUJX UYHUI SQFUQ IJXUU ISEHJ IQFFU QHUTJXUTYV VYSKB JOVEH JXUKR EQJIM QIJEB ESQJU QSEDL EOYDJ XUVYHIJFBQ SUJXU BYCYJ EVLYI YRYBY JOQJR UIJVH ECQSE DDYDW JEMUHMQIJU DCYBU IQFQJ HEBBY DUEVJ UDKRE QJISE KBTJX UHUVE HUSELUHJME XKDTH UTJMU DJOCY BUIEV IUQQS EDLEO EVVYV JOIXY FICUQDMXYB UESSK FYUTQ VHEDJ EVEDB OJMUD JOVEK HXKDT HUTOQ HTIYDJXUUD EHCEK IIFQS UIEVJ XUQJB QDJYS QJBUQ IJDYD UCYBB YEDIGKQHUC YBUIE VEFUH QJYED QBMQJ UHIJX UEDUS EKBTR UCYII UTROJXUEJX UHMYJ XJXUW HUQJU IJUQI UQDTK IKQBB OMQIR QTMUQ JXUHFBQOUT QFQHJ XYTYD WJXUS EDLEO IVHEC WUHCQ DUOUI EHVEH SYDWKREQJI JEIUU AIXUB JUHVH ECJXU UBUCU DJIQJ FUHYI SEFUT UFJXIETYTH EKJYD UQBJU HQJYE DIEVS EKHIU QDTUC UHWUD SOJKH DIYVSEDJQS JMUHU CQTUT UBYRU HQJUH UHEKJ YDWEV SEDLE OIXEM ULUHQMQOVH ECFQJ HEBBY DUIQD TMEBV FQSAI BESQJ UTROR BUJSX BUOMQIJXUC EIJFH ETKSJ YLUCU JXETT QLYTA QXDJX UWHUQ JXYIJ EHYQDEVSHO FJEWH QFXOW YLUIQ THQCQ JYSQS SEKDJ EVEDU IKSXH UHEKJYDWSE DJUIJ YDXYI REEAE DJXUK REQJM QHIUY PYDWJ XUUDY WCQJXYIFQI IQWUU NSUHF JUTVH ECZEX DAUUW QDYDJ UBBYW UDSUY DMQHH\n",
      "10: LSFRK TFDDR EUVIJ NVIVK IRZEV UKFCZ EXVIF EKYVT FEMFP JGIFAVTKVU CZEVF WRUMR ETVRK KYVCZ DZKFW MZJZS ZCZKP LEKZC KYVWRCCFWU RIBKY VEKFJ LIWRT VZWGF JJZSC VNZKY ZEKYV TFEMF PTFCLDEJWZ IVJRC MFVJW IFDSF NREUJ KVIEK LSVJJ ZDLCK REVFL JCPREUKFJL SDVIX VREUD RBVKY VZIVJ TRGVR JKYVV JTFIK JRGGV RIVUKYVUZW WZTLC KPWFI KYVLS FRKJN RJKFC FTRKV RTFEM FPZEK YVWZIJKGCR TVKYV CZDZK FWMZJ ZSZCZ KPRKS VJKWI FDRTF EEZEX KFNVINRJKV EDZCV JRGRK IFCCZ EVFWK VELSF RKJTF LCUKY VIVWF IVTFMVIKNF YLEUI VUKNV EKPDZ CVJFW JVRRT FEMFP FWWZW KPJYZ GJDVRENYZC VFTTL GZVUR WIFEK FWFEC PKNVE KPWFL IYLEU IVUPR IUJZEKYVVE FIDFL JJGRT VJFWK YVRKC REKZT RKCVR JKEZE VDZCC ZFEJHLRIVD ZCVJF WFGVI RKZFE RCNRK VIJKY VFEVT FLCUS VDZJJ VUSPKYVFKY VINZK YKYVX IVRKV JKVRJ VREUL JLRCC PNRJS RUNVR KYVIGCRPVU RGRIK YZUZE XKYVT FEMFP JWIFD XVIDR EVPVJ FIWFI TZEXLSFRKJ KFJVV BJYVC KVIWI FDKYV VCVDV EKJRK GVIZJ TFGVU VGKYJFUZUI FLKZE VRCKV IRKZF EJFWT FLIJV REUVD VIXVE TPKLI EJZWTFEKRT KNVIV DRUVU VCZSV IRKVI VIFLK ZEXFW TFEMF PJYFN VMVIRNRPWI FDGRK IFCCZ EVJRE UNFCW GRTBJ CFTRK VUSPS CVKTY CVPNRJKYVD FJKGI FULTK ZMVDV KYFUU RMZUB RYEKY VXIVR KYZJK FIZREFWTIP GKFXI RGYPX ZMVJR UIRDR KZTRT TFLEK FWFEV JLTYI VIFLKZEXTF EKVJK ZEYZJ SFFBF EKYVL SFRKN RIJVZ QZEXK YVVEZ XDRKYZJGRJ JRXVV OTVIG KVUWI FDAFY EBVVX REZEK VCCZX VETVZ ENRII\n",
      "11: MTGSL UGEES FVWJK OWJWL JSAFW VLGDA FYWJG FLZWU GFNGQ KHJGBWULWV DAFWG XSVNS FUWSL LZWDA EALGX NAKAT ADALQ MFLAD LZWXSDDGXV SJCLZ WFLGK MJXSU WAXHG KKATD WOALZ AFLZW UGFNG QUGDMEFKXA JWKSD NGWKX JGETG OSFVK LWJFL MTWKK AEMDL SFWGM KDQSFVLGKM TEWJY WSFVE SCWLZ WAJWK USHWS KLZWW KUGJL KSHHW SJWVLZWVAX XAUMD LQXGJ LZWMT GSLKO SKLGD GUSLW SUGFN GQAFL ZWXAJKLHDS UWLZW DAEAL GXNAK ATADA LQSLT WKLXJ GESUG FFAFY LGOWJOSKLW FEADW KSHSL JGDDA FWGXL WFMTG SLKUG MDVLZ WJWXG JWUGNWJLOG ZMFVJ WVLOW FLQEA DWKGX KWSSU GFNGQ GXXAX LQKZA HKEWSFOZAD WGUUM HAWVS XJGFL GXGFD QLOWF LQXGM JZMFV JWVQS JVKAFLZWWF GJEGM KKHSU WKGXL ZWSLD SFLAU SLDWS KLFAF WEADD AGFKIMSJWE ADWKG XGHWJ SLAGF SDOSL WJKLZ WGFWU GMDVT WEAKK WVTQLZWGLZ WJOAL ZLZWY JWSLW KLWSK WSFVM KMSDD QOSKT SVOWS LZWJHDSQWV SHSJL ZAVAF YLZWU GFNGQ KXJGE YWJES FWQWK GJXGJ UAFYMTGSLK LGKWW CKZWD LWJXJ GELZW WDWEW FLKSL HWJAK UGHWV WHLZKGVAVJ GMLAF WSDLW JSLAG FKGXU GMJKW SFVWE WJYWF UQLMJ FKAXUGFLSU LOWJW ESVWV WDATW JSLWJ WJGML AFYGX UGFNG QKZGO WNWJSOSQXJ GEHSL JGDDA FWKSF VOGDX HSUCK DGUSL WVTQT DWLUZ DWQOSKLZWE GKLHJ GVMUL ANWEW LZGVV SNAVC SZFLZ WYJWS LZAKL GJASFGXUJQ HLGYJ SHZQY ANWKS VJSES LAUSU UGMFL GXGFW KMUZJ WJGMLAFYUG FLWKL AFZAK TGGCG FLZWM TGSLO SJKWA RAFYL ZWWFA YESLZAKHSK KSYWW PUWJH LWVXJ GEBGZ FCWWY SFAFL WDDAY WFUWA FOSJJ\n",
      "12: NUHTM VHFFT GWXKL PXKXM KTBGX WMHEB GZXKH GMAXV HGOHR LIKHCXVMXW EBGXH YTWOT GVXTM MAXEB FBMHY OBLBU BEBMR NGMBE MAXYTEEHYW TKDMA XGMHL NKYTV XBYIH LLBUE XPBMA BGMAX VHGOH RVHENFGLYB KXLTE OHXLY KHFUH PTGWL MXKGM NUXLL BFNEM TGXHN LERTGWMHLN UFXKZ XTGWF TDXMA XBKXL VTIXT LMAXX LVHKM LTIIX TKXWMAXWBY YBVNE MRYHK MAXNU HTMLP TLMHE HVTMX TVHGO HRBGM AXYBKLMIET VXMAX EBFBM HYOBL BUBEB MRTMU XLMYK HFTVH GGBGZ MHPXKPTLMX GFBEX LTITM KHEEB GXHYM XGNUH TMLVH NEWMA XKXYH KXVHOXKMPH ANGWK XWMPX GMRFB EXLHY LXTTV HGOHR HYYBY MRLAB ILFXTGPABE XHVVN IBXWT YKHGM HYHGE RMPXG MRYHN KANGW KXWRT KWLBGMAXXG HKFHN LLITV XLHYM AXTME TGMBV TMEXT LMGBG XFBEE BHGLJNTKXF BEXLH YHIXK TMBHG TEPTM XKLMA XHGXV HNEWU XFBLL XWURMAXHMA XKPBM AMAXZ KXTMX LMXTL XTGWN LNTEE RPTLU TWPXT MAXKIETRXW TITKM ABWBG ZMAXV HGOHR LYKHF ZXKFT GXRXL HKYHK VBGZNUHTML MHLXX DLAXE MXKYK HFMAX XEXFX GMLTM IXKBL VHIXW XIMALHWBWK HNMBG XTEMX KTMBH GLHYV HNKLX TGWXF XKZXG VRMNK GLBYVHGMTV MPXKX FTWXW XEBUX KTMXK XKHNM BGZHY VHGOH RLAHP XOXKTPTRYK HFITM KHEEB GXLTG WPHEY ITVDL EHVTM XWURU EXMVA EXRPTLMAXF HLMIK HWNVM BOXFX MAHWW TOBWD TAGMA XZKXT MABLM HKBTGHYVKR IMHZK TIARZ BOXLT WKTFT MBVTV VHNGM HYHGX LNVAK XKHNMBGZVH GMXLM BGABL UHHDH GMAXN UHTMP TKLXB SBGZM AXXGB ZFTMABLITL LTZXX QVXKI MXWYK HFCHA GDXXZ TGBGM XEEBZ XGVXB GPTKK\n",
      "13: OVIUN WIGGU HXYLM QYLYN LUCHY XNIFC HAYLI HNBYW IHPIS MJLIDYWNYX FCHYI ZUXPU HWYUN NBYFC GCNIZ PCMCV CFCNS OHNCF NBYZUFFIZX ULENB YHNIM OLZUW YCZJI MMCVF YQCNB CHNBY WIHPI SWIFOGHMZC LYMUF PIYMZ LIGVI QUHXM NYLHN OVYMM CGOFN UHYIO MFSUHXNIMO VGYLA YUHXG UEYNB YCLYM WUJYU MNBYY MWILN MUJJY ULYXNBYXCZ ZCWOF NSZIL NBYOV IUNMQ UMNIF IWUNY UWIHP ISCHN BYZCLMNJFU WYNBY FCGCN IZPCM CVCFC NSUNV YMNZL IGUWI HHCHA NIQYLQUMNY HGCFY MUJUN LIFFC HYIZN YHOVI UNMWI OFXNB YLYZI LYWIPYLNQI BOHXL YXNQY HNSGC FYMIZ MYUUW IHPIS IZZCZ NSMBC JMGYUHQBCF YIWWO JCYXU ZLIHN IZIHF SNQYH NSZIO LBOHX LYXSU LXMCHNBYYH ILGIO MMJUW YMIZN BYUNF UHNCW UNFYU MNHCH YGCFF CIHMKOULYG CFYMI ZIJYL UNCIH UFQUN YLMNB YIHYW IOFXV YGCMM YXVSNBYINB YLQCN BNBYA LYUNY MNYUM YUHXO MOUFF SQUMV UXQYU NBYLJFUSYX UJULN BCXCH ANBYW IHPIS MZLIG AYLGU HYSYM ILZIL WCHAOVIUNM NIMYY EMBYF NYLZL IGNBY YFYGY HNMUN JYLCM WIJYX YJNBMIXCXL IONCH YUFNY LUNCI HMIZW IOLMY UHXYG YLAYH WSNOL HMCZWIHNUW NQYLY GUXYX YFCVY LUNYL YLION CHAIZ WIHPI SMBIQ YPYLUQUSZL IGJUN LIFFC HYMUH XQIFZ JUWEM FIWUN YXVSV FYNWB FYSQUMNBYG IMNJL IXOWN CPYGY NBIXX UPCXE UBHNB YALYU NBCMN ILCUHIZWLS JNIAL UJBSA CPYMU XLUGU NCWUW WIOHN IZIHY MOWBL YLIONCHAWI HNYMN CHBCM VIIEI HNBYO VIUNQ ULMYC TCHAN BYYHC AGUNBCMJUM MUAYY RWYLJ NYXZL IGDIB HEYYA UHCHN YFFCA YHWYC HQULL\n",
      "14: PWJVO XJHHV IYZMN RZMZO MVDIZ YOJGD IBZMJ IOCZX JIQJT NKMJEZXOZY GDIZJ AVYQV IXZVO OCZGD HDOJA QDNDW DGDOT PIODG OCZAVGGJAY VMFOC ZIOJN PMAVX ZDAKJ NNDWG ZRDOC DIOCZ XJIQJ TXJGPHINAD MZNVG QJZNA MJHWJ RVIYN OZMIO PWZNN DHPGO VIZJP NGTVIYOJNP WHZMB ZVIYH VFZOC ZDMZN XVKZV NOCZZ NXJMO NVKKZ VMZYOCZYDA ADXPG OTAJM OCZPW JVONR VNOJG JXVOZ VXJIQ JTDIO CZADMNOKGV XZOCZ GDHDO JAQDN DWDGD OTVOW ZNOAM JHVXJ IIDIB OJRZMRVNOZ IHDGZ NVKVO MJGGD IZJAO ZIPWJ VONXJ PGYOC ZMZAJ MZXJQZMORJ CPIYM ZYORZ IOTHD GZNJA NZVVX JIQJT JAADA OTNCD KNHZVIRCDG ZJXXP KDZYV AMJIO JAJIG TORZI OTAJP MCPIY MZYTV MYNDIOCZZI JMHJP NNKVX ZNJAO CZVOG VIODX VOGZV NOIDI ZHDGG DJINLPVMZH DGZNJ AJKZM VODJI VGRVO ZMNOC ZJIZX JPGYW ZHDNN ZYWTOCZJOC ZMRDO COCZB MZVOZ NOZVN ZVIYP NPVGG TRVNW VYRZV OCZMKGVTZY VKVMO CDYDI BOCZX JIQJT NAMJH BZMHV IZTZN JMAJM XDIBPWJVON OJNZZ FNCZG OZMAM JHOCZ ZGZHZ IONVO KZMDN XJKZY ZKOCNJYDYM JPODI ZVGOZ MVODJ INJAX JPMNZ VIYZH ZMBZI XTOPM INDAXJIOVX ORZMZ HVYZY ZGDWZ MVOZM ZMJPO DIBJA XJIQJ TNCJR ZQZMVRVTAM JHKVO MJGGD IZNVI YRJGA KVXFN GJXVO ZYWTW GZOXC GZTRVNOCZH JNOKM JYPXO DQZHZ OCJYY VQDYF VCIOC ZBMZV OCDNO JMDVIJAXMT KOJBM VKCTB DQZNV YMVHV ODXVX XJPIO JAJIZ NPXCM ZMJPODIBXJ IOZNO DICDN WJJFJ IOCZP WJVOR VMNZD UDIBO CZZID BHVOCDNKVN NVBZZ SXZMK OZYAM JHEJC IFZZB VIDIO ZGGDB ZIXZD IRVMM\n",
      "15: QXKWP YKIIW JZANO SANAP NWEJA ZPKHE JCANK JPDAY KJRKU OLNKFAYPAZ HEJAK BWZRW JYAWP PDAHE IEPKB REOEX EHEPU QJPEH PDABWHHKBZ WNGPD AJPKO QNBWY AEBLK OOEXH ASEPD EJPDA YKJRK UYKHQIJOBE NAOWH RKAOB NKIXK SWJZO PANJP QXAOO EIQHP WJAKQ OHUWJZPKOQ XIANC AWJZI WGAPD AENAO YWLAW OPDAA OYKNP OWLLA WNAZPDAZEB BEYQH PUBKN PDAQX KWPOS WOPKH KYWPA WYKJR KUEJP DABENOPLHW YAPDA HEIEP KBREO EXEHE PUWPX AOPBN KIWYK JJEJC PKSANSWOPA JIEHA OWLWP NKHHE JAKBP AJQXK WPOYK QHZPD ANABK NAYKRANPSK DQJZN AZPSA JPUIE HAOKB OAWWY KJRKU KBBEB PUODE LOIAWJSDEH AKYYQ LEAZW BNKJP KBKJH UPSAJ PUBKQ NDQJZ NAZUW NZOEJPDAAJ KNIKQ OOLWY AOKBP DAWPH WJPEY WPHAW OPJEJ AIEHH EKJOMQWNAI EHAOK BKLAN WPEKJ WHSWP ANOPD AKJAY KQHZX AIEOO AZXUPDAKPD ANSEP DPDAC NAWPA OPAWO AWJZQ OQWHH USWOX WZSAW PDANLHWUAZ WLWNP DEZEJ CPDAY KJRKU OBNKI CANIW JAUAO KNBKN YEJCQXKWPO PKOAA GODAH PANBN KIPDA AHAIA JPOWP LANEO YKLAZ ALPDOKZEZN KQPEJ AWHPA NWPEK JOKBY KQNOA WJZAI ANCAJ YUPQN JOEBYKJPWY PSANA IWZAZ AHEXA NWPAN ANKQP EJCKB YKJRK UODKS ARANWSWUBN KILWP NKHHE JAOWJ ZSKHB LWYGO HKYWP AZXUX HAPYD HAUSWOPDAI KOPLN KZQYP ERAIA PDKZZ WREZG WDJPD ACNAW PDEOP KNEWJKBYNU LPKCN WLDUC ERAOW ZNWIW PEYWY YKQJP KBKJA OQYDN ANKQPEJCYK JPAOP EJDEO XKKGK JPDAQ XKWPS WNOAE VEJCP DAAJE CIWPDEOLWO OWCAA TYANL PAZBN KIFKD JGAAC WJEJP AHHEC AJYAE JSWNN\n",
      "16: RYLXQ ZLJJX KABOP TBOBQ OXFKB AQLIF KDBOL KQEBZ LKSLV PMOLGBZQBA IFKBL CXASX KZBXQ QEBIF JFQLC SFPFY FIFQV RKQFI QEBCXIILCA XOHQE BKQLP ROCXZ BFCML PPFYI BTFQE FKQEB ZLKSL VZLIRJKPCF OBPXI SLBPC OLJYL TXKAP QBOKQ RYBPP FJRIQ XKBLR PIVXKAQLPR YJBOD BXKAJ XHBQE BFOBP ZXMBX PQEBB PZLOQ PXMMB XOBAQEBAFC CFZRI QVCLO QEBRY LXQPT XPQLI LZXQB XZLKS LVFKQ EBCFOPQMIX ZBQEB IFJFQ LCSFP FYFIF QVXQY BPQCO LJXZL KKFKD QLTBOTXPQB KJFIB PXMXQ OLIIF KBLCQ BKRYL XQPZL RIAQE BOBCL OBZLSBOQTL ERKAO BAQTB KQVJF IBPLC PBXXZ LKSLV LCCFC QVPEF MPJBXKTEFI BLZZR MFBAX COLKQ LCLKI VQTBK QVCLR OERKA OBAVX OAPFKQEBBK LOJLR PPMXZ BPLCQ EBXQI XKQFZ XQIBX PQKFK BJFII FLKPNRXOBJ FIBPL CLMBO XQFLK XITXQ BOPQE BLKBZ LRIAY BJFPP BAYVQEBLQE BOTFQ EQEBD OBXQB PQBXP BXKAR PRXII VTXPY XATBX QEBOMIXVBA XMXOQ EFAFK DQEBZ LKSLV PCOLJ DBOJX KBVBP LOCLO ZFKDRYLXQP QLPBB HPEBI QBOCO LJQEB BIBJB KQPXQ MBOFP ZLMBA BMQEPLAFAO LRQFK BXIQB OXQFL KPLCZ LROPB XKABJ BODBK ZVQRO KPFCZLKQXZ QTBOB JXABA BIFYB OXQBO BOLRQ FKDLC ZLKSL VPELT BSBOXTXVCO LJMXQ OLIIF KBPXK ATLIC MXZHP ILZXQ BAYVY IBQZE IBVTXPQEBJ LPQMO LARZQ FSBJB QELAA XSFAH XEKQE BDOBX QEFPQ LOFXKLCZOV MQLDO XMEVD FSBPX AOXJX QFZXZ ZLRKQ LCLKB PRZEO BOLRQFKDZL KQBPQ FKEFP YLLHL KQEBR YLXQT XOPBF WFKDQ EBBKF DJXQEFPMXP PXDBB UZBOM QBACO LJGLE KHBBD XKFKQ BIIFD BKZBF KTXOO\n",
      "17: SZMYR AMKKY LBCPQ UCPCR PYGLC BRMJG LECPM LRFCA MLTMW QNPMHCARCB JGLCM DYBTY LACYR RFCJG KGRMD TGQGZ GJGRW SLRGJ RFCDYJJMDB YPIRF CLRMQ SPDYA CGDNM QQGZJ CUGRF GLRFC AMLTM WAMJSKLQDG PCQYJ TMCQD PMKZM UYLBQ RCPLR SZCQQ GKSJR YLCMS QJWYLBRMQS ZKCPE CYLBK YICRF CGPCQ AYNCY QRFCC QAMPR QYNNC YPCBRFCBGD DGASJ RWDMP RFCSZ MYRQU YQRMJ MAYRC YAMLT MWGLR FCDGPQRNJY ACRFC JGKGR MDTGQ GZGJG RWYRZ CQRDP MKYAM LLGLE RMUCPUYQRC LKGJC QYNYR PMJJG LCMDR CLSZM YRQAM SJBRF CPCDM PCAMTCPRUM FSLBP CBRUC LRWKG JCQMD QCYYA MLTMW MDDGD RWQFG NQKCYLUFGJ CMAAS NGCBY DPMLR MDMLJ WRUCL RWDMS PFSLB PCBWY PBQGLRFCCL MPKMS QQNYA CQMDR FCYRJ YLRGA YRJCY QRLGL CKGJJ GMLQOSYPCK GJCQM DMNCP YRGML YJUYR CPQRF CMLCA MSJBZ CKGQQ CBZWRFCMRF CPUGR FRFCE PCYRC QRCYQ CYLBS QSYJJ WUYQZ YBUCY RFCPNJYWCB YNYPR FGBGL ERFCA MLTMW QDPMK ECPKY LCWCQ MPDMP AGLESZMYRQ RMQCC IQFCJ RCPDP MKRFC CJCKC LRQYR NCPGQ AMNCB CNRFQMBGBP MSRGL CYJRC PYRGM LQMDA MSPQC YLBCK CPECL AWRSP LQGDAMLRYA RUCPC KYBCB CJGZC PYRCP CPMSR GLEMD AMLTM WQFMU CTCPYUYWDP MKNYR PMJJG LCQYL BUMJD NYAIQ JMAYR CBZWZ JCRAF JCWUYQRFCK MQRNP MBSAR GTCKC RFMBB YTGBI YFLRF CEPCY RFGQR MPGYLMDAPW NRMEP YNFWE GTCQY BPYKY RGAYA AMSLR MDMLC QSAFP CPMSRGLEAM LRCQR GLFGQ ZMMIM LRFCS ZMYRU YPQCG XGLER FCCLG EKYRFGQNYQ QYECC VACPN RCBDP MKHMF LICCE YLGLR CJJGE CLACG LUYPP\n",
      "18: TANZS BNLLZ MCDQR VDQDS QZHMD CSNKH MFDQN MSGDB NMUNX ROQNIDBSDC KHMDN EZCUZ MBDZS SGDKH LHSNE UHRHA HKHSX TMSHK SGDEZKKNEC ZQJSG DMSNR TQEZB DHEON RRHAK DVHSG HMSGD BNMUN XBNKTLMREH QDRZK UNDRE QNLAN VZMCR SDQMS TADRR HLTKS ZMDNT RKXZMCSNRT ALDQF DZMCL ZJDSG DHQDR BZODZ RSGDD RBNQS RZOOD ZQDCSGDCHE EHBTK SXENQ SGDTA NZSRV ZRSNK NBZSD ZBNMU NXHMS GDEHQRSOKZ BDSGD KHLHS NEUHR HAHKH SXZSA DRSEQ NLZBN MMHMF SNVDQVZRSD MLHKD RZOZS QNKKH MDNES DMTAN ZSRBN TKCSG DQDEN QDBNUDQSVN GTMCQ DCSVD MSXLH KDRNE RDZZB NMUNX NEEHE SXRGH ORLDZMVGHK DNBBT OHDCZ EQNMS NENMK XSVDM SXENT QGTMC QDCXZ QCRHMSGDDM NQLNT RROZB DRNES GDZSK ZMSHB ZSKDZ RSMHM DLHKK HNMRPTZQDL HKDRN ENODQ ZSHNM ZKVZS DQRSG DNMDB NTKCA DLHRR DCAXSGDNSG DQVHS GSGDF QDZSD RSDZR DZMCT RTZKK XVZRA ZCVDZ SGDQOKZXDC ZOZQS GHCHM FSGDB NMUNX REQNL FDQLZ MDXDR NQENQ BHMFTANZSR SNRDD JRGDK SDQEQ NLSGD DKDLD MSRZS ODQHR BNODC DOSGRNCHCQ NTSHM DZKSD QZSHN MRNEB NTQRD ZMCDL DQFDM BXSTQ MRHEBNMSZB SVDQD LZCDC DKHAD QZSDQ DQNTS HMFNE BNMUN XRGNV DUDQZVZXEQ NLOZS QNKKH MDRZM CVNKE OZBJR KNBZS DCAXA KDSBG KDXVZRSGDL NRSOQ NCTBS HUDLD SGNCC ZUHCJ ZGMSG DFQDZ SGHRS NQHZMNEBQX OSNFQ ZOGXF HUDRZ CQZLZ SHBZB BNTMS NENMD RTBGQ DQNTSHMFBN MSDRS HMGHR ANNJN MSGDT ANZSV ZQRDH YHMFS GDDMH FLZSGHROZR RZFDD WBDQO SDCEQ NLING MJDDF ZMHMS DKKHF DMBDH MVZQQ\n",
      "19: UBOAT COMMA NDERS WERET RAINE DTOLI NGERO NTHEC ONVOY SPROJECTED LINEO FADVA NCEAT THELI MITOF VISIB ILITY UNTIL THEFALLOFD ARKTH ENTOS URFAC EIFPO SSIBL EWITH INTHE CONVO YCOLUMNSFI RESAL VOESF ROMBO WANDS TERNT UBESS IMULT ANEOU SLYANDTOSU BMERG EANDM AKETH EIRES CAPEA STHEE SCORT SAPPE AREDTHEDIF FICUL TYFOR THEUB OATSW ASTOL OCATE ACONV OYINT HEFIRSTPLA CETHE LIMIT OFVIS IBILI TYATB ESTFR OMACO NNING TOWERWASTE NMILE SAPAT ROLLI NEOFT ENUBO ATSCO ULDTH EREFO RECOVERTWO HUNDR EDTWE NTYMI LESOF SEAAC ONVOY OFFIF TYSHI PSMEANWHIL EOCCU PIEDA FRONT OFONL YTWEN TYFOU RHUND REDYA RDSINTHEEN ORMOU SSPAC ESOFT HEATL ANTIC ATLEA STNIN EMILL IONSQUAREM ILESO FOPER ATION ALWAT ERSTH EONEC OULDB EMISS EDBYTHEOTH ERWIT HTHEG REATE STEAS EANDU SUALL YWASB ADWEA THERPLAYED APART HIDIN GTHEC ONVOY SFROM GERMA NEYES ORFOR CINGUBOATS TOSEE KSHEL TERFR OMTHE ELEME NTSAT PERIS COPED EPTHSODIDR OUTIN EALTE RATIO NSOFC OURSE ANDEM ERGEN CYTUR NSIFCONTAC TWERE MADED ELIBE RATER EROUT INGOF CONVO YSHOW EVERAWAYFR OMPAT ROLLI NESAN DWOLF PACKS LOCAT EDBYB LETCH LEYWASTHEM OSTPR ODUCT IVEME THODD AVIDK AHNTH EGREA THIST ORIANOFCRY PTOGR APHYG IVESA DRAMA TICAC COUNT OFONE SUCHR EROUTINGCO NTEST INHIS BOOKO NTHEU BOATW ARSEI ZINGT HEENI GMATHISPAS SAGEE XCERP TEDFR OMJOH NKEEG ANINT ELLIG ENCEI NWARR\n",
      "20: VCPBU DPNNB OEFST XFSFU SBJOF EUPMJ OHFSP OUIFD POWPZ TQSPKFDUFE MJOFP GBEWB ODFBU UIFMJ NJUPG WJTJC JMJUZ VOUJM UIFGBMMPGE BSLUI FOUPT VSGBD FJGQP TTJCM FXJUI JOUIF DPOWP ZDPMVNOTGJ SFTBM WPFTG SPNCP XBOET UFSOU VCFTT JNVMU BOFPV TMZBOEUPTV CNFSH FBOEN BLFUI FJSFT DBQFB TUIFF TDPSU TBQQF BSFEUIFEJG GJDVM UZGPS UIFVC PBUTX BTUPM PDBUF BDPOW PZJOU IFGJSTUQMB DFUIF MJNJU PGWJT JCJMJ UZBUC FTUGS PNBDP OOJOH UPXFSXBTUF ONJMF TBQBU SPMMJ OFPGU FOVCP BUTDP VMEUI FSFGP SFDPWFSUXP IVOES FEUXF OUZNJ MFTPG TFBBD POWPZ PGGJG UZTIJ QTNFBOXIJM FPDDV QJFEB GSPOU PGPOM ZUXFO UZGPV SIVOE SFEZB SETJOUIFFO PSNPV TTQBD FTPGU IFBUM BOUJD BUMFB TUOJO FNJMM JPOTRVBSFN JMFTP GPQFS BUJPO BMXBU FSTUI FPOFD PVMEC FNJTT FECZUIFPUI FSXJU IUIFH SFBUF TUFBT FBOEV TVBMM ZXBTC BEXFB UIFSQMBZFE BQBSU IJEJO HUIFD POWPZ TGSPN HFSNB OFZFT PSGPS DJOHVCPBUT UPTFF LTIFM UFSGS PNUIF FMFNF OUTBU QFSJT DPQFE FQUITPEJES PVUJO FBMUF SBUJP OTPGD PVSTF BOEFN FSHFO DZUVS OTJGDPOUBD UXFSF NBEFE FMJCF SBUFS FSPVU JOHPG DPOWP ZTIPX FWFSBXBZGS PNQBU SPMMJ OFTBO EXPMG QBDLT MPDBU FECZC MFUDI MFZXBTUIFN PTUQS PEVDU JWFNF UIPEE BWJEL BIOUI FHSFB UIJTU PSJBOPGDSZ QUPHS BQIZH JWFTB ESBNB UJDBD DPVOU PGPOF TVDIS FSPVUJOHDP OUFTU JOIJT CPPLP OUIFV CPBUX BSTFJ AJOHU IFFOJ HNBUIJTQBT TBHFF YDFSQ UFEGS PNKPI OLFFH BOJOU FMMJH FODFJ OXBSS\n",
      "21: WDQCV EQOOC PFGTU YGTGV TCKPG FVQNK PIGTQ PVJGE QPXQA URTQLGEVGF NKPGQ HCFXC PEGCV VJGNK OKVQH XKUKD KNKVA WPVKN VJGHCNNQHF CTMVJ GPVQU WTHCE GKHRQ UUKDN GYKVJ KPVJG EQPXQ AEQNWOPUHK TGUCN XQGUH TQODQ YCPFU VGTPV WDGUU KOWNV CPGQW UNACPFVQUW DOGTI GCPFO CMGVJ GKTGU ECRGC UVJGG UEQTV UCRRG CTGFVJGFKH HKEWN VAHQT VJGWD QCVUY CUVQN QECVG CEQPX QAKPV JGHKTUVRNC EGVJG NKOKV QHXKU KDKNK VACVD GUVHT QOCEQ PPKPI VQYGTYCUVG POKNG UCRCV TQNNK PGQHV GPWDQ CVUEQ WNFVJ GTGHQ TGEQXGTVYQ JWPFT GFVYG PVAOK NGUQH UGCCE QPXQA QHHKH VAUJK RUOGCPYJKN GQEEW RKGFC HTQPV QHQPN AVYGP VAHQW TJWPF TGFAC TFUKPVJGGP QTOQW UURCE GUQHV JGCVN CPVKE CVNGC UVPKP GOKNN KQPUSWCTGO KNGUQ HQRGT CVKQP CNYCV GTUVJ GQPGE QWNFD GOKUU GFDAVJGQVJ GTYKV JVJGI TGCVG UVGCU GCPFW UWCNN AYCUD CFYGC VJGTRNCAGF CRCTV JKFKP IVJGE QPXQA UHTQO IGTOC PGAGU QTHQT EKPIWDQCVU VQUGG MUJGN VGTHT QOVJG GNGOG PVUCV RGTKU EQRGF GRVJUQFKFT QWVKP GCNVG TCVKQ PUQHE QWTUG CPFGO GTIGP EAVWT PUKHEQPVCE VYGTG OCFGF GNKDG TCVGT GTQWV KPIQH EQPXQ AUJQY GXGTCYCAHT QORCV TQNNK PGUCP FYQNH RCEMU NQECV GFDAD NGVEJ NGAYCUVJGO QUVRT QFWEV KXGOG VJQFF CXKFM CJPVJ GITGC VJKUV QTKCPQHETA RVQIT CRJAI KXGUC FTCOC VKECE EQWPV QHQPG UWEJT GTQWVKPIEQ PVGUV KPJKU DQQMQ PVJGW DQCVY CTUGK BKPIV JGGPK IOCVJKURCU UCIGG ZEGTR VGFHT QOLQJ PMGGI CPKPV GNNKI GPEGK PYCTT\n",
      "22: XERDW FRPPD QGHUV ZHUHW UDLQH GWROL QJHUR QWKHF RQYRB VSURMHFWHG OLQHR IDGYD QFHDW WKHOL PLWRI YLVLE LOLWB XQWLO WKHIDOORIG DUNWK HQWRV XUIDF HLISR VVLEO HZLWK LQWKH FRQYR BFROXPQVIL UHVDO YRHVI URPER ZDQGV WHUQW XEHVV LPXOW DQHRX VOBDQGWRVX EPHUJ HDQGP DNHWK HLUHV FDSHD VWKHH VFRUW VDSSH DUHGWKHGLI ILFXO WBIRU WKHXE RDWVZ DVWRO RFDWH DFRQY RBLQW KHILUVWSOD FHWKH OLPLW RIYLV LELOL WBDWE HVWIU RPDFR QQLQJ WRZHUZDVWH QPLOH VDSDW UROOL QHRIW HQXER DWVFR XOGWK HUHIR UHFRYHUWZR KXQGU HGWZH QWBPL OHVRI VHDDF RQYRB RIILI WBVKL SVPHDQZKLO HRFFX SLHGD IURQW RIRQO BWZHQ WBIRX UKXQG UHGBD UGVLQWKHHQ RUPRX VVSDF HVRIW KHDWO DQWLF DWOHD VWQLQ HPLOO LRQVTXDUHP LOHVR IRSHU DWLRQ DOZDW HUVWK HRQHF RXOGE HPLVV HGEBWKHRWK HUZLW KWKHJ UHDWH VWHDV HDQGX VXDOO BZDVE DGZHD WKHUSODBHG DSDUW KLGLQ JWKHF RQYRB VIURP JHUPD QHBHV RUIRU FLQJXERDWV WRVHH NVKHO WHUIU RPWKH HOHPH QWVDW SHULV FRSHG HSWKVRGLGU RXWLQ HDOWH UDWLR QVRIF RXUVH DQGHP HUJHQ FBWXU QVLIFRQWDF WZHUH PDGHG HOLEH UDWHU HURXW LQJRI FRQYR BVKRZ HYHUDZDBIU RPSDW UROOL QHVDQ GZROI SDFNV ORFDW HGEBE OHWFK OHBZDVWKHP RVWSU RGXFW LYHPH WKRGG DYLGN DKQWK HJUHD WKLVW RULDQRIFUB SWRJU DSKBJ LYHVD GUDPD WLFDF FRXQW RIRQH VXFKU HURXWLQJFR QWHVW LQKLV ERRNR QWKHX ERDWZ DUVHL CLQJW KHHQL JPDWKLVSDV VDJHH AFHUS WHGIU RPMRK QNHHJ DQLQW HOOLJ HQFHL QZDUU\n",
      "23: YFSEX GSQQE RHIVW AIVIX VEMRI HXSPM RKIVS RXLIG SRZSC WTVSNIGXIH PMRIS JEHZE RGIEX XLIPM QMXSJ ZMWMF MPMXC YRXMP XLIJEPPSJH EVOXL IRXSW YVJEG IMJTS WWMFP IAMXL MRXLI GSRZS CGSPYQRWJM VIWEP ZSIWJ VSQFS AERHW XIVRX YFIWW MQYPX ERISY WPCERHXSWY FQIVK IERHQ EOIXL IMVIW GETIE WXLII WGSVX WETTI EVIHXLIHMJ JMGYP XCJSV XLIYF SEXWA EWXSP SGEXI EGSRZ SCMRX LIJMVWXTPE GIXLI PMQMX SJZMW MFMPM XCEXF IWXJV SQEGS RRMRK XSAIVAEWXI RQMPI WETEX VSPPM RISJX IRYFS EXWGS YPHXL IVIJS VIGSZIVXAS LYRHV IHXAI RXCQM PIWSJ WIEEG SRZSC SJJMJ XCWLM TWQIERALMP ISGGY TMIHE JVSRX SJSRP CXAIR XCJSY VLYRH VIHCE VHWMRXLIIR SVQSY WWTEG IWSJX LIEXP ERXMG EXPIE WXRMR IQMPP MSRWUYEVIQ MPIWS JSTIV EXMSR EPAEX IVWXL ISRIG SYPHF IQMWW IHFCXLISXL IVAMX LXLIK VIEXI WXIEW IERHY WYEPP CAEWF EHAIE XLIVTPECIH ETEVX LMHMR KXLIG SRZSC WJVSQ KIVQE RICIW SVJSV GMRKYFSEXW XSWII OWLIP XIVJV SQXLI IPIQI RXWEX TIVMW GSTIH ITXLWSHMHV SYXMR IEPXI VEXMS RWSJG SYVWI ERHIQ IVKIR GCXYV RWMJGSRXEG XAIVI QEHIH IPMFI VEXIV IVSYX MRKSJ GSRZS CWLSA IZIVEAECJV SQTEX VSPPM RIWER HASPJ TEGOW PSGEX IHFCF PIXGL PICAEWXLIQ SWXTV SHYGX MZIQI XLSHH EZMHO ELRXL IKVIE XLMWX SVMERSJGVC TXSKV ETLCK MZIWE HVEQE XMGEG GSYRX SJSRI WYGLV IVSYXMRKGS RXIWX MRLMW FSSOS RXLIY FSEXA EVWIM DMRKX LIIRM KQEXLMWTEW WEKII BGIVT XIHJV SQNSL ROIIK ERMRX IPPMK IRGIM RAEVV\n",
      "24: ZGTFY HTRRF SIJWX BJWJY WFNSJ IYTQN SLJWT SYMJH TSATD XUWTOJHYJI QNSJT KFIAF SHJFY YMJQN RNYTK ANXNG NQNYD ZSYNQ YMJKFQQTKI FWPYM JSYTX ZWKFH JNKUT XXNGQ JBNYM NSYMJ HTSAT DHTQZRSXKN WJXFQ ATJXK WTRGT BFSIX YJWSY ZGJXX NRZQY FSJTZ XQDFSIYTXZ GRJWL JFSIR FPJYM JNWJX HFUJF XYMJJ XHTWY XFUUJ FWJIYMJINK KNHZQ YDKTW YMJZG TFYXB FXYTQ THFYJ FHTSA TDNSY MJKNWXYUQF HJYMJ QNRNY TKANX NGNQN YDFYG JXYKW TRFHT SSNSL YTBJWBFXYJ SRNQJ XFUFY WTQQN SJTKY JSZGT FYXHT ZQIYM JWJKT WJHTAJWYBT MZSIW JIYBJ SYDRN QJXTK XJFFH TSATD TKKNK YDXMN UXRJFSBMNQ JTHHZ UNJIF KWTSY TKTSQ DYBJS YDKTZ WMZSI WJIDF WIXNSYMJJS TWRTZ XXUFH JXTKY MJFYQ FSYNH FYQJF XYSNS JRNQQ NTSXVZFWJR NQJXT KTUJW FYNTS FQBFY JWXYM JTSJH TZQIG JRNXX JIGDYMJTYM JWBNY MYMJL WJFYJ XYJFX JFSIZ XZFQQ DBFXG FIBJF YMJWUQFDJI FUFWY MNINS LYMJH TSATD XKWTR LJWRF SJDJX TWKTW HNSLZGTFYX YTXJJ PXMJQ YJWKW TRYMJ JQJRJ SYXFY UJWNX HTUJI JUYMXTINIW TZYNS JFQYJ WFYNT SXTKH TZWXJ FSIJR JWLJS HDYZW SXNKHTSYFH YBJWJ RFIJI JQNGJ WFYJW JWTZY NSLTK HTSAT DXMTB JAJWFBFDKW TRUFY WTQQN SJXFS IBTQK UFHPX QTHFY JIGDG QJYHM QJDBFXYMJR TXYUW TIZHY NAJRJ YMTII FANIP FMSYM JLWJF YMNXY TWNFSTKHWD UYTLW FUMDL NAJXF IWFRF YNHFH HTZSY TKTSJ XZHMW JWTZYNSLHT SYJXY NSMNX GTTPT SYMJZ GTFYB FWXJN ENSLY MJJSN LRFYMNXUFX XFLJJ CHJWU YJIKW TROTM SPJJL FSNSY JQQNL JSHJN SBFWW\n",
      "25: AHUGZ IUSSG TJKXY CKXKZ XGOTK JZURO TMKXU TZNKI UTBUE YVXUPKIZKJ ROTKU LGJBG TIKGZ ZNKRO SOZUL BOYOH OROZE ATZOR ZNKLGRRULJ GXQZN KTZUY AXLGI KOLVU YYOHR KCOZN OTZNK IUTBU EIURASTYLO XKYGR BUKYL XUSHU CGTJY ZKXTZ AHKYY OSARZ GTKUA YREGTJZUYA HSKXM KGTJS GQKZN KOXKY IGVKG YZNKK YIUXZ YGVVK GXKJZNKJOL LOIAR ZELUX ZNKAH UGZYC GYZUR UIGZK GIUTB UEOTZ NKLOXYZVRG IKZNK ROSOZ ULBOY OHORO ZEGZH KYZLX USGIU TTOTM ZUCKXCGYZK TSORK YGVGZ XURRO TKULZ KTAHU GZYIU ARJZN KXKLU XKIUBKXZCU NATJX KJZCK TZESO RKYUL YKGGI UTBUE ULLOL ZEYNO VYSKGTCNOR KUIIA VOKJG LXUTZ ULUTR EZCKT ZELUA XNATJ XKJEG XJYOTZNKKT UXSUA YYVGI KYULZ NKGZR GTZOI GZRKG YZTOT KSORR OUTYWAGXKS ORKYU LUVKX GZOUT GRCGZ KXYZN KUTKI UARJH KSOYY KJHEZNKUZN KXCOZ NZNKM XKGZK YZKGY KGTJA YAGRR ECGYH GJCKG ZNKXVRGEKJ GVGXZ NOJOT MZNKI UTBUE YLXUS MKXSG TKEKY UXLUX IOTMAHUGZY ZUYKK QYNKR ZKXLX USZNK KRKSK TZYGZ VKXOY IUVKJ KVZNYUJOJX UAZOT KGRZK XGZOU TYULI UAXYK GTJKS KXMKT IEZAX TYOLIUTZGI ZCKXK SGJKJ KROHK XGZKX KXUAZ OTMUL IUTBU EYNUC KBKXGCGELX USVGZ XURRO TKYGT JCURL VGIQY RUIGZ KJHEH RKZIN RKECGYZNKS UYZVX UJAIZ OBKSK ZNUJJ GBOJQ GNTZN KMXKG ZNOYZ UXOGTULIXE VZUMX GVNEM OBKYG JXGSG ZOIGI IUATZ ULUTK YAINX KXUAZOTMIU TZKYZ OTNOY HUUQU TZNKA HUGZC GXYKO FOTMZ NKKTO MSGZNOYVGY YGMKK DIKXV ZKJLX USPUN TQKKM GTOTZ KRROM KTIKO TCGXX\n"
     ]
    }
   ],
   "source": [
    "def shiftRight(letter, num):\n",
    "    if letter == ' ':\n",
    "        return letter\n",
    "    return chr((ord(letter) - ord('A') + num) % 26 + 65)\n",
    "\n",
    "for i in range(26):\n",
    "    unencryptedText = \"\".join(list(map(lambda x: shiftRight(x, i), cipherText)))\n",
    "    print(f'{i}: {unencryptedText}')"
   ]
  },
  {
   "cell_type": "code",
   "execution_count": 77,
   "metadata": {},
   "outputs": [
    {
     "name": "stdout",
     "output_type": "stream",
     "text": [
      "\n",
      "uboatcommandersweretrainedtolingerontheconvoysprojectedlineo\n",
      "fadvanceatthelimitofvisibilityuntilthefallofdarkthentosurfac\n",
      "eifpossiblewithintheconvoycolumnsfiresalvoesfrombowandsternt\n",
      "ubessimultaneouslyandtosubmergeandmaketheirescapeastheescort\n",
      "sappearedthedifficultyfortheuboatswastolocateaconvoyinthefir\n",
      "stplacethelimitofvisibilityatbestfromaconningtowerwastenmile\n",
      "sapatrollineoftenuboatscouldthereforecovertwohundredtwentymi\n",
      "lesofseaaconvoyoffiftyshipsmeanwhileoccupiedafrontofonlytwen\n",
      "tyfourhundredyardsintheenormousspacesoftheatlanticatleastnin\n",
      "emillionsquaremilesofoperationalwaterstheonecouldbemissedbyt\n",
      "heotherwiththegreatesteaseandusuallywasbadweatherplayedapart\n",
      "hidingtheconvoysfromgermaneyesorforcinguboatstoseekshelterfr\n",
      "omtheelementsatperiscopedepthsodidroutinealterationsofcourse\n",
      "andemergencyturnsifcontactweremadedeliberatereroutingofconvo\n",
      "yshoweverawayfrompatrollinesandwolfpackslocatedbybletchleywa\n",
      "sthemostproductivemethoddavidkahnthegreathistorianofcryptogr\n",
      "aphygivesadramaticaccountofonesuchreroutingcontestinhisbooko\n",
      "ntheuboatwarseizingtheenigmathispassageexcerptedfromjohnkeeg\n",
      "anintelligenceinwarr"
     ]
    }
   ],
   "source": [
    "unencryptedText = \"\".join(list(map(lambda x: shiftRight(x, 19), cipherText)))\n",
    "unencryptedText = \"\".join(filter(lambda x: x.isalpha(), unencryptedText))\n",
    "\n",
    "for i, let in enumerate(unencryptedText):\n",
    "    if i % 60 == 0:\n",
    "        print()\n",
    "    print(let.lower(), end=\"\")\n"
   ]
  }
 ],
 "metadata": {
  "kernelspec": {
   "display_name": "Python 3",
   "language": "python",
   "name": "python3"
  },
  "language_info": {
   "codemirror_mode": {
    "name": "ipython",
    "version": 3
   },
   "file_extension": ".py",
   "mimetype": "text/x-python",
   "name": "python",
   "nbconvert_exporter": "python",
   "pygments_lexer": "ipython3",
   "version": "3.11.3"
  },
  "orig_nbformat": 4
 },
 "nbformat": 4,
 "nbformat_minor": 2
}
