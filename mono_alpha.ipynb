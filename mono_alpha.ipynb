{
 "cells": [
  {
   "cell_type": "code",
   "execution_count": 1481,
   "metadata": {},
   "outputs": [],
   "source": [
    "import plotly.express as px\n",
    "from collections import Counter\n",
    "import json\n",
    "from helpers import prettyPrint, keywordReplace, replaceLetter\n"
   ]
  },
  {
   "cell_type": "code",
   "execution_count": 1482,
   "metadata": {},
   "outputs": [
    {
     "name": "stdout",
     "output_type": "stream",
     "text": [
      "\n",
      "QYUJH DATUV UMUPR EEHFU GNFGQ YUVYH DUHID AQQDU YNFLD UQHFY \n",
      "NGPUU QYUGV AQYPY HTCUG TRMAH PAQXN FGADD GAPLR APUGU WTAQU \n",
      "EUFQF HOHGX VNPQU GQYUA MOMUN QYJMU QUFGA FLQHI UUDSU MXPNG \n",
      "NOHRQ QYUMA GGDUP IHMQY UXYNG OUUFE HPQRF JHJRD NMUDG UMDXE \n",
      "MNFGE MPMAG GDUYN GOUUF MATYP FHOOA PYNFG MRGUN FGQYU AMLMH \n",
      "VFRJP HFQHE YNGOU UFAIN FXQYA FLVHM PUNDD QYUSA DDNLU MPTNM \n",
      "UGNOH RQVNP QYUAG UFQAQ XHIQY UAMER MGUMU MIHMJ DNAFD XQYMU \n",
      "UNJJN MUFQD XYUND QYXJU HJDUG AGFHQ NDDGM HJGUN GHIFN QRMND \n",
      "TNRPU PHFQY UPNEU FALYQ QYUYN FLUGE NFQYU SADDN LUJRO GAGNM \n",
      "HNMAF LQMNG UQYNQ FALYQ QYUVY HDUSA DDNLU PUUEU GQHYN SUQRM \n",
      "FUGHR QQHGA PTRPP QYUER MGUMP QYUXV UMUMU VNMGU GIHMD UNSAF \n",
      "LQYUA MIAMU PAGUP VYUFQ YUMAG GDUPT HHCNM MASUG GMNEN QATND \n",
      "DXAFQ YUAME AGPQN FGNFF HRFTU GQHQY UPRGG UFDXP ADUFQ JROQY \n",
      "NQNEN FTNDD UGIMN FCOMX TUYNG BRPQO UUFNM MUPQU GIMNF CTMAU \n",
      "GPUSU MNDJU HJDUF USUMI MNFCO MXTUV NPQYU MAGGD UPLNM GUFUM \n",
      "YUDAS UGNDH FUAFN MRFGH VFTHQ QNLUH FQYUL MHRFG PHIQY UMAGG \n",
      "DUYHR PUIMN FCYNG THEUO NTCIM HEQYU VNMVA QYNSU MXPQA IIDUL \n",
      "NFGNL MUNQG APDAC UHITM HVGPN FGDHR GFHAP UPNFG YNGOU UFVHM \n",
      "CAFLI HMQYU MAGGD UPUSU MPAFT UWWWW "
     ]
    }
   ],
   "source": [
    "with open(\"HW2.txt\", \"r\") as f:\n",
    "    cipherText = f.read()\n",
    "\n",
    "cipherText = cipherText.replace(\"\\n\", \" \")\n",
    "prettyPrint(cipherText)"
   ]
  },
  {
   "cell_type": "code",
   "execution_count": 1483,
   "metadata": {},
   "outputs": [
    {
     "data": {
      "text/plain": [
       "[('A', 55),\n",
       " ('B', 1),\n",
       " ('C', 9),\n",
       " ('D', 48),\n",
       " ('E', 17),\n",
       " ('F', 63),\n",
       " ('G', 74),\n",
       " ('H', 53),\n",
       " ('I', 19),\n",
       " ('J', 15),\n",
       " ('L', 19),\n",
       " ('M', 72),\n",
       " ('N', 74),\n",
       " ('O', 16),\n",
       " ('P', 45),\n",
       " ('Q', 70),\n",
       " ('R', 25),\n",
       " ('S', 12),\n",
       " ('T', 20),\n",
       " ('U', 131),\n",
       " ('V', 17),\n",
       " ('W', 5),\n",
       " ('X', 16),\n",
       " ('Y', 54),\n",
       " ('Z', 0)]"
      ]
     },
     "execution_count": 1483,
     "metadata": {},
     "output_type": "execute_result"
    }
   ],
   "source": [
    "cipherFreq = Counter(cipherText)\n",
    "cipherFreq['Z'] = 0\n",
    "cipherFreq.pop(' ')\n",
    "total = sum(cipherFreq.values())\n",
    "sortedCipherFreq = sorted(cipherFreq.items(), key=lambda x: x[0])\n",
    "sortedCipherFreq"
   ]
  },
  {
   "cell_type": "code",
   "execution_count": 1484,
   "metadata": {},
   "outputs": [
    {
     "data": {
      "text/plain": [
       "{'a': 8.167,\n",
       " 'b': 1.492,\n",
       " 'c': 2.782,\n",
       " 'd': 4.253,\n",
       " 'e': 12.702,\n",
       " 'f': 2.228,\n",
       " 'g': 2.015,\n",
       " 'h': 6.094,\n",
       " 'i': 6.966,\n",
       " 'j': 0.153,\n",
       " 'k': 0.772,\n",
       " 'l': 4.025,\n",
       " 'm': 2.406,\n",
       " 'n': 6.749,\n",
       " 'o': 7.507,\n",
       " 'p': 1.929,\n",
       " 'q': 0.095,\n",
       " 'r': 5.987,\n",
       " 's': 6.327,\n",
       " 't': 9.056,\n",
       " 'u': 2.758,\n",
       " 'v': 0.978,\n",
       " 'w': 2.36,\n",
       " 'x': 0.15,\n",
       " 'y': 1.974,\n",
       " 'z': 0.074}"
      ]
     },
     "execution_count": 1484,
     "metadata": {},
     "output_type": "execute_result"
    }
   ],
   "source": [
    "with open(\"English_Freq.json\") as f:\n",
    "    engFreq = json.load(f)\n",
    "engFreq"
   ]
  },
  {
   "cell_type": "code",
   "execution_count": 1485,
   "metadata": {},
   "outputs": [
    {
     "data": {
      "application/vnd.plotly.v1+json": {
       "config": {
        "plotlyServerURL": "https://plot.ly"
       },
       "data": [
        {
         "alignmentgroup": "True",
         "hovertemplate": "x=%{x}<br>y=%{y}<extra></extra>",
         "legendgroup": "",
         "marker": {
          "color": "#636efa",
          "pattern": {
           "shape": ""
          }
         },
         "name": "",
         "offsetgroup": "",
         "orientation": "v",
         "showlegend": false,
         "textposition": "auto",
         "type": "bar",
         "x": [
          "A",
          "B",
          "C",
          "D",
          "E",
          "F",
          "G",
          "H",
          "I",
          "J",
          "L",
          "M",
          "N",
          "O",
          "P",
          "Q",
          "R",
          "S",
          "T",
          "U",
          "V",
          "W",
          "X",
          "Y",
          "Z"
         ],
         "xaxis": "x",
         "y": [
          55,
          1,
          9,
          48,
          17,
          63,
          74,
          53,
          19,
          15,
          19,
          72,
          74,
          16,
          45,
          70,
          25,
          12,
          20,
          131,
          17,
          5,
          16,
          54,
          0
         ],
         "yaxis": "y"
        }
       ],
       "layout": {
        "barmode": "relative",
        "legend": {
         "tracegroupgap": 0
        },
        "template": {
         "data": {
          "bar": [
           {
            "error_x": {
             "color": "#2a3f5f"
            },
            "error_y": {
             "color": "#2a3f5f"
            },
            "marker": {
             "line": {
              "color": "#E5ECF6",
              "width": 0.5
             },
             "pattern": {
              "fillmode": "overlay",
              "size": 10,
              "solidity": 0.2
             }
            },
            "type": "bar"
           }
          ],
          "barpolar": [
           {
            "marker": {
             "line": {
              "color": "#E5ECF6",
              "width": 0.5
             },
             "pattern": {
              "fillmode": "overlay",
              "size": 10,
              "solidity": 0.2
             }
            },
            "type": "barpolar"
           }
          ],
          "carpet": [
           {
            "aaxis": {
             "endlinecolor": "#2a3f5f",
             "gridcolor": "white",
             "linecolor": "white",
             "minorgridcolor": "white",
             "startlinecolor": "#2a3f5f"
            },
            "baxis": {
             "endlinecolor": "#2a3f5f",
             "gridcolor": "white",
             "linecolor": "white",
             "minorgridcolor": "white",
             "startlinecolor": "#2a3f5f"
            },
            "type": "carpet"
           }
          ],
          "choropleth": [
           {
            "colorbar": {
             "outlinewidth": 0,
             "ticks": ""
            },
            "type": "choropleth"
           }
          ],
          "contour": [
           {
            "colorbar": {
             "outlinewidth": 0,
             "ticks": ""
            },
            "colorscale": [
             [
              0,
              "#0d0887"
             ],
             [
              0.1111111111111111,
              "#46039f"
             ],
             [
              0.2222222222222222,
              "#7201a8"
             ],
             [
              0.3333333333333333,
              "#9c179e"
             ],
             [
              0.4444444444444444,
              "#bd3786"
             ],
             [
              0.5555555555555556,
              "#d8576b"
             ],
             [
              0.6666666666666666,
              "#ed7953"
             ],
             [
              0.7777777777777778,
              "#fb9f3a"
             ],
             [
              0.8888888888888888,
              "#fdca26"
             ],
             [
              1,
              "#f0f921"
             ]
            ],
            "type": "contour"
           }
          ],
          "contourcarpet": [
           {
            "colorbar": {
             "outlinewidth": 0,
             "ticks": ""
            },
            "type": "contourcarpet"
           }
          ],
          "heatmap": [
           {
            "colorbar": {
             "outlinewidth": 0,
             "ticks": ""
            },
            "colorscale": [
             [
              0,
              "#0d0887"
             ],
             [
              0.1111111111111111,
              "#46039f"
             ],
             [
              0.2222222222222222,
              "#7201a8"
             ],
             [
              0.3333333333333333,
              "#9c179e"
             ],
             [
              0.4444444444444444,
              "#bd3786"
             ],
             [
              0.5555555555555556,
              "#d8576b"
             ],
             [
              0.6666666666666666,
              "#ed7953"
             ],
             [
              0.7777777777777778,
              "#fb9f3a"
             ],
             [
              0.8888888888888888,
              "#fdca26"
             ],
             [
              1,
              "#f0f921"
             ]
            ],
            "type": "heatmap"
           }
          ],
          "heatmapgl": [
           {
            "colorbar": {
             "outlinewidth": 0,
             "ticks": ""
            },
            "colorscale": [
             [
              0,
              "#0d0887"
             ],
             [
              0.1111111111111111,
              "#46039f"
             ],
             [
              0.2222222222222222,
              "#7201a8"
             ],
             [
              0.3333333333333333,
              "#9c179e"
             ],
             [
              0.4444444444444444,
              "#bd3786"
             ],
             [
              0.5555555555555556,
              "#d8576b"
             ],
             [
              0.6666666666666666,
              "#ed7953"
             ],
             [
              0.7777777777777778,
              "#fb9f3a"
             ],
             [
              0.8888888888888888,
              "#fdca26"
             ],
             [
              1,
              "#f0f921"
             ]
            ],
            "type": "heatmapgl"
           }
          ],
          "histogram": [
           {
            "marker": {
             "pattern": {
              "fillmode": "overlay",
              "size": 10,
              "solidity": 0.2
             }
            },
            "type": "histogram"
           }
          ],
          "histogram2d": [
           {
            "colorbar": {
             "outlinewidth": 0,
             "ticks": ""
            },
            "colorscale": [
             [
              0,
              "#0d0887"
             ],
             [
              0.1111111111111111,
              "#46039f"
             ],
             [
              0.2222222222222222,
              "#7201a8"
             ],
             [
              0.3333333333333333,
              "#9c179e"
             ],
             [
              0.4444444444444444,
              "#bd3786"
             ],
             [
              0.5555555555555556,
              "#d8576b"
             ],
             [
              0.6666666666666666,
              "#ed7953"
             ],
             [
              0.7777777777777778,
              "#fb9f3a"
             ],
             [
              0.8888888888888888,
              "#fdca26"
             ],
             [
              1,
              "#f0f921"
             ]
            ],
            "type": "histogram2d"
           }
          ],
          "histogram2dcontour": [
           {
            "colorbar": {
             "outlinewidth": 0,
             "ticks": ""
            },
            "colorscale": [
             [
              0,
              "#0d0887"
             ],
             [
              0.1111111111111111,
              "#46039f"
             ],
             [
              0.2222222222222222,
              "#7201a8"
             ],
             [
              0.3333333333333333,
              "#9c179e"
             ],
             [
              0.4444444444444444,
              "#bd3786"
             ],
             [
              0.5555555555555556,
              "#d8576b"
             ],
             [
              0.6666666666666666,
              "#ed7953"
             ],
             [
              0.7777777777777778,
              "#fb9f3a"
             ],
             [
              0.8888888888888888,
              "#fdca26"
             ],
             [
              1,
              "#f0f921"
             ]
            ],
            "type": "histogram2dcontour"
           }
          ],
          "mesh3d": [
           {
            "colorbar": {
             "outlinewidth": 0,
             "ticks": ""
            },
            "type": "mesh3d"
           }
          ],
          "parcoords": [
           {
            "line": {
             "colorbar": {
              "outlinewidth": 0,
              "ticks": ""
             }
            },
            "type": "parcoords"
           }
          ],
          "pie": [
           {
            "automargin": true,
            "type": "pie"
           }
          ],
          "scatter": [
           {
            "fillpattern": {
             "fillmode": "overlay",
             "size": 10,
             "solidity": 0.2
            },
            "type": "scatter"
           }
          ],
          "scatter3d": [
           {
            "line": {
             "colorbar": {
              "outlinewidth": 0,
              "ticks": ""
             }
            },
            "marker": {
             "colorbar": {
              "outlinewidth": 0,
              "ticks": ""
             }
            },
            "type": "scatter3d"
           }
          ],
          "scattercarpet": [
           {
            "marker": {
             "colorbar": {
              "outlinewidth": 0,
              "ticks": ""
             }
            },
            "type": "scattercarpet"
           }
          ],
          "scattergeo": [
           {
            "marker": {
             "colorbar": {
              "outlinewidth": 0,
              "ticks": ""
             }
            },
            "type": "scattergeo"
           }
          ],
          "scattergl": [
           {
            "marker": {
             "colorbar": {
              "outlinewidth": 0,
              "ticks": ""
             }
            },
            "type": "scattergl"
           }
          ],
          "scattermapbox": [
           {
            "marker": {
             "colorbar": {
              "outlinewidth": 0,
              "ticks": ""
             }
            },
            "type": "scattermapbox"
           }
          ],
          "scatterpolar": [
           {
            "marker": {
             "colorbar": {
              "outlinewidth": 0,
              "ticks": ""
             }
            },
            "type": "scatterpolar"
           }
          ],
          "scatterpolargl": [
           {
            "marker": {
             "colorbar": {
              "outlinewidth": 0,
              "ticks": ""
             }
            },
            "type": "scatterpolargl"
           }
          ],
          "scatterternary": [
           {
            "marker": {
             "colorbar": {
              "outlinewidth": 0,
              "ticks": ""
             }
            },
            "type": "scatterternary"
           }
          ],
          "surface": [
           {
            "colorbar": {
             "outlinewidth": 0,
             "ticks": ""
            },
            "colorscale": [
             [
              0,
              "#0d0887"
             ],
             [
              0.1111111111111111,
              "#46039f"
             ],
             [
              0.2222222222222222,
              "#7201a8"
             ],
             [
              0.3333333333333333,
              "#9c179e"
             ],
             [
              0.4444444444444444,
              "#bd3786"
             ],
             [
              0.5555555555555556,
              "#d8576b"
             ],
             [
              0.6666666666666666,
              "#ed7953"
             ],
             [
              0.7777777777777778,
              "#fb9f3a"
             ],
             [
              0.8888888888888888,
              "#fdca26"
             ],
             [
              1,
              "#f0f921"
             ]
            ],
            "type": "surface"
           }
          ],
          "table": [
           {
            "cells": {
             "fill": {
              "color": "#EBF0F8"
             },
             "line": {
              "color": "white"
             }
            },
            "header": {
             "fill": {
              "color": "#C8D4E3"
             },
             "line": {
              "color": "white"
             }
            },
            "type": "table"
           }
          ]
         },
         "layout": {
          "annotationdefaults": {
           "arrowcolor": "#2a3f5f",
           "arrowhead": 0,
           "arrowwidth": 1
          },
          "autotypenumbers": "strict",
          "coloraxis": {
           "colorbar": {
            "outlinewidth": 0,
            "ticks": ""
           }
          },
          "colorscale": {
           "diverging": [
            [
             0,
             "#8e0152"
            ],
            [
             0.1,
             "#c51b7d"
            ],
            [
             0.2,
             "#de77ae"
            ],
            [
             0.3,
             "#f1b6da"
            ],
            [
             0.4,
             "#fde0ef"
            ],
            [
             0.5,
             "#f7f7f7"
            ],
            [
             0.6,
             "#e6f5d0"
            ],
            [
             0.7,
             "#b8e186"
            ],
            [
             0.8,
             "#7fbc41"
            ],
            [
             0.9,
             "#4d9221"
            ],
            [
             1,
             "#276419"
            ]
           ],
           "sequential": [
            [
             0,
             "#0d0887"
            ],
            [
             0.1111111111111111,
             "#46039f"
            ],
            [
             0.2222222222222222,
             "#7201a8"
            ],
            [
             0.3333333333333333,
             "#9c179e"
            ],
            [
             0.4444444444444444,
             "#bd3786"
            ],
            [
             0.5555555555555556,
             "#d8576b"
            ],
            [
             0.6666666666666666,
             "#ed7953"
            ],
            [
             0.7777777777777778,
             "#fb9f3a"
            ],
            [
             0.8888888888888888,
             "#fdca26"
            ],
            [
             1,
             "#f0f921"
            ]
           ],
           "sequentialminus": [
            [
             0,
             "#0d0887"
            ],
            [
             0.1111111111111111,
             "#46039f"
            ],
            [
             0.2222222222222222,
             "#7201a8"
            ],
            [
             0.3333333333333333,
             "#9c179e"
            ],
            [
             0.4444444444444444,
             "#bd3786"
            ],
            [
             0.5555555555555556,
             "#d8576b"
            ],
            [
             0.6666666666666666,
             "#ed7953"
            ],
            [
             0.7777777777777778,
             "#fb9f3a"
            ],
            [
             0.8888888888888888,
             "#fdca26"
            ],
            [
             1,
             "#f0f921"
            ]
           ]
          },
          "colorway": [
           "#636efa",
           "#EF553B",
           "#00cc96",
           "#ab63fa",
           "#FFA15A",
           "#19d3f3",
           "#FF6692",
           "#B6E880",
           "#FF97FF",
           "#FECB52"
          ],
          "font": {
           "color": "#2a3f5f"
          },
          "geo": {
           "bgcolor": "white",
           "lakecolor": "white",
           "landcolor": "#E5ECF6",
           "showlakes": true,
           "showland": true,
           "subunitcolor": "white"
          },
          "hoverlabel": {
           "align": "left"
          },
          "hovermode": "closest",
          "mapbox": {
           "style": "light"
          },
          "paper_bgcolor": "white",
          "plot_bgcolor": "#E5ECF6",
          "polar": {
           "angularaxis": {
            "gridcolor": "white",
            "linecolor": "white",
            "ticks": ""
           },
           "bgcolor": "#E5ECF6",
           "radialaxis": {
            "gridcolor": "white",
            "linecolor": "white",
            "ticks": ""
           }
          },
          "scene": {
           "xaxis": {
            "backgroundcolor": "#E5ECF6",
            "gridcolor": "white",
            "gridwidth": 2,
            "linecolor": "white",
            "showbackground": true,
            "ticks": "",
            "zerolinecolor": "white"
           },
           "yaxis": {
            "backgroundcolor": "#E5ECF6",
            "gridcolor": "white",
            "gridwidth": 2,
            "linecolor": "white",
            "showbackground": true,
            "ticks": "",
            "zerolinecolor": "white"
           },
           "zaxis": {
            "backgroundcolor": "#E5ECF6",
            "gridcolor": "white",
            "gridwidth": 2,
            "linecolor": "white",
            "showbackground": true,
            "ticks": "",
            "zerolinecolor": "white"
           }
          },
          "shapedefaults": {
           "line": {
            "color": "#2a3f5f"
           }
          },
          "ternary": {
           "aaxis": {
            "gridcolor": "white",
            "linecolor": "white",
            "ticks": ""
           },
           "baxis": {
            "gridcolor": "white",
            "linecolor": "white",
            "ticks": ""
           },
           "bgcolor": "#E5ECF6",
           "caxis": {
            "gridcolor": "white",
            "linecolor": "white",
            "ticks": ""
           }
          },
          "title": {
           "x": 0.05
          },
          "xaxis": {
           "automargin": true,
           "gridcolor": "white",
           "linecolor": "white",
           "ticks": "",
           "title": {
            "standoff": 15
           },
           "zerolinecolor": "white",
           "zerolinewidth": 2
          },
          "yaxis": {
           "automargin": true,
           "gridcolor": "white",
           "linecolor": "white",
           "ticks": "",
           "title": {
            "standoff": 15
           },
           "zerolinecolor": "white",
           "zerolinewidth": 2
          }
         }
        },
        "title": {
         "text": "Frequency of letters in cipher text"
        },
        "xaxis": {
         "anchor": "y",
         "domain": [
          0,
          1
         ],
         "title": {
          "text": "x"
         }
        },
        "yaxis": {
         "anchor": "x",
         "domain": [
          0,
          1
         ],
         "title": {
          "text": "y"
         }
        }
       }
      }
     },
     "metadata": {},
     "output_type": "display_data"
    }
   ],
   "source": [
    "fig = px.bar(x=[l[0] for l in sortedCipherFreq], y=[l[1] for l in sortedCipherFreq], title=\"Frequency of letters in cipher text\")\n",
    "fig.show()"
   ]
  },
  {
   "cell_type": "code",
   "execution_count": 1486,
   "metadata": {},
   "outputs": [
    {
     "data": {
      "application/vnd.plotly.v1+json": {
       "config": {
        "plotlyServerURL": "https://plot.ly"
       },
       "data": [
        {
         "alignmentgroup": "True",
         "hovertemplate": "x=%{x}<br>y=%{y}<extra></extra>",
         "legendgroup": "",
         "marker": {
          "color": "#636efa",
          "pattern": {
           "shape": ""
          }
         },
         "name": "",
         "offsetgroup": "",
         "orientation": "v",
         "showlegend": false,
         "textposition": "auto",
         "type": "bar",
         "x": [
          "a",
          "b",
          "c",
          "d",
          "e",
          "f",
          "g",
          "h",
          "i",
          "j",
          "k",
          "l",
          "m",
          "n",
          "o",
          "p",
          "q",
          "r",
          "s",
          "t",
          "u",
          "v",
          "w",
          "x",
          "y",
          "z"
         ],
         "xaxis": "x",
         "y": [
          8.167,
          1.492,
          2.782,
          4.253,
          12.702,
          2.228,
          2.015,
          6.094,
          6.966,
          0.153,
          0.772,
          4.025,
          2.406,
          6.749,
          7.507,
          1.929,
          0.095,
          5.987,
          6.327,
          9.056,
          2.758,
          0.978,
          2.36,
          0.15,
          1.974,
          0.074
         ],
         "yaxis": "y"
        }
       ],
       "layout": {
        "barmode": "relative",
        "legend": {
         "tracegroupgap": 0
        },
        "template": {
         "data": {
          "bar": [
           {
            "error_x": {
             "color": "#2a3f5f"
            },
            "error_y": {
             "color": "#2a3f5f"
            },
            "marker": {
             "line": {
              "color": "#E5ECF6",
              "width": 0.5
             },
             "pattern": {
              "fillmode": "overlay",
              "size": 10,
              "solidity": 0.2
             }
            },
            "type": "bar"
           }
          ],
          "barpolar": [
           {
            "marker": {
             "line": {
              "color": "#E5ECF6",
              "width": 0.5
             },
             "pattern": {
              "fillmode": "overlay",
              "size": 10,
              "solidity": 0.2
             }
            },
            "type": "barpolar"
           }
          ],
          "carpet": [
           {
            "aaxis": {
             "endlinecolor": "#2a3f5f",
             "gridcolor": "white",
             "linecolor": "white",
             "minorgridcolor": "white",
             "startlinecolor": "#2a3f5f"
            },
            "baxis": {
             "endlinecolor": "#2a3f5f",
             "gridcolor": "white",
             "linecolor": "white",
             "minorgridcolor": "white",
             "startlinecolor": "#2a3f5f"
            },
            "type": "carpet"
           }
          ],
          "choropleth": [
           {
            "colorbar": {
             "outlinewidth": 0,
             "ticks": ""
            },
            "type": "choropleth"
           }
          ],
          "contour": [
           {
            "colorbar": {
             "outlinewidth": 0,
             "ticks": ""
            },
            "colorscale": [
             [
              0,
              "#0d0887"
             ],
             [
              0.1111111111111111,
              "#46039f"
             ],
             [
              0.2222222222222222,
              "#7201a8"
             ],
             [
              0.3333333333333333,
              "#9c179e"
             ],
             [
              0.4444444444444444,
              "#bd3786"
             ],
             [
              0.5555555555555556,
              "#d8576b"
             ],
             [
              0.6666666666666666,
              "#ed7953"
             ],
             [
              0.7777777777777778,
              "#fb9f3a"
             ],
             [
              0.8888888888888888,
              "#fdca26"
             ],
             [
              1,
              "#f0f921"
             ]
            ],
            "type": "contour"
           }
          ],
          "contourcarpet": [
           {
            "colorbar": {
             "outlinewidth": 0,
             "ticks": ""
            },
            "type": "contourcarpet"
           }
          ],
          "heatmap": [
           {
            "colorbar": {
             "outlinewidth": 0,
             "ticks": ""
            },
            "colorscale": [
             [
              0,
              "#0d0887"
             ],
             [
              0.1111111111111111,
              "#46039f"
             ],
             [
              0.2222222222222222,
              "#7201a8"
             ],
             [
              0.3333333333333333,
              "#9c179e"
             ],
             [
              0.4444444444444444,
              "#bd3786"
             ],
             [
              0.5555555555555556,
              "#d8576b"
             ],
             [
              0.6666666666666666,
              "#ed7953"
             ],
             [
              0.7777777777777778,
              "#fb9f3a"
             ],
             [
              0.8888888888888888,
              "#fdca26"
             ],
             [
              1,
              "#f0f921"
             ]
            ],
            "type": "heatmap"
           }
          ],
          "heatmapgl": [
           {
            "colorbar": {
             "outlinewidth": 0,
             "ticks": ""
            },
            "colorscale": [
             [
              0,
              "#0d0887"
             ],
             [
              0.1111111111111111,
              "#46039f"
             ],
             [
              0.2222222222222222,
              "#7201a8"
             ],
             [
              0.3333333333333333,
              "#9c179e"
             ],
             [
              0.4444444444444444,
              "#bd3786"
             ],
             [
              0.5555555555555556,
              "#d8576b"
             ],
             [
              0.6666666666666666,
              "#ed7953"
             ],
             [
              0.7777777777777778,
              "#fb9f3a"
             ],
             [
              0.8888888888888888,
              "#fdca26"
             ],
             [
              1,
              "#f0f921"
             ]
            ],
            "type": "heatmapgl"
           }
          ],
          "histogram": [
           {
            "marker": {
             "pattern": {
              "fillmode": "overlay",
              "size": 10,
              "solidity": 0.2
             }
            },
            "type": "histogram"
           }
          ],
          "histogram2d": [
           {
            "colorbar": {
             "outlinewidth": 0,
             "ticks": ""
            },
            "colorscale": [
             [
              0,
              "#0d0887"
             ],
             [
              0.1111111111111111,
              "#46039f"
             ],
             [
              0.2222222222222222,
              "#7201a8"
             ],
             [
              0.3333333333333333,
              "#9c179e"
             ],
             [
              0.4444444444444444,
              "#bd3786"
             ],
             [
              0.5555555555555556,
              "#d8576b"
             ],
             [
              0.6666666666666666,
              "#ed7953"
             ],
             [
              0.7777777777777778,
              "#fb9f3a"
             ],
             [
              0.8888888888888888,
              "#fdca26"
             ],
             [
              1,
              "#f0f921"
             ]
            ],
            "type": "histogram2d"
           }
          ],
          "histogram2dcontour": [
           {
            "colorbar": {
             "outlinewidth": 0,
             "ticks": ""
            },
            "colorscale": [
             [
              0,
              "#0d0887"
             ],
             [
              0.1111111111111111,
              "#46039f"
             ],
             [
              0.2222222222222222,
              "#7201a8"
             ],
             [
              0.3333333333333333,
              "#9c179e"
             ],
             [
              0.4444444444444444,
              "#bd3786"
             ],
             [
              0.5555555555555556,
              "#d8576b"
             ],
             [
              0.6666666666666666,
              "#ed7953"
             ],
             [
              0.7777777777777778,
              "#fb9f3a"
             ],
             [
              0.8888888888888888,
              "#fdca26"
             ],
             [
              1,
              "#f0f921"
             ]
            ],
            "type": "histogram2dcontour"
           }
          ],
          "mesh3d": [
           {
            "colorbar": {
             "outlinewidth": 0,
             "ticks": ""
            },
            "type": "mesh3d"
           }
          ],
          "parcoords": [
           {
            "line": {
             "colorbar": {
              "outlinewidth": 0,
              "ticks": ""
             }
            },
            "type": "parcoords"
           }
          ],
          "pie": [
           {
            "automargin": true,
            "type": "pie"
           }
          ],
          "scatter": [
           {
            "fillpattern": {
             "fillmode": "overlay",
             "size": 10,
             "solidity": 0.2
            },
            "type": "scatter"
           }
          ],
          "scatter3d": [
           {
            "line": {
             "colorbar": {
              "outlinewidth": 0,
              "ticks": ""
             }
            },
            "marker": {
             "colorbar": {
              "outlinewidth": 0,
              "ticks": ""
             }
            },
            "type": "scatter3d"
           }
          ],
          "scattercarpet": [
           {
            "marker": {
             "colorbar": {
              "outlinewidth": 0,
              "ticks": ""
             }
            },
            "type": "scattercarpet"
           }
          ],
          "scattergeo": [
           {
            "marker": {
             "colorbar": {
              "outlinewidth": 0,
              "ticks": ""
             }
            },
            "type": "scattergeo"
           }
          ],
          "scattergl": [
           {
            "marker": {
             "colorbar": {
              "outlinewidth": 0,
              "ticks": ""
             }
            },
            "type": "scattergl"
           }
          ],
          "scattermapbox": [
           {
            "marker": {
             "colorbar": {
              "outlinewidth": 0,
              "ticks": ""
             }
            },
            "type": "scattermapbox"
           }
          ],
          "scatterpolar": [
           {
            "marker": {
             "colorbar": {
              "outlinewidth": 0,
              "ticks": ""
             }
            },
            "type": "scatterpolar"
           }
          ],
          "scatterpolargl": [
           {
            "marker": {
             "colorbar": {
              "outlinewidth": 0,
              "ticks": ""
             }
            },
            "type": "scatterpolargl"
           }
          ],
          "scatterternary": [
           {
            "marker": {
             "colorbar": {
              "outlinewidth": 0,
              "ticks": ""
             }
            },
            "type": "scatterternary"
           }
          ],
          "surface": [
           {
            "colorbar": {
             "outlinewidth": 0,
             "ticks": ""
            },
            "colorscale": [
             [
              0,
              "#0d0887"
             ],
             [
              0.1111111111111111,
              "#46039f"
             ],
             [
              0.2222222222222222,
              "#7201a8"
             ],
             [
              0.3333333333333333,
              "#9c179e"
             ],
             [
              0.4444444444444444,
              "#bd3786"
             ],
             [
              0.5555555555555556,
              "#d8576b"
             ],
             [
              0.6666666666666666,
              "#ed7953"
             ],
             [
              0.7777777777777778,
              "#fb9f3a"
             ],
             [
              0.8888888888888888,
              "#fdca26"
             ],
             [
              1,
              "#f0f921"
             ]
            ],
            "type": "surface"
           }
          ],
          "table": [
           {
            "cells": {
             "fill": {
              "color": "#EBF0F8"
             },
             "line": {
              "color": "white"
             }
            },
            "header": {
             "fill": {
              "color": "#C8D4E3"
             },
             "line": {
              "color": "white"
             }
            },
            "type": "table"
           }
          ]
         },
         "layout": {
          "annotationdefaults": {
           "arrowcolor": "#2a3f5f",
           "arrowhead": 0,
           "arrowwidth": 1
          },
          "autotypenumbers": "strict",
          "coloraxis": {
           "colorbar": {
            "outlinewidth": 0,
            "ticks": ""
           }
          },
          "colorscale": {
           "diverging": [
            [
             0,
             "#8e0152"
            ],
            [
             0.1,
             "#c51b7d"
            ],
            [
             0.2,
             "#de77ae"
            ],
            [
             0.3,
             "#f1b6da"
            ],
            [
             0.4,
             "#fde0ef"
            ],
            [
             0.5,
             "#f7f7f7"
            ],
            [
             0.6,
             "#e6f5d0"
            ],
            [
             0.7,
             "#b8e186"
            ],
            [
             0.8,
             "#7fbc41"
            ],
            [
             0.9,
             "#4d9221"
            ],
            [
             1,
             "#276419"
            ]
           ],
           "sequential": [
            [
             0,
             "#0d0887"
            ],
            [
             0.1111111111111111,
             "#46039f"
            ],
            [
             0.2222222222222222,
             "#7201a8"
            ],
            [
             0.3333333333333333,
             "#9c179e"
            ],
            [
             0.4444444444444444,
             "#bd3786"
            ],
            [
             0.5555555555555556,
             "#d8576b"
            ],
            [
             0.6666666666666666,
             "#ed7953"
            ],
            [
             0.7777777777777778,
             "#fb9f3a"
            ],
            [
             0.8888888888888888,
             "#fdca26"
            ],
            [
             1,
             "#f0f921"
            ]
           ],
           "sequentialminus": [
            [
             0,
             "#0d0887"
            ],
            [
             0.1111111111111111,
             "#46039f"
            ],
            [
             0.2222222222222222,
             "#7201a8"
            ],
            [
             0.3333333333333333,
             "#9c179e"
            ],
            [
             0.4444444444444444,
             "#bd3786"
            ],
            [
             0.5555555555555556,
             "#d8576b"
            ],
            [
             0.6666666666666666,
             "#ed7953"
            ],
            [
             0.7777777777777778,
             "#fb9f3a"
            ],
            [
             0.8888888888888888,
             "#fdca26"
            ],
            [
             1,
             "#f0f921"
            ]
           ]
          },
          "colorway": [
           "#636efa",
           "#EF553B",
           "#00cc96",
           "#ab63fa",
           "#FFA15A",
           "#19d3f3",
           "#FF6692",
           "#B6E880",
           "#FF97FF",
           "#FECB52"
          ],
          "font": {
           "color": "#2a3f5f"
          },
          "geo": {
           "bgcolor": "white",
           "lakecolor": "white",
           "landcolor": "#E5ECF6",
           "showlakes": true,
           "showland": true,
           "subunitcolor": "white"
          },
          "hoverlabel": {
           "align": "left"
          },
          "hovermode": "closest",
          "mapbox": {
           "style": "light"
          },
          "paper_bgcolor": "white",
          "plot_bgcolor": "#E5ECF6",
          "polar": {
           "angularaxis": {
            "gridcolor": "white",
            "linecolor": "white",
            "ticks": ""
           },
           "bgcolor": "#E5ECF6",
           "radialaxis": {
            "gridcolor": "white",
            "linecolor": "white",
            "ticks": ""
           }
          },
          "scene": {
           "xaxis": {
            "backgroundcolor": "#E5ECF6",
            "gridcolor": "white",
            "gridwidth": 2,
            "linecolor": "white",
            "showbackground": true,
            "ticks": "",
            "zerolinecolor": "white"
           },
           "yaxis": {
            "backgroundcolor": "#E5ECF6",
            "gridcolor": "white",
            "gridwidth": 2,
            "linecolor": "white",
            "showbackground": true,
            "ticks": "",
            "zerolinecolor": "white"
           },
           "zaxis": {
            "backgroundcolor": "#E5ECF6",
            "gridcolor": "white",
            "gridwidth": 2,
            "linecolor": "white",
            "showbackground": true,
            "ticks": "",
            "zerolinecolor": "white"
           }
          },
          "shapedefaults": {
           "line": {
            "color": "#2a3f5f"
           }
          },
          "ternary": {
           "aaxis": {
            "gridcolor": "white",
            "linecolor": "white",
            "ticks": ""
           },
           "baxis": {
            "gridcolor": "white",
            "linecolor": "white",
            "ticks": ""
           },
           "bgcolor": "#E5ECF6",
           "caxis": {
            "gridcolor": "white",
            "linecolor": "white",
            "ticks": ""
           }
          },
          "title": {
           "x": 0.05
          },
          "xaxis": {
           "automargin": true,
           "gridcolor": "white",
           "linecolor": "white",
           "ticks": "",
           "title": {
            "standoff": 15
           },
           "zerolinecolor": "white",
           "zerolinewidth": 2
          },
          "yaxis": {
           "automargin": true,
           "gridcolor": "white",
           "linecolor": "white",
           "ticks": "",
           "title": {
            "standoff": 15
           },
           "zerolinecolor": "white",
           "zerolinewidth": 2
          }
         }
        },
        "title": {
         "text": "Frequency of letters in English language"
        },
        "xaxis": {
         "anchor": "y",
         "domain": [
          0,
          1
         ],
         "title": {
          "text": "x"
         }
        },
        "yaxis": {
         "anchor": "x",
         "domain": [
          0,
          1
         ],
         "title": {
          "text": "y"
         }
        }
       }
      }
     },
     "metadata": {},
     "output_type": "display_data"
    }
   ],
   "source": [
    "fig = px.bar(x=list(engFreq.keys()), y=list(engFreq.values()), title=\"Frequency of letters in English language\")\n",
    "fig.show()"
   ]
  },
  {
   "cell_type": "code",
   "execution_count": 1487,
   "metadata": {},
   "outputs": [
    {
     "data": {
      "text/plain": [
       "Counter({'QYU': 25,\n",
       "         'NFG': 9,\n",
       "         'YNG': 7,\n",
       "         'YUA': 6,\n",
       "         'MAG': 6,\n",
       "         'AGG': 6,\n",
       "         'GGD': 6,\n",
       "         'GDU': 6,\n",
       "         'UFQ': 5,\n",
       "         'UAM': 5,\n",
       "         'AFL': 5,\n",
       "         'SUM': 5,\n",
       "         'YUM': 5,\n",
       "         'UMA': 5,\n",
       "         'OUU': 5,\n",
       "         'UUF': 5,\n",
       "         'MNF': 5,\n",
       "         'FQY': 5,\n",
       "         'UMU': 4,\n",
       "         'UYN': 4,\n",
       "         'ADD': 4,\n",
       "         'DUP': 4,\n",
       "         'IHM': 4,\n",
       "         'NGO': 4,\n",
       "         'GOU': 4,\n",
       "         'NDD': 4,\n",
       "         'NLU': 4,\n",
       "         'PQY': 4,\n",
       "         'MGU': 4,\n",
       "         'IMN': 4,\n",
       "         'NFC': 4,\n",
       "         'MUP': 3,\n",
       "         'UGN': 3,\n",
       "         'GQY': 3,\n",
       "         'YUV': 3,\n",
       "         'DUY': 3,\n",
       "         'YNF': 3,\n",
       "         'GAP': 3,\n",
       "         'VNP': 3,\n",
       "         'NPQ': 3,\n",
       "         'UGQ': 3,\n",
       "         'FLQ': 3,\n",
       "         'HRQ': 3,\n",
       "         'QQY': 3,\n",
       "         'NMU': 3,\n",
       "         'GUM': 3,\n",
       "         'HFQ': 3,\n",
       "         'USA': 3,\n",
       "         'SAD': 3,\n",
       "         'DDN': 3,\n",
       "         'DNL': 3,\n",
       "         'UMP': 3,\n",
       "         'GUF': 3,\n",
       "         'QYN': 3,\n",
       "         'UVN': 3,\n",
       "         'UGI': 3,\n",
       "         'USU': 3,\n",
       "         'TUV': 2,\n",
       "         'VUM': 2,\n",
       "         'UPR': 2,\n",
       "         'HFU': 2,\n",
       "         'FUG': 2,\n",
       "         'GNF': 2,\n",
       "         'FGQ': 2,\n",
       "         'UVY': 2,\n",
       "         'VYH': 2,\n",
       "         'YHD': 2,\n",
       "         'HDU': 2,\n",
       "         'UHI': 2,\n",
       "         'NFL': 2,\n",
       "         'GPU': 2,\n",
       "         'PUU': 2,\n",
       "         'UQY': 2,\n",
       "         'VAQ': 2,\n",
       "         'AQY': 2,\n",
       "         'AQX': 2,\n",
       "         'FGA': 2,\n",
       "         'DDG': 2,\n",
       "         'APU': 2,\n",
       "         'UEU': 2,\n",
       "         'EUF': 2,\n",
       "         'FHO': 2,\n",
       "         'PQU': 2,\n",
       "         'QUG': 2,\n",
       "         'MUN': 2,\n",
       "         'UNQ': 2,\n",
       "         'UMX': 2,\n",
       "         'MXP': 2,\n",
       "         'GNO': 2,\n",
       "         'NOH': 2,\n",
       "         'OHR': 2,\n",
       "         'RQQ': 2,\n",
       "         'HMQ': 2,\n",
       "         'MQY': 2,\n",
       "         'YUX': 2,\n",
       "         'GUN': 2,\n",
       "         'LMH': 2,\n",
       "         'MHV': 2,\n",
       "         'HVF': 2,\n",
       "         'PHF': 2,\n",
       "         'UFA': 2,\n",
       "         'XQY': 2,\n",
       "         'VHM': 2,\n",
       "         'UND': 2,\n",
       "         'DQY': 2,\n",
       "         'YUS': 2,\n",
       "         'AGU': 2,\n",
       "         'HIQ': 2,\n",
       "         'IQY': 2,\n",
       "         'AME': 2,\n",
       "         'ERM': 2,\n",
       "         'RMG': 2,\n",
       "         'MUM': 2,\n",
       "         'UMI': 2,\n",
       "         'FDX': 2,\n",
       "         'JUH': 2,\n",
       "         'UHJ': 2,\n",
       "         'HJD': 2,\n",
       "         'JDU': 2,\n",
       "         'DUG': 2,\n",
       "         'GAG': 2,\n",
       "         'GFH': 2,\n",
       "         'QRM': 2,\n",
       "         'MND': 2,\n",
       "         'RPU': 2,\n",
       "         'PUP': 2,\n",
       "         'YUP': 2,\n",
       "         'UPN': 2,\n",
       "         'FAL': 2,\n",
       "         'ALY': 2,\n",
       "         'LYQ': 2,\n",
       "         'YQQ': 2,\n",
       "         'ENF': 2,\n",
       "         'JRO': 2,\n",
       "         'YNQ': 2,\n",
       "         'UPU': 2,\n",
       "         'GQH': 2,\n",
       "         'YNS': 2,\n",
       "         'NSU': 2,\n",
       "         'VNM': 2,\n",
       "         'NMG': 2,\n",
       "         'NMM': 2,\n",
       "         'ASU': 2,\n",
       "         'SUG': 2,\n",
       "         'NEN': 2,\n",
       "         'TND': 2,\n",
       "         'FGN': 2,\n",
       "         'HRF': 2,\n",
       "         'FTU': 2,\n",
       "         'DUF': 2,\n",
       "         'GIM': 2,\n",
       "         'FCO': 2,\n",
       "         'COM': 2,\n",
       "         'OMX': 2,\n",
       "         'MXT': 2,\n",
       "         'XTU': 2,\n",
       "         'FNM': 2,\n",
       "         'PUS': 2,\n",
       "         'UFU': 2,\n",
       "         'RFG': 2,\n",
       "         'PNF': 2,\n",
       "         'WWW': 2,\n",
       "         'YUJ': 1,\n",
       "         'UJH': 1,\n",
       "         'JHD': 1,\n",
       "         'HDA': 1,\n",
       "         'DAT': 1,\n",
       "         'ATU': 1,\n",
       "         'UVU': 1,\n",
       "         'PRE': 1,\n",
       "         'REE': 1,\n",
       "         'EEH': 1,\n",
       "         'EHF': 1,\n",
       "         'DUH': 1,\n",
       "         'HID': 1,\n",
       "         'IDA': 1,\n",
       "         'DAQ': 1,\n",
       "         'AQQ': 1,\n",
       "         'QQD': 1,\n",
       "         'QDU': 1,\n",
       "         'FLD': 1,\n",
       "         'LDU': 1,\n",
       "         'DUQ': 1,\n",
       "         'UQH': 1,\n",
       "         'QHF': 1,\n",
       "         'HFY': 1,\n",
       "         'FYN': 1,\n",
       "         'NGP': 1,\n",
       "         'UUQ': 1,\n",
       "         'YUG': 1,\n",
       "         'UGV': 1,\n",
       "         'GVA': 1,\n",
       "         'QYP': 1,\n",
       "         'YPY': 1,\n",
       "         'PYH': 1,\n",
       "         'YHT': 1,\n",
       "         'HTC': 1,\n",
       "         'TCU': 1,\n",
       "         'CUG': 1,\n",
       "         'UGT': 1,\n",
       "         'GTR': 1,\n",
       "         'TRM': 1,\n",
       "         'RMA': 1,\n",
       "         'MAH': 1,\n",
       "         'AHP': 1,\n",
       "         'HPA': 1,\n",
       "         'PAQ': 1,\n",
       "         'QXN': 1,\n",
       "         'XNF': 1,\n",
       "         'GAD': 1,\n",
       "         'DGA': 1,\n",
       "         'APL': 1,\n",
       "         'PLR': 1,\n",
       "         'LRA': 1,\n",
       "         'RAP': 1,\n",
       "         'PUG': 1,\n",
       "         'UGU': 1,\n",
       "         'GUW': 1,\n",
       "         'UWT': 1,\n",
       "         'WTA': 1,\n",
       "         'TAQ': 1,\n",
       "         'AQU': 1,\n",
       "         'QUE': 1,\n",
       "         'FQF': 1,\n",
       "         'QFH': 1,\n",
       "         'HOH': 1,\n",
       "         'OHG': 1,\n",
       "         'HGX': 1,\n",
       "         'GXV': 1,\n",
       "         'XVN': 1,\n",
       "         'AMO': 1,\n",
       "         'MOM': 1,\n",
       "         'OMU': 1,\n",
       "         'NQY': 1,\n",
       "         'QYJ': 1,\n",
       "         'YJM': 1,\n",
       "         'JMU': 1,\n",
       "         'MUQ': 1,\n",
       "         'UQU': 1,\n",
       "         'QUF': 1,\n",
       "         'UFG': 1,\n",
       "         'GAF': 1,\n",
       "         'LQH': 1,\n",
       "         'QHI': 1,\n",
       "         'HIU': 1,\n",
       "         'IUU': 1,\n",
       "         'UUD': 1,\n",
       "         'UDS': 1,\n",
       "         'DSU': 1,\n",
       "         'XPN': 1,\n",
       "         'PNG': 1,\n",
       "         'NGN': 1,\n",
       "         'UPI': 1,\n",
       "         'PIH': 1,\n",
       "         'UXY': 1,\n",
       "         'XYN': 1,\n",
       "         'UFE': 1,\n",
       "         'FEH': 1,\n",
       "         'EHP': 1,\n",
       "         'HPQ': 1,\n",
       "         'PQR': 1,\n",
       "         'QRF': 1,\n",
       "         'RFJ': 1,\n",
       "         'FJH': 1,\n",
       "         'JHJ': 1,\n",
       "         'HJR': 1,\n",
       "         'JRD': 1,\n",
       "         'RDN': 1,\n",
       "         'DNM': 1,\n",
       "         'MUD': 1,\n",
       "         'UDG': 1,\n",
       "         'DGU': 1,\n",
       "         'UMD': 1,\n",
       "         'MDX': 1,\n",
       "         'DXE': 1,\n",
       "         'XEM': 1,\n",
       "         'EMN': 1,\n",
       "         'FGE': 1,\n",
       "         'GEM': 1,\n",
       "         'EMP': 1,\n",
       "         'MPM': 1,\n",
       "         'PMA': 1,\n",
       "         'UFM': 1,\n",
       "         'FMA': 1,\n",
       "         'MAT': 1,\n",
       "         'ATY': 1,\n",
       "         'TYP': 1,\n",
       "         'YPF': 1,\n",
       "         'PFH': 1,\n",
       "         'HOO': 1,\n",
       "         'OOA': 1,\n",
       "         'OAP': 1,\n",
       "         'APY': 1,\n",
       "         'PYN': 1,\n",
       "         'FGM': 1,\n",
       "         'GMR': 1,\n",
       "         'MRG': 1,\n",
       "         'RGU': 1,\n",
       "         'UNF': 1,\n",
       "         'AML': 1,\n",
       "         'MLM': 1,\n",
       "         'VFR': 1,\n",
       "         'FRJ': 1,\n",
       "         'RJP': 1,\n",
       "         'JPH': 1,\n",
       "         'FQH': 1,\n",
       "         'QHE': 1,\n",
       "         'HEY': 1,\n",
       "         'EYN': 1,\n",
       "         'FAI': 1,\n",
       "         'AIN': 1,\n",
       "         'INF': 1,\n",
       "         'NFX': 1,\n",
       "         'FXQ': 1,\n",
       "         'QYA': 1,\n",
       "         'YAF': 1,\n",
       "         'FLV': 1,\n",
       "         'LVH': 1,\n",
       "         'HMP': 1,\n",
       "         'MPU': 1,\n",
       "         'PUN': 1,\n",
       "         'DDQ': 1,\n",
       "         'LUM': 1,\n",
       "         'MPT': 1,\n",
       "         'PTN': 1,\n",
       "         'TNM': 1,\n",
       "         'MUG': 1,\n",
       "         'RQV': 1,\n",
       "         'QVN': 1,\n",
       "         'UAG': 1,\n",
       "         'FQA': 1,\n",
       "         'QAQ': 1,\n",
       "         'QXH': 1,\n",
       "         'XHI': 1,\n",
       "         'MER': 1,\n",
       "         'MIH': 1,\n",
       "         'HMJ': 1,\n",
       "         'MJD': 1,\n",
       "         'JDN': 1,\n",
       "         'DNA': 1,\n",
       "         'NAF': 1,\n",
       "         'AFD': 1,\n",
       "         'DXQ': 1,\n",
       "         'QYM': 1,\n",
       "         'YMU': 1,\n",
       "         'MUU': 1,\n",
       "         'UUN': 1,\n",
       "         'UNJ': 1,\n",
       "         'NJJ': 1,\n",
       "         'JJN': 1,\n",
       "         'JNM': 1,\n",
       "         'MUF': 1,\n",
       "         'FQD': 1,\n",
       "         'QDX': 1,\n",
       "         'DXY': 1,\n",
       "         'XYU': 1,\n",
       "         'YUN': 1,\n",
       "         'NDQ': 1,\n",
       "         'QYX': 1,\n",
       "         'YXJ': 1,\n",
       "         'XJU': 1,\n",
       "         'UGA': 1,\n",
       "         'AGF': 1,\n",
       "         'FHQ': 1,\n",
       "         'HQN': 1,\n",
       "         'QND': 1,\n",
       "         'DGM': 1,\n",
       "         'GMH': 1,\n",
       "         'MHJ': 1,\n",
       "         'HJG': 1,\n",
       "         'JGU': 1,\n",
       "         'UNG': 1,\n",
       "         'NGH': 1,\n",
       "         'GHI': 1,\n",
       "         'HIF': 1,\n",
       "         'IFN': 1,\n",
       "         'FNQ': 1,\n",
       "         'NQR': 1,\n",
       "         'RMN': 1,\n",
       "         'NDT': 1,\n",
       "         'DTN': 1,\n",
       "         'TNR': 1,\n",
       "         'NRP': 1,\n",
       "         'UPH': 1,\n",
       "         'PNE': 1,\n",
       "         'NEU': 1,\n",
       "         'YUY': 1,\n",
       "         'FLU': 1,\n",
       "         'LUG': 1,\n",
       "         'UGE': 1,\n",
       "         'GEN': 1,\n",
       "         'NFQ': 1,\n",
       "         'LUJ': 1,\n",
       "         'UJR': 1,\n",
       "         'ROG': 1,\n",
       "         'OGA': 1,\n",
       "         'AGN': 1,\n",
       "         'GNM': 1,\n",
       "         'NMH': 1,\n",
       "         'MHN': 1,\n",
       "         'HNM': 1,\n",
       "         'NMA': 1,\n",
       "         'MAF': 1,\n",
       "         'LQM': 1,\n",
       "         'QMN': 1,\n",
       "         'MNG': 1,\n",
       "         'NGU': 1,\n",
       "         'GUQ': 1,\n",
       "         'NQF': 1,\n",
       "         'QFA': 1,\n",
       "         'DUS': 1,\n",
       "         'LUP': 1,\n",
       "         'UUE': 1,\n",
       "         'EUG': 1,\n",
       "         'QHY': 1,\n",
       "         'HYN': 1,\n",
       "         'SUQ': 1,\n",
       "         'UQR': 1,\n",
       "         'RMF': 1,\n",
       "         'MFU': 1,\n",
       "         'UGH': 1,\n",
       "         'GHR': 1,\n",
       "         'QQH': 1,\n",
       "         'QHG': 1,\n",
       "         'HGA': 1,\n",
       "         'APT': 1,\n",
       "         'PTR': 1,\n",
       "         'TRP': 1,\n",
       "         'RPP': 1,\n",
       "         'PPQ': 1,\n",
       "         'YUE': 1,\n",
       "         'UER': 1,\n",
       "         'MPQ': 1,\n",
       "         'UXV': 1,\n",
       "         'XVU': 1,\n",
       "         'MUV': 1,\n",
       "         'GUG': 1,\n",
       "         'GIH': 1,\n",
       "         'HMD': 1,\n",
       "         'MDU': 1,\n",
       "         'DUN': 1,\n",
       "         'UNS': 1,\n",
       "         'NSA': 1,\n",
       "         'SAF': 1,\n",
       "         'LQY': 1,\n",
       "         'AMI': 1,\n",
       "         'MIA': 1,\n",
       "         'IAM': 1,\n",
       "         'AMU': 1,\n",
       "         'UPA': 1,\n",
       "         'PAG': 1,\n",
       "         'GUP': 1,\n",
       "         'UPV': 1,\n",
       "         'PVY': 1,\n",
       "         'VYU': 1,\n",
       "         'YUF': 1,\n",
       "         'UPT': 1,\n",
       "         'PTH': 1,\n",
       "         'THH': 1,\n",
       "         'HHC': 1,\n",
       "         'HCN': 1,\n",
       "         'CNM': 1,\n",
       "         'MMA': 1,\n",
       "         'MAS': 1,\n",
       "         'UGG': 1,\n",
       "         'GGM': 1,\n",
       "         'GMN': 1,\n",
       "         'MNE': 1,\n",
       "         'ENQ': 1,\n",
       "         'NQA': 1,\n",
       "         'QAT': 1,\n",
       "         'ATN': 1,\n",
       "         'DDX': 1,\n",
       "         'DXA': 1,\n",
       "         'XAF': 1,\n",
       "         'AFQ': 1,\n",
       "         'MEA': 1,\n",
       "         'EAG': 1,\n",
       "         'AGP': 1,\n",
       "         'GPQ': 1,\n",
       "         'PQN': 1,\n",
       "         'QNF': 1,\n",
       "         'NFF': 1,\n",
       "         'FFH': 1,\n",
       "         'FHR': 1,\n",
       "         'RFT': 1,\n",
       "         'TUG': 1,\n",
       "         'QHQ': 1,\n",
       "         'HQY': 1,\n",
       "         'PRG': 1,\n",
       "         'RGG': 1,\n",
       "         'GGU': 1,\n",
       "         'UFD': 1,\n",
       "         'DXP': 1,\n",
       "         'XPA': 1,\n",
       "         'PAD': 1,\n",
       "         'ADU': 1,\n",
       "         'FQJ': 1,\n",
       "         'QJR': 1,\n",
       "         'ROQ': 1,\n",
       "         'OQY': 1,\n",
       "         'NQN': 1,\n",
       "         'QNE': 1,\n",
       "         'NFT': 1,\n",
       "         'FTN': 1,\n",
       "         'DDU': 1,\n",
       "         'TUY': 1,\n",
       "         'NGB': 1,\n",
       "         'GBR': 1,\n",
       "         'BRP': 1,\n",
       "         'RPQ': 1,\n",
       "         'PQO': 1,\n",
       "         'QOU': 1,\n",
       "         'UFN': 1,\n",
       "         'MMU': 1,\n",
       "         'UPQ': 1,\n",
       "         'FCT': 1,\n",
       "         'CTM': 1,\n",
       "         'TMA': 1,\n",
       "         'MAU': 1,\n",
       "         'AUG': 1,\n",
       "         'UGP': 1,\n",
       "         'UMN': 1,\n",
       "         'NDJ': 1,\n",
       "         'DJU': 1,\n",
       "         'FUS': 1,\n",
       "         'MIM': 1,\n",
       "         'UPL': 1,\n",
       "         'PLN': 1,\n",
       "         'LNM': 1,\n",
       "         'FUM': 1,\n",
       "         'UMY': 1,\n",
       "         'MYU': 1,\n",
       "         'YUD': 1,\n",
       "         'UDA': 1,\n",
       "         'DAS': 1,\n",
       "         'GND': 1,\n",
       "         'NDH': 1,\n",
       "         'DHF': 1,\n",
       "         'FUA': 1,\n",
       "         'UAF': 1,\n",
       "         'AFN': 1,\n",
       "         'NMR': 1,\n",
       "         'MRF': 1,\n",
       "         'FGH': 1,\n",
       "         'GHV': 1,\n",
       "         'VFT': 1,\n",
       "         'FTH': 1,\n",
       "         'THQ': 1,\n",
       "         'HQQ': 1,\n",
       "         'QQN': 1,\n",
       "         'QNL': 1,\n",
       "         'LUH': 1,\n",
       "         'UHF': 1,\n",
       "         'YUL': 1,\n",
       "         'ULM': 1,\n",
       "         'MHR': 1,\n",
       "         'FGP': 1,\n",
       "         'GPH': 1,\n",
       "         'PHI': 1,\n",
       "         'UYH': 1,\n",
       "         'YHR': 1,\n",
       "         'HRP': 1,\n",
       "         'PUI': 1,\n",
       "         'UIM': 1,\n",
       "         'FCY': 1,\n",
       "         'CYN': 1,\n",
       "         'NGT': 1,\n",
       "         'GTH': 1,\n",
       "         'THE': 1,\n",
       "         'HEU': 1,\n",
       "         'EUO': 1,\n",
       "         'UON': 1,\n",
       "         'ONT': 1,\n",
       "         'NTC': 1,\n",
       "         'TCI': 1,\n",
       "         'CIM': 1,\n",
       "         'IMH': 1,\n",
       "         'MHE': 1,\n",
       "         'HEQ': 1,\n",
       "         'EQY': 1,\n",
       "         'NMV': 1,\n",
       "         'MVA': 1,\n",
       "         'XPQ': 1,\n",
       "         'PQA': 1,\n",
       "         'QAI': 1,\n",
       "         'AII': 1,\n",
       "         'IID': 1,\n",
       "         'IDU': 1,\n",
       "         'DUL': 1,\n",
       "         'ULN': 1,\n",
       "         'LNF': 1,\n",
       "         'GNL': 1,\n",
       "         'NLM': 1,\n",
       "         'LMU': 1,\n",
       "         'NQG': 1,\n",
       "         'QGA': 1,\n",
       "         'APD': 1,\n",
       "         'PDA': 1,\n",
       "         'DAC': 1,\n",
       "         'ACU': 1,\n",
       "         'CUH': 1,\n",
       "         'HIT': 1,\n",
       "         'ITM': 1,\n",
       "         'TMH': 1,\n",
       "         'HVG': 1,\n",
       "         'VGP': 1,\n",
       "         'GPN': 1,\n",
       "         'FGD': 1,\n",
       "         'GDH': 1,\n",
       "         'DHR': 1,\n",
       "         'HRG': 1,\n",
       "         'RGF': 1,\n",
       "         'FHA': 1,\n",
       "         'HAP': 1,\n",
       "         'FGY': 1,\n",
       "         'GYN': 1,\n",
       "         'UFV': 1,\n",
       "         'FVH': 1,\n",
       "         'HMC': 1,\n",
       "         'MCA': 1,\n",
       "         'CAF': 1,\n",
       "         'FLI': 1,\n",
       "         'LIH': 1,\n",
       "         'MPA': 1,\n",
       "         'PAF': 1,\n",
       "         'AFT': 1,\n",
       "         'TUW': 1,\n",
       "         'UWW': 1})"
      ]
     },
     "execution_count": 1487,
     "metadata": {},
     "output_type": "execute_result"
    }
   ],
   "source": [
    "rawCipher = cipherText.replace(\" \", \"\")\n",
    "repeats = []\n",
    "seqLen=2\n",
    "\n",
    "\n",
    "for i in range(len(rawCipher) - seqLen):\n",
    "    repeats.append(rawCipher[i:i+seqLen+1])\n",
    "\n",
    "Counter(repeats)"
   ]
  },
  {
   "cell_type": "code",
   "execution_count": 1488,
   "metadata": {},
   "outputs": [
    {
     "data": {
      "text/plain": [
       "Counter({'UU': 9,\n",
       "         'DD': 8,\n",
       "         'GG': 8,\n",
       "         'QQ': 6,\n",
       "         'MM': 2,\n",
       "         'WW': 2,\n",
       "         'EE': 1,\n",
       "         'OO': 1,\n",
       "         'JJ': 1,\n",
       "         'PP': 1,\n",
       "         'HH': 1,\n",
       "         'FF': 1,\n",
       "         'II': 1,\n",
       "         'WWW': 1})"
      ]
     },
     "execution_count": 1488,
     "metadata": {},
     "output_type": "execute_result"
    }
   ],
   "source": [
    "repeats = []\n",
    "for doubleLen in range(2,6):\n",
    "    for i in range(len(rawCipher) - doubleLen):\n",
    "        if all([rawCipher[i] == rawCipher[i+j] for j in range(1, doubleLen)]):\n",
    "            repeats.append(rawCipher[i:i+doubleLen])\n",
    "\n",
    "Counter(repeats)"
   ]
  },
  {
   "cell_type": "code",
   "execution_count": 1489,
   "metadata": {},
   "outputs": [
    {
     "data": {
      "text/plain": [
       "[('N', 'a'),\n",
       " ('O', 'b'),\n",
       " ('T', 'c'),\n",
       " ('G', 'd'),\n",
       " ('U', 'e'),\n",
       " ('I', 'f'),\n",
       " ('L', 'g'),\n",
       " ('Y', 'h'),\n",
       " ('A', 'i'),\n",
       " ('B', 'j'),\n",
       " ('C', 'k'),\n",
       " ('D', 'l'),\n",
       " ('E', 'm'),\n",
       " ('F', 'n'),\n",
       " ('H', 'o'),\n",
       " ('J', 'p'),\n",
       " ('K', 'q'),\n",
       " ('M', 'r'),\n",
       " ('P', 's'),\n",
       " ('Q', 't'),\n",
       " ('R', 'u'),\n",
       " ('S', 'v'),\n",
       " ('V', 'w'),\n",
       " ('W', 'x'),\n",
       " ('X', 'y'),\n",
       " ('Z', 'z')]"
      ]
     },
     "execution_count": 1489,
     "metadata": {},
     "output_type": "execute_result"
    }
   ],
   "source": [
    "mappings = {}\n",
    "    \n",
    "mappings['Q'] = 't'\n",
    "mappings['Y'] = 'h'\n",
    "mappings['U'] = 'e'\n",
    "\n",
    "mappings['S'] = 'v'\n",
    "mappings['A'] = 'i'\n",
    "mappings['D'] = 'l'\n",
    "mappings['N'] = 'a'\n",
    "mappings['L'] = 'g'\n",
    "\n",
    "mappings['M'] = 'r'\n",
    "mappings['F'] = 'n'\n",
    "mappings['H'] = 'o'\n",
    "\n",
    "mappings['V'] = 'w'\n",
    "mappings['X'] = 'y'\n",
    "mappings['G'] = 'd'\n",
    "mappings['R'] = 'u'\n",
    "mappings['I'] = 'f'\n",
    "mappings['P'] = 's'\n",
    "mappings['O'] = 'b'\n",
    "mappings['E'] = 'm'\n",
    "mappings['T'] = 'c'\n",
    "mappings['J'] = 'p'\n",
    "mappings['C'] = 'k'\n",
    "mappings['W'] = 'x'\n",
    "mappings['B'] = 'j'\n",
    "mappings['Z'] = 'z'\n",
    "mappings['K'] = 'q'\n",
    "\n",
    "sorted(mappings.items(), key=lambda x: x[1])"
   ]
  },
  {
   "cell_type": "code",
   "execution_count": 1492,
   "metadata": {},
   "outputs": [
    {
     "data": {
      "text/plain": [
       "{'N': 'a',\n",
       " 'O': 'b',\n",
       " 'T': 'c',\n",
       " 'G': 'd',\n",
       " 'U': 'e',\n",
       " 'I': 'f',\n",
       " 'L': 'g',\n",
       " 'Y': 'h',\n",
       " 'A': 'i',\n",
       " 'B': 'j',\n",
       " 'C': 'k',\n",
       " 'D': 'l',\n",
       " 'E': 'm',\n",
       " 'F': 'n',\n",
       " 'H': 'o',\n",
       " 'J': 'p',\n",
       " 'K': 'q',\n",
       " 'M': 'r',\n",
       " 'P': 's',\n",
       " 'Q': 't',\n",
       " 'R': 'u',\n",
       " 'S': 'v',\n",
       " 'V': 'w',\n",
       " 'W': 'x',\n",
       " 'X': 'y',\n",
       " 'Z': 'z'}"
      ]
     },
     "execution_count": 1492,
     "metadata": {},
     "output_type": "execute_result"
    }
   ],
   "source": [
    "mappings = keywordReplace('notguilty')\n",
    "mappings"
   ]
  },
  {
   "cell_type": "code",
   "execution_count": 1491,
   "metadata": {},
   "outputs": [
    {
     "name": "stdout",
     "output_type": "stream",
     "text": [
      "\n",
      "thepo licew eresu mmone dandt hewho leofl ittle hangl etonh \n",
      "adsee thedw ithsh ocked curio sitya ndill disgu isede xcite \n",
      "mentn obody waste dthei rbrea thpre tendi ngtof eelve rysad \n",
      "about theri ddles forth eyhad beenm ostun popul areld erlym \n",
      "randm rsrid dleha dbeen richs nobbi shand rudea ndthe irgro \n",
      "wnups ontom hadbe enifa nythi ngwor seall thevi llage rscar \n",
      "edabo utwas theid entit yofth eirmu rdere rforp lainl ythre \n",
      "eappa rentl yheal thype opled idnot alldr opdea dofna tural \n",
      "cause sonth esame night theha ngedm anthe villa gepub didar \n",
      "oarin gtrad ethat night thewh olevi llage seeme dtoha vetur \n",
      "nedou ttodi scuss themu rders theyw erere warde dforl eavin \n",
      "gthei rfire sides whent herid dlesc ookar rived drama tical \n",
      "lyint heirm idsta ndann ounce dtoth esudd enlys ilent pubth \n",
      "atama ncall edfra nkbry cehad justb eenar reste dfran kcrie \n",
      "dseve ralpe oplen everf rankb rycew asthe riddl esgar dener \n",
      "heliv edalo neina rundo wncot tageo ntheg round softh eridd \n",
      "lehou sefra nkhad comeb ackfr omthe warwi thave rysti ffleg \n",
      "andag reatd islik eofcr owdsa ndlou dnois esand hadbe enwor \n",
      "kingf orthe riddl eseve rsinc exxxx "
     ]
    }
   ],
   "source": [
    "unencryptedText = \"\".join(list(map(lambda x: replaceLetter(x, mappings, hide=True), cipherText)))\n",
    "prettyPrint(unencryptedText)"
   ]
  }
 ],
 "metadata": {
  "kernelspec": {
   "display_name": "Python 3",
   "language": "python",
   "name": "python3"
  },
  "language_info": {
   "codemirror_mode": {
    "name": "ipython",
    "version": 3
   },
   "file_extension": ".py",
   "mimetype": "text/x-python",
   "name": "python",
   "nbconvert_exporter": "python",
   "pygments_lexer": "ipython3",
   "version": "3.11.3"
  },
  "orig_nbformat": 4
 },
 "nbformat": 4,
 "nbformat_minor": 2
}
