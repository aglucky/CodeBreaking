{
 "cells": [
  {
   "cell_type": "code",
   "execution_count": 1467,
   "metadata": {},
   "outputs": [],
   "source": [
    "import plotly.express as px\n",
    "from collections import Counter\n",
    "import json\n",
    "from helpers import prettyPrint, keywordReplace, replaceLetter\n"
   ]
  },
  {
   "cell_type": "code",
   "execution_count": 1468,
   "metadata": {},
   "outputs": [
    {
     "name": "stdout",
     "output_type": "stream",
     "text": [
      "\n",
      "QYUJH DATUV UMUPR EEHFU GNFGQ YUVYH DUHID AQQDU YNFLD UQHFY \n",
      "NGPUU QYUGV AQYPY HTCUG TRMAH PAQXN FGADD GAPLR APUGU WTAQU \n",
      "EUFQF HOHGX VNPQU GQYUA MOMUN QYJMU QUFGA FLQHI UUDSU MXPNG \n",
      "NOHRQ QYUMA GGDUP IHMQY UXYNG OUUFE HPQRF JHJRD NMUDG UMDXE \n",
      "MNFGE MPMAG GDUYN GOUUF MATYP FHOOA PYNFG MRGUN FGQYU AMLMH \n",
      "VFRJP HFQHE YNGOU UFAIN FXQYA FLVHM PUNDD QYUSA DDNLU MPTNM \n",
      "UGNOH RQVNP QYUAG UFQAQ XHIQY UAMER MGUMU MIHMJ DNAFD XQYMU \n",
      "UNJJN MUFQD XYUND QYXJU HJDUG AGFHQ NDDGM HJGUN GHIFN QRMND \n",
      "TNRPU PHFQY UPNEU FALYQ QYUYN FLUGE NFQYU SADDN LUJRO GAGNM \n",
      "HNMAF LQMNG UQYNQ FALYQ QYUVY HDUSA DDNLU PUUEU GQHYN SUQRM \n",
      "FUGHR QQHGA PTRPP QYUER MGUMP QYUXV UMUMU VNMGU GIHMD UNSAF \n",
      "LQYUA MIAMU PAGUP VYUFQ YUMAG GDUPT HHCNM MASUG GMNEN QATND \n",
      "DXAFQ YUAME AGPQN FGNFF HRFTU GQHQY UPRGG UFDXP ADUFQ JROQY \n",
      "NQNEN FTNDD UGIMN FCOMX TUYNG BRPQO UUFNM MUPQU GIMNF CTMAU \n",
      "GPUSU MNDJU HJDUF USUMI MNFCO MXTUV NPQYU MAGGD UPLNM GUFUM \n",
      "YUDAS UGNDH FUAFN MRFGH VFTHQ QNLUH FQYUL MHRFG PHIQY UMAGG \n",
      "DUYHR PUIMN FCYNG THEUO NTCIM HEQYU VNMVA QYNSU MXPQA IIDUL \n",
      "NFGNL MUNQG APDAC UHITM HVGPN FGDHR GFHAP UPNFG YNGOU UFVHM \n",
      "CAFLI HMQYU MAGGD UPUSU MPAFT UWWWW "
     ]
    }
   ],
   "source": [
    "with open(\"HW2.txt\", \"r\") as f:\n",
    "    cipherText = f.read()\n",
    "\n",
    "cipherText = cipherText.replace(\"\\n\", \" \")\n",
    "prettyPrint(cipherText)"
   ]
  },
  {
   "cell_type": "code",
   "execution_count": 1469,
   "metadata": {},
   "outputs": [
    {
     "data": {
      "text/plain": [
       "[('A', 55),\n",
       " ('B', 1),\n",
       " ('C', 9),\n",
       " ('D', 48),\n",
       " ('E', 17),\n",
       " ('F', 63),\n",
       " ('G', 74),\n",
       " ('H', 53),\n",
       " ('I', 19),\n",
       " ('J', 15),\n",
       " ('L', 19),\n",
       " ('M', 72),\n",
       " ('N', 74),\n",
       " ('O', 16),\n",
       " ('P', 45),\n",
       " ('Q', 70),\n",
       " ('R', 25),\n",
       " ('S', 12),\n",
       " ('T', 20),\n",
       " ('U', 131),\n",
       " ('V', 17),\n",
       " ('W', 5),\n",
       " ('X', 16),\n",
       " ('Y', 54),\n",
       " ('Z', 0)]"
      ]
     },
     "execution_count": 1469,
     "metadata": {},
     "output_type": "execute_result"
    }
   ],
   "source": [
    "cipherFreq = Counter(cipherText)\n",
    "cipherFreq['Z'] = 0\n",
    "cipherFreq.pop(' ')\n",
    "total = sum(cipherFreq.values())\n",
    "sortedCipherFreq = sorted(cipherFreq.items(), key=lambda x: x[0])\n",
    "sortedCipherFreq"
   ]
  },
  {
   "cell_type": "code",
   "execution_count": 1470,
   "metadata": {},
   "outputs": [
    {
     "data": {
      "text/plain": [
       "{'a': 8.167,\n",
       " 'b': 1.492,\n",
       " 'c': 2.782,\n",
       " 'd': 4.253,\n",
       " 'e': 12.702,\n",
       " 'f': 2.228,\n",
       " 'g': 2.015,\n",
       " 'h': 6.094,\n",
       " 'i': 6.966,\n",
       " 'j': 0.153,\n",
       " 'k': 0.772,\n",
       " 'l': 4.025,\n",
       " 'm': 2.406,\n",
       " 'n': 6.749,\n",
       " 'o': 7.507,\n",
       " 'p': 1.929,\n",
       " 'q': 0.095,\n",
       " 'r': 5.987,\n",
       " 's': 6.327,\n",
       " 't': 9.056,\n",
       " 'u': 2.758,\n",
       " 'v': 0.978,\n",
       " 'w': 2.36,\n",
       " 'x': 0.15,\n",
       " 'y': 1.974,\n",
       " 'z': 0.074}"
      ]
     },
     "execution_count": 1470,
     "metadata": {},
     "output_type": "execute_result"
    }
   ],
   "source": [
    "with open(\"English_Freq.json\") as f:\n",
    "    engFreq = json.load(f)\n",
    "engFreq"
   ]
  },
  {
   "cell_type": "code",
   "execution_count": 1471,
   "metadata": {},
   "outputs": [
    {
     "data": {
      "application/vnd.plotly.v1+json": {
       "config": {
        "plotlyServerURL": "https://plot.ly"
       },
       "data": [
        {
         "alignmentgroup": "True",
         "hovertemplate": "x=%{x}<br>y=%{y}<extra></extra>",
         "legendgroup": "",
         "marker": {
          "color": "#636efa",
          "pattern": {
           "shape": ""
          }
         },
         "name": "",
         "offsetgroup": "",
         "orientation": "v",
         "showlegend": false,
         "textposition": "auto",
         "type": "bar",
         "x": [
          "A",
          "B",
          "C",
          "D",
          "E",
          "F",
          "G",
          "H",
          "I",
          "J",
          "L",
          "M",
          "N",
          "O",
          "P",
          "Q",
          "R",
          "S",
          "T",
          "U",
          "V",
          "W",
          "X",
          "Y",
          "Z"
         ],
         "xaxis": "x",
         "y": [
          55,
          1,
          9,
          48,
          17,
          63,
          74,
          53,
          19,
          15,
          19,
          72,
          74,
          16,
          45,
          70,
          25,
          12,
          20,
          131,
          17,
          5,
          16,
          54,
          0
         ],
         "yaxis": "y"
        }
       ],
       "layout": {
        "barmode": "relative",
        "legend": {
         "tracegroupgap": 0
        },
        "template": {
         "data": {
          "bar": [
           {
            "error_x": {
             "color": "#2a3f5f"
            },
            "error_y": {
             "color": "#2a3f5f"
            },
            "marker": {
             "line": {
              "color": "#E5ECF6",
              "width": 0.5
             },
             "pattern": {
              "fillmode": "overlay",
              "size": 10,
              "solidity": 0.2
             }
            },
            "type": "bar"
           }
          ],
          "barpolar": [
           {
            "marker": {
             "line": {
              "color": "#E5ECF6",
              "width": 0.5
             },
             "pattern": {
              "fillmode": "overlay",
              "size": 10,
              "solidity": 0.2
             }
            },
            "type": "barpolar"
           }
          ],
          "carpet": [
           {
            "aaxis": {
             "endlinecolor": "#2a3f5f",
             "gridcolor": "white",
             "linecolor": "white",
             "minorgridcolor": "white",
             "startlinecolor": "#2a3f5f"
            },
            "baxis": {
             "endlinecolor": "#2a3f5f",
             "gridcolor": "white",
             "linecolor": "white",
             "minorgridcolor": "white",
             "startlinecolor": "#2a3f5f"
            },
            "type": "carpet"
           }
          ],
          "choropleth": [
           {
            "colorbar": {
             "outlinewidth": 0,
             "ticks": ""
            },
            "type": "choropleth"
           }
          ],
          "contour": [
           {
            "colorbar": {
             "outlinewidth": 0,
             "ticks": ""
            },
            "colorscale": [
             [
              0,
              "#0d0887"
             ],
             [
              0.1111111111111111,
              "#46039f"
             ],
             [
              0.2222222222222222,
              "#7201a8"
             ],
             [
              0.3333333333333333,
              "#9c179e"
             ],
             [
              0.4444444444444444,
              "#bd3786"
             ],
             [
              0.5555555555555556,
              "#d8576b"
             ],
             [
              0.6666666666666666,
              "#ed7953"
             ],
             [
              0.7777777777777778,
              "#fb9f3a"
             ],
             [
              0.8888888888888888,
              "#fdca26"
             ],
             [
              1,
              "#f0f921"
             ]
            ],
            "type": "contour"
           }
          ],
          "contourcarpet": [
           {
            "colorbar": {
             "outlinewidth": 0,
             "ticks": ""
            },
            "type": "contourcarpet"
           }
          ],
          "heatmap": [
           {
            "colorbar": {
             "outlinewidth": 0,
             "ticks": ""
            },
            "colorscale": [
             [
              0,
              "#0d0887"
             ],
             [
              0.1111111111111111,
              "#46039f"
             ],
             [
              0.2222222222222222,
              "#7201a8"
             ],
             [
              0.3333333333333333,
              "#9c179e"
             ],
             [
              0.4444444444444444,
              "#bd3786"
             ],
             [
              0.5555555555555556,
              "#d8576b"
             ],
             [
              0.6666666666666666,
              "#ed7953"
             ],
             [
              0.7777777777777778,
              "#fb9f3a"
             ],
             [
              0.8888888888888888,
              "#fdca26"
             ],
             [
              1,
              "#f0f921"
             ]
            ],
            "type": "heatmap"
           }
          ],
          "heatmapgl": [
           {
            "colorbar": {
             "outlinewidth": 0,
             "ticks": ""
            },
            "colorscale": [
             [
              0,
              "#0d0887"
             ],
             [
              0.1111111111111111,
              "#46039f"
             ],
             [
              0.2222222222222222,
              "#7201a8"
             ],
             [
              0.3333333333333333,
              "#9c179e"
             ],
             [
              0.4444444444444444,
              "#bd3786"
             ],
             [
              0.5555555555555556,
              "#d8576b"
             ],
             [
              0.6666666666666666,
              "#ed7953"
             ],
             [
              0.7777777777777778,
              "#fb9f3a"
             ],
             [
              0.8888888888888888,
              "#fdca26"
             ],
             [
              1,
              "#f0f921"
             ]
            ],
            "type": "heatmapgl"
           }
          ],
          "histogram": [
           {
            "marker": {
             "pattern": {
              "fillmode": "overlay",
              "size": 10,
              "solidity": 0.2
             }
            },
            "type": "histogram"
           }
          ],
          "histogram2d": [
           {
            "colorbar": {
             "outlinewidth": 0,
             "ticks": ""
            },
            "colorscale": [
             [
              0,
              "#0d0887"
             ],
             [
              0.1111111111111111,
              "#46039f"
             ],
             [
              0.2222222222222222,
              "#7201a8"
             ],
             [
              0.3333333333333333,
              "#9c179e"
             ],
             [
              0.4444444444444444,
              "#bd3786"
             ],
             [
              0.5555555555555556,
              "#d8576b"
             ],
             [
              0.6666666666666666,
              "#ed7953"
             ],
             [
              0.7777777777777778,
              "#fb9f3a"
             ],
             [
              0.8888888888888888,
              "#fdca26"
             ],
             [
              1,
              "#f0f921"
             ]
            ],
            "type": "histogram2d"
           }
          ],
          "histogram2dcontour": [
           {
            "colorbar": {
             "outlinewidth": 0,
             "ticks": ""
            },
            "colorscale": [
             [
              0,
              "#0d0887"
             ],
             [
              0.1111111111111111,
              "#46039f"
             ],
             [
              0.2222222222222222,
              "#7201a8"
             ],
             [
              0.3333333333333333,
              "#9c179e"
             ],
             [
              0.4444444444444444,
              "#bd3786"
             ],
             [
              0.5555555555555556,
              "#d8576b"
             ],
             [
              0.6666666666666666,
              "#ed7953"
             ],
             [
              0.7777777777777778,
              "#fb9f3a"
             ],
             [
              0.8888888888888888,
              "#fdca26"
             ],
             [
              1,
              "#f0f921"
             ]
            ],
            "type": "histogram2dcontour"
           }
          ],
          "mesh3d": [
           {
            "colorbar": {
             "outlinewidth": 0,
             "ticks": ""
            },
            "type": "mesh3d"
           }
          ],
          "parcoords": [
           {
            "line": {
             "colorbar": {
              "outlinewidth": 0,
              "ticks": ""
             }
            },
            "type": "parcoords"
           }
          ],
          "pie": [
           {
            "automargin": true,
            "type": "pie"
           }
          ],
          "scatter": [
           {
            "fillpattern": {
             "fillmode": "overlay",
             "size": 10,
             "solidity": 0.2
            },
            "type": "scatter"
           }
          ],
          "scatter3d": [
           {
            "line": {
             "colorbar": {
              "outlinewidth": 0,
              "ticks": ""
             }
            },
            "marker": {
             "colorbar": {
              "outlinewidth": 0,
              "ticks": ""
             }
            },
            "type": "scatter3d"
           }
          ],
          "scattercarpet": [
           {
            "marker": {
             "colorbar": {
              "outlinewidth": 0,
              "ticks": ""
             }
            },
            "type": "scattercarpet"
           }
          ],
          "scattergeo": [
           {
            "marker": {
             "colorbar": {
              "outlinewidth": 0,
              "ticks": ""
             }
            },
            "type": "scattergeo"
           }
          ],
          "scattergl": [
           {
            "marker": {
             "colorbar": {
              "outlinewidth": 0,
              "ticks": ""
             }
            },
            "type": "scattergl"
           }
          ],
          "scattermapbox": [
           {
            "marker": {
             "colorbar": {
              "outlinewidth": 0,
              "ticks": ""
             }
            },
            "type": "scattermapbox"
           }
          ],
          "scatterpolar": [
           {
            "marker": {
             "colorbar": {
              "outlinewidth": 0,
              "ticks": ""
             }
            },
            "type": "scatterpolar"
           }
          ],
          "scatterpolargl": [
           {
            "marker": {
             "colorbar": {
              "outlinewidth": 0,
              "ticks": ""
             }
            },
            "type": "scatterpolargl"
           }
          ],
          "scatterternary": [
           {
            "marker": {
             "colorbar": {
              "outlinewidth": 0,
              "ticks": ""
             }
            },
            "type": "scatterternary"
           }
          ],
          "surface": [
           {
            "colorbar": {
             "outlinewidth": 0,
             "ticks": ""
            },
            "colorscale": [
             [
              0,
              "#0d0887"
             ],
             [
              0.1111111111111111,
              "#46039f"
             ],
             [
              0.2222222222222222,
              "#7201a8"
             ],
             [
              0.3333333333333333,
              "#9c179e"
             ],
             [
              0.4444444444444444,
              "#bd3786"
             ],
             [
              0.5555555555555556,
              "#d8576b"
             ],
             [
              0.6666666666666666,
              "#ed7953"
             ],
             [
              0.7777777777777778,
              "#fb9f3a"
             ],
             [
              0.8888888888888888,
              "#fdca26"
             ],
             [
              1,
              "#f0f921"
             ]
            ],
            "type": "surface"
           }
          ],
          "table": [
           {
            "cells": {
             "fill": {
              "color": "#EBF0F8"
             },
             "line": {
              "color": "white"
             }
            },
            "header": {
             "fill": {
              "color": "#C8D4E3"
             },
             "line": {
              "color": "white"
             }
            },
            "type": "table"
           }
          ]
         },
         "layout": {
          "annotationdefaults": {
           "arrowcolor": "#2a3f5f",
           "arrowhead": 0,
           "arrowwidth": 1
          },
          "autotypenumbers": "strict",
          "coloraxis": {
           "colorbar": {
            "outlinewidth": 0,
            "ticks": ""
           }
          },
          "colorscale": {
           "diverging": [
            [
             0,
             "#8e0152"
            ],
            [
             0.1,
             "#c51b7d"
            ],
            [
             0.2,
             "#de77ae"
            ],
            [
             0.3,
             "#f1b6da"
            ],
            [
             0.4,
             "#fde0ef"
            ],
            [
             0.5,
             "#f7f7f7"
            ],
            [
             0.6,
             "#e6f5d0"
            ],
            [
             0.7,
             "#b8e186"
            ],
            [
             0.8,
             "#7fbc41"
            ],
            [
             0.9,
             "#4d9221"
            ],
            [
             1,
             "#276419"
            ]
           ],
           "sequential": [
            [
             0,
             "#0d0887"
            ],
            [
             0.1111111111111111,
             "#46039f"
            ],
            [
             0.2222222222222222,
             "#7201a8"
            ],
            [
             0.3333333333333333,
             "#9c179e"
            ],
            [
             0.4444444444444444,
             "#bd3786"
            ],
            [
             0.5555555555555556,
             "#d8576b"
            ],
            [
             0.6666666666666666,
             "#ed7953"
            ],
            [
             0.7777777777777778,
             "#fb9f3a"
            ],
            [
             0.8888888888888888,
             "#fdca26"
            ],
            [
             1,
             "#f0f921"
            ]
           ],
           "sequentialminus": [
            [
             0,
             "#0d0887"
            ],
            [
             0.1111111111111111,
             "#46039f"
            ],
            [
             0.2222222222222222,
             "#7201a8"
            ],
            [
             0.3333333333333333,
             "#9c179e"
            ],
            [
             0.4444444444444444,
             "#bd3786"
            ],
            [
             0.5555555555555556,
             "#d8576b"
            ],
            [
             0.6666666666666666,
             "#ed7953"
            ],
            [
             0.7777777777777778,
             "#fb9f3a"
            ],
            [
             0.8888888888888888,
             "#fdca26"
            ],
            [
             1,
             "#f0f921"
            ]
           ]
          },
          "colorway": [
           "#636efa",
           "#EF553B",
           "#00cc96",
           "#ab63fa",
           "#FFA15A",
           "#19d3f3",
           "#FF6692",
           "#B6E880",
           "#FF97FF",
           "#FECB52"
          ],
          "font": {
           "color": "#2a3f5f"
          },
          "geo": {
           "bgcolor": "white",
           "lakecolor": "white",
           "landcolor": "#E5ECF6",
           "showlakes": true,
           "showland": true,
           "subunitcolor": "white"
          },
          "hoverlabel": {
           "align": "left"
          },
          "hovermode": "closest",
          "mapbox": {
           "style": "light"
          },
          "paper_bgcolor": "white",
          "plot_bgcolor": "#E5ECF6",
          "polar": {
           "angularaxis": {
            "gridcolor": "white",
            "linecolor": "white",
            "ticks": ""
           },
           "bgcolor": "#E5ECF6",
           "radialaxis": {
            "gridcolor": "white",
            "linecolor": "white",
            "ticks": ""
           }
          },
          "scene": {
           "xaxis": {
            "backgroundcolor": "#E5ECF6",
            "gridcolor": "white",
            "gridwidth": 2,
            "linecolor": "white",
            "showbackground": true,
            "ticks": "",
            "zerolinecolor": "white"
           },
           "yaxis": {
            "backgroundcolor": "#E5ECF6",
            "gridcolor": "white",
            "gridwidth": 2,
            "linecolor": "white",
            "showbackground": true,
            "ticks": "",
            "zerolinecolor": "white"
           },
           "zaxis": {
            "backgroundcolor": "#E5ECF6",
            "gridcolor": "white",
            "gridwidth": 2,
            "linecolor": "white",
            "showbackground": true,
            "ticks": "",
            "zerolinecolor": "white"
           }
          },
          "shapedefaults": {
           "line": {
            "color": "#2a3f5f"
           }
          },
          "ternary": {
           "aaxis": {
            "gridcolor": "white",
            "linecolor": "white",
            "ticks": ""
           },
           "baxis": {
            "gridcolor": "white",
            "linecolor": "white",
            "ticks": ""
           },
           "bgcolor": "#E5ECF6",
           "caxis": {
            "gridcolor": "white",
            "linecolor": "white",
            "ticks": ""
           }
          },
          "title": {
           "x": 0.05
          },
          "xaxis": {
           "automargin": true,
           "gridcolor": "white",
           "linecolor": "white",
           "ticks": "",
           "title": {
            "standoff": 15
           },
           "zerolinecolor": "white",
           "zerolinewidth": 2
          },
          "yaxis": {
           "automargin": true,
           "gridcolor": "white",
           "linecolor": "white",
           "ticks": "",
           "title": {
            "standoff": 15
           },
           "zerolinecolor": "white",
           "zerolinewidth": 2
          }
         }
        },
        "title": {
         "text": "Frequency of letters in cipher text"
        },
        "xaxis": {
         "anchor": "y",
         "domain": [
          0,
          1
         ],
         "title": {
          "text": "x"
         }
        },
        "yaxis": {
         "anchor": "x",
         "domain": [
          0,
          1
         ],
         "title": {
          "text": "y"
         }
        }
       }
      }
     },
     "metadata": {},
     "output_type": "display_data"
    }
   ],
   "source": [
    "fig = px.bar(x=[l[0] for l in sortedCipherFreq], y=[l[1] for l in sortedCipherFreq], title=\"Frequency of letters in cipher text\")\n",
    "fig.show()"
   ]
  },
  {
   "cell_type": "code",
   "execution_count": 1472,
   "metadata": {},
   "outputs": [
    {
     "data": {
      "application/vnd.plotly.v1+json": {
       "config": {
        "plotlyServerURL": "https://plot.ly"
       },
       "data": [
        {
         "alignmentgroup": "True",
         "hovertemplate": "x=%{x}<br>y=%{y}<extra></extra>",
         "legendgroup": "",
         "marker": {
          "color": "#636efa",
          "pattern": {
           "shape": ""
          }
         },
         "name": "",
         "offsetgroup": "",
         "orientation": "v",
         "showlegend": false,
         "textposition": "auto",
         "type": "bar",
         "x": [
          "a",
          "b",
          "c",
          "d",
          "e",
          "f",
          "g",
          "h",
          "i",
          "j",
          "k",
          "l",
          "m",
          "n",
          "o",
          "p",
          "q",
          "r",
          "s",
          "t",
          "u",
          "v",
          "w",
          "x",
          "y",
          "z"
         ],
         "xaxis": "x",
         "y": [
          8.167,
          1.492,
          2.782,
          4.253,
          12.702,
          2.228,
          2.015,
          6.094,
          6.966,
          0.153,
          0.772,
          4.025,
          2.406,
          6.749,
          7.507,
          1.929,
          0.095,
          5.987,
          6.327,
          9.056,
          2.758,
          0.978,
          2.36,
          0.15,
          1.974,
          0.074
         ],
         "yaxis": "y"
        }
       ],
       "layout": {
        "barmode": "relative",
        "legend": {
         "tracegroupgap": 0
        },
        "template": {
         "data": {
          "bar": [
           {
            "error_x": {
             "color": "#2a3f5f"
            },
            "error_y": {
             "color": "#2a3f5f"
            },
            "marker": {
             "line": {
              "color": "#E5ECF6",
              "width": 0.5
             },
             "pattern": {
              "fillmode": "overlay",
              "size": 10,
              "solidity": 0.2
             }
            },
            "type": "bar"
           }
          ],
          "barpolar": [
           {
            "marker": {
             "line": {
              "color": "#E5ECF6",
              "width": 0.5
             },
             "pattern": {
              "fillmode": "overlay",
              "size": 10,
              "solidity": 0.2
             }
            },
            "type": "barpolar"
           }
          ],
          "carpet": [
           {
            "aaxis": {
             "endlinecolor": "#2a3f5f",
             "gridcolor": "white",
             "linecolor": "white",
             "minorgridcolor": "white",
             "startlinecolor": "#2a3f5f"
            },
            "baxis": {
             "endlinecolor": "#2a3f5f",
             "gridcolor": "white",
             "linecolor": "white",
             "minorgridcolor": "white",
             "startlinecolor": "#2a3f5f"
            },
            "type": "carpet"
           }
          ],
          "choropleth": [
           {
            "colorbar": {
             "outlinewidth": 0,
             "ticks": ""
            },
            "type": "choropleth"
           }
          ],
          "contour": [
           {
            "colorbar": {
             "outlinewidth": 0,
             "ticks": ""
            },
            "colorscale": [
             [
              0,
              "#0d0887"
             ],
             [
              0.1111111111111111,
              "#46039f"
             ],
             [
              0.2222222222222222,
              "#7201a8"
             ],
             [
              0.3333333333333333,
              "#9c179e"
             ],
             [
              0.4444444444444444,
              "#bd3786"
             ],
             [
              0.5555555555555556,
              "#d8576b"
             ],
             [
              0.6666666666666666,
              "#ed7953"
             ],
             [
              0.7777777777777778,
              "#fb9f3a"
             ],
             [
              0.8888888888888888,
              "#fdca26"
             ],
             [
              1,
              "#f0f921"
             ]
            ],
            "type": "contour"
           }
          ],
          "contourcarpet": [
           {
            "colorbar": {
             "outlinewidth": 0,
             "ticks": ""
            },
            "type": "contourcarpet"
           }
          ],
          "heatmap": [
           {
            "colorbar": {
             "outlinewidth": 0,
             "ticks": ""
            },
            "colorscale": [
             [
              0,
              "#0d0887"
             ],
             [
              0.1111111111111111,
              "#46039f"
             ],
             [
              0.2222222222222222,
              "#7201a8"
             ],
             [
              0.3333333333333333,
              "#9c179e"
             ],
             [
              0.4444444444444444,
              "#bd3786"
             ],
             [
              0.5555555555555556,
              "#d8576b"
             ],
             [
              0.6666666666666666,
              "#ed7953"
             ],
             [
              0.7777777777777778,
              "#fb9f3a"
             ],
             [
              0.8888888888888888,
              "#fdca26"
             ],
             [
              1,
              "#f0f921"
             ]
            ],
            "type": "heatmap"
           }
          ],
          "heatmapgl": [
           {
            "colorbar": {
             "outlinewidth": 0,
             "ticks": ""
            },
            "colorscale": [
             [
              0,
              "#0d0887"
             ],
             [
              0.1111111111111111,
              "#46039f"
             ],
             [
              0.2222222222222222,
              "#7201a8"
             ],
             [
              0.3333333333333333,
              "#9c179e"
             ],
             [
              0.4444444444444444,
              "#bd3786"
             ],
             [
              0.5555555555555556,
              "#d8576b"
             ],
             [
              0.6666666666666666,
              "#ed7953"
             ],
             [
              0.7777777777777778,
              "#fb9f3a"
             ],
             [
              0.8888888888888888,
              "#fdca26"
             ],
             [
              1,
              "#f0f921"
             ]
            ],
            "type": "heatmapgl"
           }
          ],
          "histogram": [
           {
            "marker": {
             "pattern": {
              "fillmode": "overlay",
              "size": 10,
              "solidity": 0.2
             }
            },
            "type": "histogram"
           }
          ],
          "histogram2d": [
           {
            "colorbar": {
             "outlinewidth": 0,
             "ticks": ""
            },
            "colorscale": [
             [
              0,
              "#0d0887"
             ],
             [
              0.1111111111111111,
              "#46039f"
             ],
             [
              0.2222222222222222,
              "#7201a8"
             ],
             [
              0.3333333333333333,
              "#9c179e"
             ],
             [
              0.4444444444444444,
              "#bd3786"
             ],
             [
              0.5555555555555556,
              "#d8576b"
             ],
             [
              0.6666666666666666,
              "#ed7953"
             ],
             [
              0.7777777777777778,
              "#fb9f3a"
             ],
             [
              0.8888888888888888,
              "#fdca26"
             ],
             [
              1,
              "#f0f921"
             ]
            ],
            "type": "histogram2d"
           }
          ],
          "histogram2dcontour": [
           {
            "colorbar": {
             "outlinewidth": 0,
             "ticks": ""
            },
            "colorscale": [
             [
              0,
              "#0d0887"
             ],
             [
              0.1111111111111111,
              "#46039f"
             ],
             [
              0.2222222222222222,
              "#7201a8"
             ],
             [
              0.3333333333333333,
              "#9c179e"
             ],
             [
              0.4444444444444444,
              "#bd3786"
             ],
             [
              0.5555555555555556,
              "#d8576b"
             ],
             [
              0.6666666666666666,
              "#ed7953"
             ],
             [
              0.7777777777777778,
              "#fb9f3a"
             ],
             [
              0.8888888888888888,
              "#fdca26"
             ],
             [
              1,
              "#f0f921"
             ]
            ],
            "type": "histogram2dcontour"
           }
          ],
          "mesh3d": [
           {
            "colorbar": {
             "outlinewidth": 0,
             "ticks": ""
            },
            "type": "mesh3d"
           }
          ],
          "parcoords": [
           {
            "line": {
             "colorbar": {
              "outlinewidth": 0,
              "ticks": ""
             }
            },
            "type": "parcoords"
           }
          ],
          "pie": [
           {
            "automargin": true,
            "type": "pie"
           }
          ],
          "scatter": [
           {
            "fillpattern": {
             "fillmode": "overlay",
             "size": 10,
             "solidity": 0.2
            },
            "type": "scatter"
           }
          ],
          "scatter3d": [
           {
            "line": {
             "colorbar": {
              "outlinewidth": 0,
              "ticks": ""
             }
            },
            "marker": {
             "colorbar": {
              "outlinewidth": 0,
              "ticks": ""
             }
            },
            "type": "scatter3d"
           }
          ],
          "scattercarpet": [
           {
            "marker": {
             "colorbar": {
              "outlinewidth": 0,
              "ticks": ""
             }
            },
            "type": "scattercarpet"
           }
          ],
          "scattergeo": [
           {
            "marker": {
             "colorbar": {
              "outlinewidth": 0,
              "ticks": ""
             }
            },
            "type": "scattergeo"
           }
          ],
          "scattergl": [
           {
            "marker": {
             "colorbar": {
              "outlinewidth": 0,
              "ticks": ""
             }
            },
            "type": "scattergl"
           }
          ],
          "scattermapbox": [
           {
            "marker": {
             "colorbar": {
              "outlinewidth": 0,
              "ticks": ""
             }
            },
            "type": "scattermapbox"
           }
          ],
          "scatterpolar": [
           {
            "marker": {
             "colorbar": {
              "outlinewidth": 0,
              "ticks": ""
             }
            },
            "type": "scatterpolar"
           }
          ],
          "scatterpolargl": [
           {
            "marker": {
             "colorbar": {
              "outlinewidth": 0,
              "ticks": ""
             }
            },
            "type": "scatterpolargl"
           }
          ],
          "scatterternary": [
           {
            "marker": {
             "colorbar": {
              "outlinewidth": 0,
              "ticks": ""
             }
            },
            "type": "scatterternary"
           }
          ],
          "surface": [
           {
            "colorbar": {
             "outlinewidth": 0,
             "ticks": ""
            },
            "colorscale": [
             [
              0,
              "#0d0887"
             ],
             [
              0.1111111111111111,
              "#46039f"
             ],
             [
              0.2222222222222222,
              "#7201a8"
             ],
             [
              0.3333333333333333,
              "#9c179e"
             ],
             [
              0.4444444444444444,
              "#bd3786"
             ],
             [
              0.5555555555555556,
              "#d8576b"
             ],
             [
              0.6666666666666666,
              "#ed7953"
             ],
             [
              0.7777777777777778,
              "#fb9f3a"
             ],
             [
              0.8888888888888888,
              "#fdca26"
             ],
             [
              1,
              "#f0f921"
             ]
            ],
            "type": "surface"
           }
          ],
          "table": [
           {
            "cells": {
             "fill": {
              "color": "#EBF0F8"
             },
             "line": {
              "color": "white"
             }
            },
            "header": {
             "fill": {
              "color": "#C8D4E3"
             },
             "line": {
              "color": "white"
             }
            },
            "type": "table"
           }
          ]
         },
         "layout": {
          "annotationdefaults": {
           "arrowcolor": "#2a3f5f",
           "arrowhead": 0,
           "arrowwidth": 1
          },
          "autotypenumbers": "strict",
          "coloraxis": {
           "colorbar": {
            "outlinewidth": 0,
            "ticks": ""
           }
          },
          "colorscale": {
           "diverging": [
            [
             0,
             "#8e0152"
            ],
            [
             0.1,
             "#c51b7d"
            ],
            [
             0.2,
             "#de77ae"
            ],
            [
             0.3,
             "#f1b6da"
            ],
            [
             0.4,
             "#fde0ef"
            ],
            [
             0.5,
             "#f7f7f7"
            ],
            [
             0.6,
             "#e6f5d0"
            ],
            [
             0.7,
             "#b8e186"
            ],
            [
             0.8,
             "#7fbc41"
            ],
            [
             0.9,
             "#4d9221"
            ],
            [
             1,
             "#276419"
            ]
           ],
           "sequential": [
            [
             0,
             "#0d0887"
            ],
            [
             0.1111111111111111,
             "#46039f"
            ],
            [
             0.2222222222222222,
             "#7201a8"
            ],
            [
             0.3333333333333333,
             "#9c179e"
            ],
            [
             0.4444444444444444,
             "#bd3786"
            ],
            [
             0.5555555555555556,
             "#d8576b"
            ],
            [
             0.6666666666666666,
             "#ed7953"
            ],
            [
             0.7777777777777778,
             "#fb9f3a"
            ],
            [
             0.8888888888888888,
             "#fdca26"
            ],
            [
             1,
             "#f0f921"
            ]
           ],
           "sequentialminus": [
            [
             0,
             "#0d0887"
            ],
            [
             0.1111111111111111,
             "#46039f"
            ],
            [
             0.2222222222222222,
             "#7201a8"
            ],
            [
             0.3333333333333333,
             "#9c179e"
            ],
            [
             0.4444444444444444,
             "#bd3786"
            ],
            [
             0.5555555555555556,
             "#d8576b"
            ],
            [
             0.6666666666666666,
             "#ed7953"
            ],
            [
             0.7777777777777778,
             "#fb9f3a"
            ],
            [
             0.8888888888888888,
             "#fdca26"
            ],
            [
             1,
             "#f0f921"
            ]
           ]
          },
          "colorway": [
           "#636efa",
           "#EF553B",
           "#00cc96",
           "#ab63fa",
           "#FFA15A",
           "#19d3f3",
           "#FF6692",
           "#B6E880",
           "#FF97FF",
           "#FECB52"
          ],
          "font": {
           "color": "#2a3f5f"
          },
          "geo": {
           "bgcolor": "white",
           "lakecolor": "white",
           "landcolor": "#E5ECF6",
           "showlakes": true,
           "showland": true,
           "subunitcolor": "white"
          },
          "hoverlabel": {
           "align": "left"
          },
          "hovermode": "closest",
          "mapbox": {
           "style": "light"
          },
          "paper_bgcolor": "white",
          "plot_bgcolor": "#E5ECF6",
          "polar": {
           "angularaxis": {
            "gridcolor": "white",
            "linecolor": "white",
            "ticks": ""
           },
           "bgcolor": "#E5ECF6",
           "radialaxis": {
            "gridcolor": "white",
            "linecolor": "white",
            "ticks": ""
           }
          },
          "scene": {
           "xaxis": {
            "backgroundcolor": "#E5ECF6",
            "gridcolor": "white",
            "gridwidth": 2,
            "linecolor": "white",
            "showbackground": true,
            "ticks": "",
            "zerolinecolor": "white"
           },
           "yaxis": {
            "backgroundcolor": "#E5ECF6",
            "gridcolor": "white",
            "gridwidth": 2,
            "linecolor": "white",
            "showbackground": true,
            "ticks": "",
            "zerolinecolor": "white"
           },
           "zaxis": {
            "backgroundcolor": "#E5ECF6",
            "gridcolor": "white",
            "gridwidth": 2,
            "linecolor": "white",
            "showbackground": true,
            "ticks": "",
            "zerolinecolor": "white"
           }
          },
          "shapedefaults": {
           "line": {
            "color": "#2a3f5f"
           }
          },
          "ternary": {
           "aaxis": {
            "gridcolor": "white",
            "linecolor": "white",
            "ticks": ""
           },
           "baxis": {
            "gridcolor": "white",
            "linecolor": "white",
            "ticks": ""
           },
           "bgcolor": "#E5ECF6",
           "caxis": {
            "gridcolor": "white",
            "linecolor": "white",
            "ticks": ""
           }
          },
          "title": {
           "x": 0.05
          },
          "xaxis": {
           "automargin": true,
           "gridcolor": "white",
           "linecolor": "white",
           "ticks": "",
           "title": {
            "standoff": 15
           },
           "zerolinecolor": "white",
           "zerolinewidth": 2
          },
          "yaxis": {
           "automargin": true,
           "gridcolor": "white",
           "linecolor": "white",
           "ticks": "",
           "title": {
            "standoff": 15
           },
           "zerolinecolor": "white",
           "zerolinewidth": 2
          }
         }
        },
        "title": {
         "text": "Frequency of letters in English language"
        },
        "xaxis": {
         "anchor": "y",
         "domain": [
          0,
          1
         ],
         "title": {
          "text": "x"
         }
        },
        "yaxis": {
         "anchor": "x",
         "domain": [
          0,
          1
         ],
         "title": {
          "text": "y"
         }
        }
       }
      }
     },
     "metadata": {},
     "output_type": "display_data"
    }
   ],
   "source": [
    "fig = px.bar(x=list(engFreq.keys()), y=list(engFreq.values()), title=\"Frequency of letters in English language\")\n",
    "fig.show()"
   ]
  },
  {
   "cell_type": "code",
   "execution_count": 1473,
   "metadata": {},
   "outputs": [
    {
     "data": {
      "text/plain": [
       "Counter({'MAGGD': 6,\n",
       "         'AGGDU': 6,\n",
       "         'QYUAM': 5,\n",
       "         'QYUMA': 5,\n",
       "         'YUMAG': 5,\n",
       "         'UMAGG': 5,\n",
       "         'GGDUP': 4,\n",
       "         'YNGOU': 4,\n",
       "         'NGOUU': 4,\n",
       "         'GOUUF': 4,\n",
       "         'IMNFC': 4,\n",
       "         'USADD': 3,\n",
       "         'SADDN': 3,\n",
       "         'ADDNL': 3,\n",
       "         'DDNLU': 3,\n",
       "         'NFGQY': 2,\n",
       "         'FGQYU': 2,\n",
       "         'QYUVY': 2,\n",
       "         'YUVYH': 2,\n",
       "         'UVYHD': 2,\n",
       "         'VYHDU': 2,\n",
       "         'UYNFL': 2,\n",
       "         'GQYUA': 2,\n",
       "         'SUMXP': 2,\n",
       "         'GNOHR': 2,\n",
       "         'NOHRQ': 2,\n",
       "         'IHMQY': 2,\n",
       "         'HMQYU': 2,\n",
       "         'GGDUY': 2,\n",
       "         'QYUSA': 2,\n",
       "         'YUSAD': 2,\n",
       "         'VNPQY': 2,\n",
       "         'NPQYU': 2,\n",
       "         'HIQYU': 2,\n",
       "         'YUAME': 2,\n",
       "         'ERMGU': 2,\n",
       "         'RMGUM': 2,\n",
       "         'JUHJD': 2,\n",
       "         'UHJDU': 2,\n",
       "         'HFQYU': 2,\n",
       "         'FALYQ': 2,\n",
       "         'ALYQQ': 2,\n",
       "         'LYQQY': 2,\n",
       "         'YQQYU': 2,\n",
       "         'UGIMN': 2,\n",
       "         'GIMNF': 2,\n",
       "         'MNFCO': 2,\n",
       "         'NFCOM': 2,\n",
       "         'FCOMX': 2,\n",
       "         'COMXT': 2,\n",
       "         'OMXTU': 2,\n",
       "         'PUSUM': 2,\n",
       "         'QYUJH': 1,\n",
       "         'YUJHD': 1,\n",
       "         'UJHDA': 1,\n",
       "         'JHDAT': 1,\n",
       "         'HDATU': 1,\n",
       "         'DATUV': 1,\n",
       "         'ATUVU': 1,\n",
       "         'TUVUM': 1,\n",
       "         'UVUMU': 1,\n",
       "         'VUMUP': 1,\n",
       "         'UMUPR': 1,\n",
       "         'MUPRE': 1,\n",
       "         'UPREE': 1,\n",
       "         'PREEH': 1,\n",
       "         'REEHF': 1,\n",
       "         'EEHFU': 1,\n",
       "         'EHFUG': 1,\n",
       "         'HFUGN': 1,\n",
       "         'FUGNF': 1,\n",
       "         'UGNFG': 1,\n",
       "         'GNFGQ': 1,\n",
       "         'GQYUV': 1,\n",
       "         'YHDUH': 1,\n",
       "         'HDUHI': 1,\n",
       "         'DUHID': 1,\n",
       "         'UHIDA': 1,\n",
       "         'HIDAQ': 1,\n",
       "         'IDAQQ': 1,\n",
       "         'DAQQD': 1,\n",
       "         'AQQDU': 1,\n",
       "         'QQDUY': 1,\n",
       "         'QDUYN': 1,\n",
       "         'DUYNF': 1,\n",
       "         'YNFLD': 1,\n",
       "         'NFLDU': 1,\n",
       "         'FLDUQ': 1,\n",
       "         'LDUQH': 1,\n",
       "         'DUQHF': 1,\n",
       "         'UQHFY': 1,\n",
       "         'QHFYN': 1,\n",
       "         'HFYNG': 1,\n",
       "         'FYNGP': 1,\n",
       "         'YNGPU': 1,\n",
       "         'NGPUU': 1,\n",
       "         'GPUUQ': 1,\n",
       "         'PUUQY': 1,\n",
       "         'UUQYU': 1,\n",
       "         'UQYUG': 1,\n",
       "         'QYUGV': 1,\n",
       "         'YUGVA': 1,\n",
       "         'UGVAQ': 1,\n",
       "         'GVAQY': 1,\n",
       "         'VAQYP': 1,\n",
       "         'AQYPY': 1,\n",
       "         'QYPYH': 1,\n",
       "         'YPYHT': 1,\n",
       "         'PYHTC': 1,\n",
       "         'YHTCU': 1,\n",
       "         'HTCUG': 1,\n",
       "         'TCUGT': 1,\n",
       "         'CUGTR': 1,\n",
       "         'UGTRM': 1,\n",
       "         'GTRMA': 1,\n",
       "         'TRMAH': 1,\n",
       "         'RMAHP': 1,\n",
       "         'MAHPA': 1,\n",
       "         'AHPAQ': 1,\n",
       "         'HPAQX': 1,\n",
       "         'PAQXN': 1,\n",
       "         'AQXNF': 1,\n",
       "         'QXNFG': 1,\n",
       "         'XNFGA': 1,\n",
       "         'NFGAD': 1,\n",
       "         'FGADD': 1,\n",
       "         'GADDG': 1,\n",
       "         'ADDGA': 1,\n",
       "         'DDGAP': 1,\n",
       "         'DGAPL': 1,\n",
       "         'GAPLR': 1,\n",
       "         'APLRA': 1,\n",
       "         'PLRAP': 1,\n",
       "         'LRAPU': 1,\n",
       "         'RAPUG': 1,\n",
       "         'APUGU': 1,\n",
       "         'PUGUW': 1,\n",
       "         'UGUWT': 1,\n",
       "         'GUWTA': 1,\n",
       "         'UWTAQ': 1,\n",
       "         'WTAQU': 1,\n",
       "         'TAQUE': 1,\n",
       "         'AQUEU': 1,\n",
       "         'QUEUF': 1,\n",
       "         'UEUFQ': 1,\n",
       "         'EUFQF': 1,\n",
       "         'UFQFH': 1,\n",
       "         'FQFHO': 1,\n",
       "         'QFHOH': 1,\n",
       "         'FHOHG': 1,\n",
       "         'HOHGX': 1,\n",
       "         'OHGXV': 1,\n",
       "         'HGXVN': 1,\n",
       "         'GXVNP': 1,\n",
       "         'XVNPQ': 1,\n",
       "         'VNPQU': 1,\n",
       "         'NPQUG': 1,\n",
       "         'PQUGQ': 1,\n",
       "         'QUGQY': 1,\n",
       "         'UGQYU': 1,\n",
       "         'YUAMO': 1,\n",
       "         'UAMOM': 1,\n",
       "         'AMOMU': 1,\n",
       "         'MOMUN': 1,\n",
       "         'OMUNQ': 1,\n",
       "         'MUNQY': 1,\n",
       "         'UNQYJ': 1,\n",
       "         'NQYJM': 1,\n",
       "         'QYJMU': 1,\n",
       "         'YJMUQ': 1,\n",
       "         'JMUQU': 1,\n",
       "         'MUQUF': 1,\n",
       "         'UQUFG': 1,\n",
       "         'QUFGA': 1,\n",
       "         'UFGAF': 1,\n",
       "         'FGAFL': 1,\n",
       "         'GAFLQ': 1,\n",
       "         'AFLQH': 1,\n",
       "         'FLQHI': 1,\n",
       "         'LQHIU': 1,\n",
       "         'QHIUU': 1,\n",
       "         'HIUUD': 1,\n",
       "         'IUUDS': 1,\n",
       "         'UUDSU': 1,\n",
       "         'UDSUM': 1,\n",
       "         'DSUMX': 1,\n",
       "         'UMXPN': 1,\n",
       "         'MXPNG': 1,\n",
       "         'XPNGN': 1,\n",
       "         'PNGNO': 1,\n",
       "         'NGNOH': 1,\n",
       "         'OHRQQ': 1,\n",
       "         'HRQQY': 1,\n",
       "         'RQQYU': 1,\n",
       "         'QQYUM': 1,\n",
       "         'GDUPI': 1,\n",
       "         'DUPIH': 1,\n",
       "         'UPIHM': 1,\n",
       "         'PIHMQ': 1,\n",
       "         'MQYUX': 1,\n",
       "         'QYUXY': 1,\n",
       "         'YUXYN': 1,\n",
       "         'UXYNG': 1,\n",
       "         'XYNGO': 1,\n",
       "         'OUUFE': 1,\n",
       "         'UUFEH': 1,\n",
       "         'UFEHP': 1,\n",
       "         'FEHPQ': 1,\n",
       "         'EHPQR': 1,\n",
       "         'HPQRF': 1,\n",
       "         'PQRFJ': 1,\n",
       "         'QRFJH': 1,\n",
       "         'RFJHJ': 1,\n",
       "         'FJHJR': 1,\n",
       "         'JHJRD': 1,\n",
       "         'HJRDN': 1,\n",
       "         'JRDNM': 1,\n",
       "         'RDNMU': 1,\n",
       "         'DNMUD': 1,\n",
       "         'NMUDG': 1,\n",
       "         'MUDGU': 1,\n",
       "         'UDGUM': 1,\n",
       "         'DGUMD': 1,\n",
       "         'GUMDX': 1,\n",
       "         'UMDXE': 1,\n",
       "         'MDXEM': 1,\n",
       "         'DXEMN': 1,\n",
       "         'XEMNF': 1,\n",
       "         'EMNFG': 1,\n",
       "         'MNFGE': 1,\n",
       "         'NFGEM': 1,\n",
       "         'FGEMP': 1,\n",
       "         'GEMPM': 1,\n",
       "         'EMPMA': 1,\n",
       "         'MPMAG': 1,\n",
       "         'PMAGG': 1,\n",
       "         'GDUYN': 1,\n",
       "         'DUYNG': 1,\n",
       "         'UYNGO': 1,\n",
       "         'OUUFM': 1,\n",
       "         'UUFMA': 1,\n",
       "         'UFMAT': 1,\n",
       "         'FMATY': 1,\n",
       "         'MATYP': 1,\n",
       "         'ATYPF': 1,\n",
       "         'TYPFH': 1,\n",
       "         'YPFHO': 1,\n",
       "         'PFHOO': 1,\n",
       "         'FHOOA': 1,\n",
       "         'HOOAP': 1,\n",
       "         'OOAPY': 1,\n",
       "         'OAPYN': 1,\n",
       "         'APYNF': 1,\n",
       "         'PYNFG': 1,\n",
       "         'YNFGM': 1,\n",
       "         'NFGMR': 1,\n",
       "         'FGMRG': 1,\n",
       "         'GMRGU': 1,\n",
       "         'MRGUN': 1,\n",
       "         'RGUNF': 1,\n",
       "         'GUNFG': 1,\n",
       "         'UNFGQ': 1,\n",
       "         'YUAML': 1,\n",
       "         'UAMLM': 1,\n",
       "         'AMLMH': 1,\n",
       "         'MLMHV': 1,\n",
       "         'LMHVF': 1,\n",
       "         'MHVFR': 1,\n",
       "         'HVFRJ': 1,\n",
       "         'VFRJP': 1,\n",
       "         'FRJPH': 1,\n",
       "         'RJPHF': 1,\n",
       "         'JPHFQ': 1,\n",
       "         'PHFQH': 1,\n",
       "         'HFQHE': 1,\n",
       "         'FQHEY': 1,\n",
       "         'QHEYN': 1,\n",
       "         'HEYNG': 1,\n",
       "         'EYNGO': 1,\n",
       "         'OUUFA': 1,\n",
       "         'UUFAI': 1,\n",
       "         'UFAIN': 1,\n",
       "         'FAINF': 1,\n",
       "         'AINFX': 1,\n",
       "         'INFXQ': 1,\n",
       "         'NFXQY': 1,\n",
       "         'FXQYA': 1,\n",
       "         'XQYAF': 1,\n",
       "         'QYAFL': 1,\n",
       "         'YAFLV': 1,\n",
       "         'AFLVH': 1,\n",
       "         'FLVHM': 1,\n",
       "         'LVHMP': 1,\n",
       "         'VHMPU': 1,\n",
       "         'HMPUN': 1,\n",
       "         'MPUND': 1,\n",
       "         'PUNDD': 1,\n",
       "         'UNDDQ': 1,\n",
       "         'NDDQY': 1,\n",
       "         'DDQYU': 1,\n",
       "         'DQYUS': 1,\n",
       "         'DNLUM': 1,\n",
       "         'NLUMP': 1,\n",
       "         'LUMPT': 1,\n",
       "         'UMPTN': 1,\n",
       "         'MPTNM': 1,\n",
       "         'PTNMU': 1,\n",
       "         'TNMUG': 1,\n",
       "         'NMUGN': 1,\n",
       "         'MUGNO': 1,\n",
       "         'UGNOH': 1,\n",
       "         'OHRQV': 1,\n",
       "         'HRQVN': 1,\n",
       "         'RQVNP': 1,\n",
       "         'QVNPQ': 1,\n",
       "         'PQYUA': 1,\n",
       "         'QYUAG': 1,\n",
       "         'YUAGU': 1,\n",
       "         'UAGUF': 1,\n",
       "         'AGUFQ': 1,\n",
       "         'GUFQA': 1,\n",
       "         'UFQAQ': 1,\n",
       "         'FQAQX': 1,\n",
       "         'QAQXH': 1,\n",
       "         'AQXHI': 1,\n",
       "         'QXHIQ': 1,\n",
       "         'XHIQY': 1,\n",
       "         'IQYUA': 1,\n",
       "         'UAMER': 1,\n",
       "         'AMERM': 1,\n",
       "         'MERMG': 1,\n",
       "         'MGUMU': 1,\n",
       "         'GUMUM': 1,\n",
       "         'UMUMI': 1,\n",
       "         'MUMIH': 1,\n",
       "         'UMIHM': 1,\n",
       "         'MIHMJ': 1,\n",
       "         'IHMJD': 1,\n",
       "         'HMJDN': 1,\n",
       "         'MJDNA': 1,\n",
       "         'JDNAF': 1,\n",
       "         'DNAFD': 1,\n",
       "         'NAFDX': 1,\n",
       "         'AFDXQ': 1,\n",
       "         'FDXQY': 1,\n",
       "         'DXQYM': 1,\n",
       "         'XQYMU': 1,\n",
       "         'QYMUU': 1,\n",
       "         'YMUUN': 1,\n",
       "         'MUUNJ': 1,\n",
       "         'UUNJJ': 1,\n",
       "         'UNJJN': 1,\n",
       "         'NJJNM': 1,\n",
       "         'JJNMU': 1,\n",
       "         'JNMUF': 1,\n",
       "         'NMUFQ': 1,\n",
       "         'MUFQD': 1,\n",
       "         'UFQDX': 1,\n",
       "         'FQDXY': 1,\n",
       "         'QDXYU': 1,\n",
       "         'DXYUN': 1,\n",
       "         'XYUND': 1,\n",
       "         'YUNDQ': 1,\n",
       "         'UNDQY': 1,\n",
       "         'NDQYX': 1,\n",
       "         'DQYXJ': 1,\n",
       "         'QYXJU': 1,\n",
       "         'YXJUH': 1,\n",
       "         'XJUHJ': 1,\n",
       "         'HJDUG': 1,\n",
       "         'JDUGA': 1,\n",
       "         'DUGAG': 1,\n",
       "         'UGAGF': 1,\n",
       "         'GAGFH': 1,\n",
       "         'AGFHQ': 1,\n",
       "         'GFHQN': 1,\n",
       "         'FHQND': 1,\n",
       "         'HQNDD': 1,\n",
       "         'QNDDG': 1,\n",
       "         'NDDGM': 1,\n",
       "         'DDGMH': 1,\n",
       "         'DGMHJ': 1,\n",
       "         'GMHJG': 1,\n",
       "         'MHJGU': 1,\n",
       "         'HJGUN': 1,\n",
       "         'JGUNG': 1,\n",
       "         'GUNGH': 1,\n",
       "         'UNGHI': 1,\n",
       "         'NGHIF': 1,\n",
       "         'GHIFN': 1,\n",
       "         'HIFNQ': 1,\n",
       "         'IFNQR': 1,\n",
       "         'FNQRM': 1,\n",
       "         'NQRMN': 1,\n",
       "         'QRMND': 1,\n",
       "         'RMNDT': 1,\n",
       "         'MNDTN': 1,\n",
       "         'NDTNR': 1,\n",
       "         'DTNRP': 1,\n",
       "         'TNRPU': 1,\n",
       "         'NRPUP': 1,\n",
       "         'RPUPH': 1,\n",
       "         'PUPHF': 1,\n",
       "         'UPHFQ': 1,\n",
       "         'PHFQY': 1,\n",
       "         'FQYUP': 1,\n",
       "         'QYUPN': 1,\n",
       "         'YUPNE': 1,\n",
       "         'UPNEU': 1,\n",
       "         'PNEUF': 1,\n",
       "         'NEUFA': 1,\n",
       "         'EUFAL': 1,\n",
       "         'UFALY': 1,\n",
       "         'QQYUY': 1,\n",
       "         'QYUYN': 1,\n",
       "         'YUYNF': 1,\n",
       "         'YNFLU': 1,\n",
       "         'NFLUG': 1,\n",
       "         'FLUGE': 1,\n",
       "         'LUGEN': 1,\n",
       "         'UGENF': 1,\n",
       "         'GENFQ': 1,\n",
       "         'ENFQY': 1,\n",
       "         'NFQYU': 1,\n",
       "         'FQYUS': 1,\n",
       "         'DNLUJ': 1,\n",
       "         'NLUJR': 1,\n",
       "         'LUJRO': 1,\n",
       "         'UJROG': 1,\n",
       "         'JROGA': 1,\n",
       "         'ROGAG': 1,\n",
       "         'OGAGN': 1,\n",
       "         'GAGNM': 1,\n",
       "         'AGNMH': 1,\n",
       "         'GNMHN': 1,\n",
       "         'NMHNM': 1,\n",
       "         'MHNMA': 1,\n",
       "         'HNMAF': 1,\n",
       "         'NMAFL': 1,\n",
       "         'MAFLQ': 1,\n",
       "         'AFLQM': 1,\n",
       "         'FLQMN': 1,\n",
       "         'LQMNG': 1,\n",
       "         'QMNGU': 1,\n",
       "         'MNGUQ': 1,\n",
       "         'NGUQY': 1,\n",
       "         'GUQYN': 1,\n",
       "         'UQYNQ': 1,\n",
       "         'QYNQF': 1,\n",
       "         'YNQFA': 1,\n",
       "         'NQFAL': 1,\n",
       "         'QFALY': 1,\n",
       "         'QQYUV': 1,\n",
       "         'YHDUS': 1,\n",
       "         'HDUSA': 1,\n",
       "         'DUSAD': 1,\n",
       "         'DNLUP': 1,\n",
       "         'NLUPU': 1,\n",
       "         'LUPUU': 1,\n",
       "         'UPUUE': 1,\n",
       "         'PUUEU': 1,\n",
       "         'UUEUG': 1,\n",
       "         'UEUGQ': 1,\n",
       "         'EUGQH': 1,\n",
       "         'UGQHY': 1,\n",
       "         'GQHYN': 1,\n",
       "         'QHYNS': 1,\n",
       "         'HYNSU': 1,\n",
       "         'YNSUQ': 1,\n",
       "         'NSUQR': 1,\n",
       "         'SUQRM': 1,\n",
       "         'UQRMF': 1,\n",
       "         'QRMFU': 1,\n",
       "         'RMFUG': 1,\n",
       "         'MFUGH': 1,\n",
       "         'FUGHR': 1,\n",
       "         'UGHRQ': 1,\n",
       "         'GHRQQ': 1,\n",
       "         'HRQQH': 1,\n",
       "         'RQQHG': 1,\n",
       "         'QQHGA': 1,\n",
       "         'QHGAP': 1,\n",
       "         'HGAPT': 1,\n",
       "         'GAPTR': 1,\n",
       "         'APTRP': 1,\n",
       "         'PTRPP': 1,\n",
       "         'TRPPQ': 1,\n",
       "         'RPPQY': 1,\n",
       "         'PPQYU': 1,\n",
       "         'PQYUE': 1,\n",
       "         'QYUER': 1,\n",
       "         'YUERM': 1,\n",
       "         'UERMG': 1,\n",
       "         'MGUMP': 1,\n",
       "         'GUMPQ': 1,\n",
       "         'UMPQY': 1,\n",
       "         'MPQYU': 1,\n",
       "         'PQYUX': 1,\n",
       "         'QYUXV': 1,\n",
       "         'YUXVU': 1,\n",
       "         'UXVUM': 1,\n",
       "         'XVUMU': 1,\n",
       "         'VUMUM': 1,\n",
       "         'UMUMU': 1,\n",
       "         'MUMUV': 1,\n",
       "         'UMUVN': 1,\n",
       "         'MUVNM': 1,\n",
       "         'UVNMG': 1,\n",
       "         'VNMGU': 1,\n",
       "         'NMGUG': 1,\n",
       "         'MGUGI': 1,\n",
       "         'GUGIH': 1,\n",
       "         'UGIHM': 1,\n",
       "         'GIHMD': 1,\n",
       "         'IHMDU': 1,\n",
       "         'HMDUN': 1,\n",
       "         'MDUNS': 1,\n",
       "         'DUNSA': 1,\n",
       "         'UNSAF': 1,\n",
       "         'NSAFL': 1,\n",
       "         'SAFLQ': 1,\n",
       "         'AFLQY': 1,\n",
       "         'FLQYU': 1,\n",
       "         'LQYUA': 1,\n",
       "         'YUAMI': 1,\n",
       "         'UAMIA': 1,\n",
       "         'AMIAM': 1,\n",
       "         'MIAMU': 1,\n",
       "         'IAMUP': 1,\n",
       "         'AMUPA': 1,\n",
       "         'MUPAG': 1,\n",
       "         'UPAGU': 1,\n",
       "         'PAGUP': 1,\n",
       "         'AGUPV': 1,\n",
       "         'GUPVY': 1,\n",
       "         'UPVYU': 1,\n",
       "         'PVYUF': 1,\n",
       "         'VYUFQ': 1,\n",
       "         'YUFQY': 1,\n",
       "         'UFQYU': 1,\n",
       "         'FQYUM': 1,\n",
       "         'GDUPT': 1,\n",
       "         'DUPTH': 1,\n",
       "         'UPTHH': 1,\n",
       "         'PTHHC': 1,\n",
       "         'THHCN': 1,\n",
       "         'HHCNM': 1,\n",
       "         'HCNMM': 1,\n",
       "         'CNMMA': 1,\n",
       "         'NMMAS': 1,\n",
       "         'MMASU': 1,\n",
       "         'MASUG': 1,\n",
       "         'ASUGG': 1,\n",
       "         'SUGGM': 1,\n",
       "         'UGGMN': 1,\n",
       "         'GGMNE': 1,\n",
       "         'GMNEN': 1,\n",
       "         'MNENQ': 1,\n",
       "         'NENQA': 1,\n",
       "         'ENQAT': 1,\n",
       "         'NQATN': 1,\n",
       "         'QATND': 1,\n",
       "         'ATNDD': 1,\n",
       "         'TNDDX': 1,\n",
       "         'NDDXA': 1,\n",
       "         'DDXAF': 1,\n",
       "         'DXAFQ': 1,\n",
       "         'XAFQY': 1,\n",
       "         'AFQYU': 1,\n",
       "         'FQYUA': 1,\n",
       "         'UAMEA': 1,\n",
       "         'AMEAG': 1,\n",
       "         'MEAGP': 1,\n",
       "         'EAGPQ': 1,\n",
       "         'AGPQN': 1,\n",
       "         'GPQNF': 1,\n",
       "         'PQNFG': 1,\n",
       "         'QNFGN': 1,\n",
       "         'NFGNF': 1,\n",
       "         'FGNFF': 1,\n",
       "         'GNFFH': 1,\n",
       "         'NFFHR': 1,\n",
       "         'FFHRF': 1,\n",
       "         'FHRFT': 1,\n",
       "         'HRFTU': 1,\n",
       "         'RFTUG': 1,\n",
       "         'FTUGQ': 1,\n",
       "         'TUGQH': 1,\n",
       "         'UGQHQ': 1,\n",
       "         'GQHQY': 1,\n",
       "         'QHQYU': 1,\n",
       "         'HQYUP': 1,\n",
       "         'QYUPR': 1,\n",
       "         'YUPRG': 1,\n",
       "         'UPRGG': 1,\n",
       "         'PRGGU': 1,\n",
       "         'RGGUF': 1,\n",
       "         'GGUFD': 1,\n",
       "         'GUFDX': 1,\n",
       "         'UFDXP': 1,\n",
       "         'FDXPA': 1,\n",
       "         'DXPAD': 1,\n",
       "         'XPADU': 1,\n",
       "         'PADUF': 1,\n",
       "         'ADUFQ': 1,\n",
       "         'DUFQJ': 1,\n",
       "         'UFQJR': 1,\n",
       "         'FQJRO': 1,\n",
       "         'QJROQ': 1,\n",
       "         'JROQY': 1,\n",
       "         'ROQYN': 1,\n",
       "         'OQYNQ': 1,\n",
       "         'QYNQN': 1,\n",
       "         'YNQNE': 1,\n",
       "         'NQNEN': 1,\n",
       "         'QNENF': 1,\n",
       "         'NENFT': 1,\n",
       "         'ENFTN': 1,\n",
       "         'NFTND': 1,\n",
       "         'FTNDD': 1,\n",
       "         'TNDDU': 1,\n",
       "         'NDDUG': 1,\n",
       "         'DDUGI': 1,\n",
       "         'DUGIM': 1,\n",
       "         'MXTUY': 1,\n",
       "         'XTUYN': 1,\n",
       "         'TUYNG': 1,\n",
       "         'UYNGB': 1,\n",
       "         'YNGBR': 1,\n",
       "         'NGBRP': 1,\n",
       "         'GBRPQ': 1,\n",
       "         'BRPQO': 1,\n",
       "         'RPQOU': 1,\n",
       "         'PQOUU': 1,\n",
       "         'QOUUF': 1,\n",
       "         'OUUFN': 1,\n",
       "         'UUFNM': 1,\n",
       "         'UFNMM': 1,\n",
       "         'FNMMU': 1,\n",
       "         'NMMUP': 1,\n",
       "         'MMUPQ': 1,\n",
       "         'MUPQU': 1,\n",
       "         'UPQUG': 1,\n",
       "         'PQUGI': 1,\n",
       "         'QUGIM': 1,\n",
       "         'MNFCT': 1,\n",
       "         'NFCTM': 1,\n",
       "         'FCTMA': 1,\n",
       "         'CTMAU': 1,\n",
       "         'TMAUG': 1,\n",
       "         'MAUGP': 1,\n",
       "         'AUGPU': 1,\n",
       "         'UGPUS': 1,\n",
       "         'GPUSU': 1,\n",
       "         'USUMN': 1,\n",
       "         'SUMND': 1,\n",
       "         'UMNDJ': 1,\n",
       "         'MNDJU': 1,\n",
       "         'NDJUH': 1,\n",
       "         'DJUHJ': 1,\n",
       "         'HJDUF': 1,\n",
       "         'JDUFU': 1,\n",
       "         'DUFUS': 1,\n",
       "         'UFUSU': 1,\n",
       "         'FUSUM': 1,\n",
       "         'USUMI': 1,\n",
       "         'SUMIM': 1,\n",
       "         'UMIMN': 1,\n",
       "         'MIMNF': 1,\n",
       "         'MXTUV': 1,\n",
       "         'XTUVN': 1,\n",
       "         'TUVNP': 1,\n",
       "         'UVNPQ': 1,\n",
       "         'PQYUM': 1,\n",
       "         'GDUPL': 1,\n",
       "         'DUPLN': 1,\n",
       "         'UPLNM': 1,\n",
       "         'PLNMG': 1,\n",
       "         'LNMGU': 1,\n",
       "         'NMGUF': 1,\n",
       "         'MGUFU': 1,\n",
       "         'GUFUM': 1,\n",
       "         'UFUMY': 1,\n",
       "         'FUMYU': 1,\n",
       "         'UMYUD': 1,\n",
       "         'MYUDA': 1,\n",
       "         'YUDAS': 1,\n",
       "         'UDASU': 1,\n",
       "         'DASUG': 1,\n",
       "         'ASUGN': 1,\n",
       "         'SUGND': 1,\n",
       "         'UGNDH': 1,\n",
       "         'GNDHF': 1,\n",
       "         'NDHFU': 1,\n",
       "         'DHFUA': 1,\n",
       "         'HFUAF': 1,\n",
       "         'FUAFN': 1,\n",
       "         'UAFNM': 1,\n",
       "         'AFNMR': 1,\n",
       "         'FNMRF': 1,\n",
       "         'NMRFG': 1,\n",
       "         'MRFGH': 1,\n",
       "         'RFGHV': 1,\n",
       "         'FGHVF': 1,\n",
       "         'GHVFT': 1,\n",
       "         'HVFTH': 1,\n",
       "         'VFTHQ': 1,\n",
       "         'FTHQQ': 1,\n",
       "         'THQQN': 1,\n",
       "         'HQQNL': 1,\n",
       "         'QQNLU': 1,\n",
       "         'QNLUH': 1,\n",
       "         'NLUHF': 1,\n",
       "         'LUHFQ': 1,\n",
       "         'UHFQY': 1,\n",
       "         'FQYUL': 1,\n",
       "         'QYULM': 1,\n",
       "         'YULMH': 1,\n",
       "         'ULMHR': 1,\n",
       "         'LMHRF': 1,\n",
       "         'MHRFG': 1,\n",
       "         'HRFGP': 1,\n",
       "         'RFGPH': 1,\n",
       "         'FGPHI': 1,\n",
       "         'GPHIQ': 1,\n",
       "         'PHIQY': 1,\n",
       "         'IQYUM': 1,\n",
       "         'GDUYH': 1,\n",
       "         'DUYHR': 1,\n",
       "         'UYHRP': 1,\n",
       "         'YHRPU': 1,\n",
       "         'HRPUI': 1,\n",
       "         'RPUIM': 1,\n",
       "         'PUIMN': 1,\n",
       "         'UIMNF': 1,\n",
       "         'MNFCY': 1,\n",
       "         'NFCYN': 1,\n",
       "         'FCYNG': 1,\n",
       "         'CYNGT': 1,\n",
       "         'YNGTH': 1,\n",
       "         'NGTHE': 1,\n",
       "         'GTHEU': 1,\n",
       "         'THEUO': 1,\n",
       "         'HEUON': 1,\n",
       "         'EUONT': 1,\n",
       "         'UONTC': 1,\n",
       "         'ONTCI': 1,\n",
       "         'NTCIM': 1,\n",
       "         'TCIMH': 1,\n",
       "         'CIMHE': 1,\n",
       "         'IMHEQ': 1,\n",
       "         'MHEQY': 1,\n",
       "         'HEQYU': 1,\n",
       "         'EQYUV': 1,\n",
       "         'QYUVN': 1,\n",
       "         'YUVNM': 1,\n",
       "         'UVNMV': 1,\n",
       "         'VNMVA': 1,\n",
       "         'NMVAQ': 1,\n",
       "         'MVAQY': 1,\n",
       "         'VAQYN': 1,\n",
       "         'AQYNS': 1,\n",
       "         'QYNSU': 1,\n",
       "         'YNSUM': 1,\n",
       "         'NSUMX': 1,\n",
       "         'UMXPQ': 1,\n",
       "         'MXPQA': 1,\n",
       "         'XPQAI': 1,\n",
       "         'PQAII': 1,\n",
       "         'QAIID': 1,\n",
       "         'AIIDU': 1,\n",
       "         'IIDUL': 1,\n",
       "         'IDULN': 1,\n",
       "         'DULNF': 1,\n",
       "         'ULNFG': 1,\n",
       "         'LNFGN': 1,\n",
       "         'NFGNL': 1,\n",
       "         'FGNLM': 1,\n",
       "         'GNLMU': 1,\n",
       "         'NLMUN': 1,\n",
       "         'LMUNQ': 1,\n",
       "         'MUNQG': 1,\n",
       "         'UNQGA': 1,\n",
       "         'NQGAP': 1,\n",
       "         'QGAPD': 1,\n",
       "         'GAPDA': 1,\n",
       "         'APDAC': 1,\n",
       "         'PDACU': 1,\n",
       "         'DACUH': 1,\n",
       "         'ACUHI': 1,\n",
       "         'CUHIT': 1,\n",
       "         'UHITM': 1,\n",
       "         'HITMH': 1,\n",
       "         'ITMHV': 1,\n",
       "         'TMHVG': 1,\n",
       "         'MHVGP': 1,\n",
       "         'HVGPN': 1,\n",
       "         'VGPNF': 1,\n",
       "         'GPNFG': 1,\n",
       "         'PNFGD': 1,\n",
       "         'NFGDH': 1,\n",
       "         'FGDHR': 1,\n",
       "         'GDHRG': 1,\n",
       "         'DHRGF': 1,\n",
       "         'HRGFH': 1,\n",
       "         'RGFHA': 1,\n",
       "         'GFHAP': 1,\n",
       "         'FHAPU': 1,\n",
       "         'HAPUP': 1,\n",
       "         'APUPN': 1,\n",
       "         'PUPNF': 1,\n",
       "         'UPNFG': 1,\n",
       "         'PNFGY': 1,\n",
       "         'NFGYN': 1,\n",
       "         'FGYNG': 1,\n",
       "         'GYNGO': 1,\n",
       "         'OUUFV': 1,\n",
       "         'UUFVH': 1,\n",
       "         'UFVHM': 1,\n",
       "         'FVHMC': 1,\n",
       "         'VHMCA': 1,\n",
       "         'HMCAF': 1,\n",
       "         'MCAFL': 1,\n",
       "         'CAFLI': 1,\n",
       "         'AFLIH': 1,\n",
       "         'FLIHM': 1,\n",
       "         'LIHMQ': 1,\n",
       "         'MQYUM': 1,\n",
       "         'GDUPU': 1,\n",
       "         'DUPUS': 1,\n",
       "         'UPUSU': 1,\n",
       "         'USUMP': 1,\n",
       "         'SUMPA': 1,\n",
       "         'UMPAF': 1,\n",
       "         'MPAFT': 1,\n",
       "         'PAFTU': 1,\n",
       "         'AFTUW': 1,\n",
       "         'FTUWW': 1,\n",
       "         'TUWWW': 1,\n",
       "         'UWWWW': 1})"
      ]
     },
     "execution_count": 1473,
     "metadata": {},
     "output_type": "execute_result"
    }
   ],
   "source": [
    "rawCipher = cipherText.replace(\" \", \"\")\n",
    "repeats = []\n",
    "seqLen=4\n",
    "\n",
    "\n",
    "for i in range(len(rawCipher) - seqLen):\n",
    "    repeats.append(rawCipher[i:i+seqLen+1])\n",
    "\n",
    "Counter(repeats)"
   ]
  },
  {
   "cell_type": "code",
   "execution_count": 1474,
   "metadata": {},
   "outputs": [
    {
     "data": {
      "text/plain": [
       "Counter({'UU': 9,\n",
       "         'DD': 8,\n",
       "         'GG': 8,\n",
       "         'QQ': 6,\n",
       "         'MM': 2,\n",
       "         'WW': 2,\n",
       "         'EE': 1,\n",
       "         'OO': 1,\n",
       "         'JJ': 1,\n",
       "         'PP': 1,\n",
       "         'HH': 1,\n",
       "         'FF': 1,\n",
       "         'II': 1,\n",
       "         'WWW': 1})"
      ]
     },
     "execution_count": 1474,
     "metadata": {},
     "output_type": "execute_result"
    }
   ],
   "source": [
    "repeats = []\n",
    "for doubleLen in range(2,6):\n",
    "    for i in range(len(rawCipher) - doubleLen):\n",
    "        if all([rawCipher[i] == rawCipher[i+j] for j in range(1, doubleLen)]):\n",
    "            repeats.append(rawCipher[i:i+doubleLen])\n",
    "\n",
    "Counter(repeats)"
   ]
  },
  {
   "cell_type": "code",
   "execution_count": 1475,
   "metadata": {},
   "outputs": [
    {
     "data": {
      "text/plain": [
       "[('A', 'i'),\n",
       " ('B', 'j'),\n",
       " ('C', 'k'),\n",
       " ('D', 'l'),\n",
       " ('E', 'm'),\n",
       " ('F', 'n'),\n",
       " ('G', 'd'),\n",
       " ('H', 'o'),\n",
       " ('I', 'f'),\n",
       " ('J', 'p'),\n",
       " ('K', 'q'),\n",
       " ('L', 'g'),\n",
       " ('M', 'r'),\n",
       " ('N', 'a'),\n",
       " ('O', 'b'),\n",
       " ('P', 's'),\n",
       " ('Q', 't'),\n",
       " ('R', 'u'),\n",
       " ('S', 'v'),\n",
       " ('T', 'c'),\n",
       " ('U', 'e'),\n",
       " ('V', 'w'),\n",
       " ('W', 'x'),\n",
       " ('X', 'y'),\n",
       " ('Y', 'h'),\n",
       " ('Z', 'z')]"
      ]
     },
     "execution_count": 1475,
     "metadata": {},
     "output_type": "execute_result"
    }
   ],
   "source": [
    "mappings = {}\n",
    "\n",
    "# for k, v in zip(sorted(sortedCipherFreq, key=lambda x: x[1], reverse=True)[:9], sorted(engFreq.items(), key=lambda x: x[1], reverse=True)):\n",
    "#     mappings[k[0]] = v[0]\n",
    "    \n",
    "mappings['Q'] = 't'\n",
    "mappings['Y'] = 'h'\n",
    "mappings['U'] = 'e'\n",
    "\n",
    "mappings['S'] = 'v'\n",
    "mappings['A'] = 'i'\n",
    "mappings['D'] = 'l'\n",
    "mappings['N'] = 'a'\n",
    "mappings['L'] = 'g'\n",
    "\n",
    "mappings['M'] = 'r'\n",
    "mappings['F'] = 'n'\n",
    "mappings['H'] = 'o'\n",
    "\n",
    "mappings['V'] = 'w'\n",
    "mappings['X'] = 'y'\n",
    "mappings['G'] = 'd'\n",
    "mappings['R'] = 'u'\n",
    "mappings['I'] = 'f'\n",
    "mappings['P'] = 's'\n",
    "mappings['O'] = 'b'\n",
    "mappings['E'] = 'm'\n",
    "mappings['T'] = 'c'\n",
    "mappings['J'] = 'p'\n",
    "mappings['C'] = 'k'\n",
    "mappings['W'] = 'x'\n",
    "mappings['B'] = 'j'\n",
    "mappings['Z'] = 'z'\n",
    "mappings['K'] = 'q'\n",
    "\n",
    "sorted(mappings.items(), key=lambda x: x[0])"
   ]
  },
  {
   "cell_type": "code",
   "execution_count": 1476,
   "metadata": {},
   "outputs": [
    {
     "name": "stdout",
     "output_type": "stream",
     "text": [
      "\n",
      "thepo licew eresu mmone dandt hewho leofl ittle hangl etonh \n",
      "adsee thedw ithsh ocked curio sitya ndill disgu isede xcite \n",
      "mentn obody waste dthei rbrea thpre tendi ngtof eelve rysad \n",
      "about theri ddles forth eyhad beenm ostun popul areld erlym \n",
      "randm rsrid dleha dbeen richs nobbi shand rudea ndthe irgro \n",
      "wnups ontom hadbe enifa nythi ngwor seall thevi llage rscar \n",
      "edabo utwas theid entit yofth eirmu rdere rforp lainl ythre \n",
      "eappa rentl yheal thype opled idnot alldr opdea dofna tural \n",
      "cause sonth esame night theha ngedm anthe villa gepub didar \n",
      "oarin gtrad ethat night thewh olevi llage seeme dtoha vetur \n",
      "nedou ttodi scuss themu rders theyw erere warde dforl eavin \n",
      "gthei rfire sides whent herid dlesc ookar rived drama tical \n",
      "lyint heirm idsta ndann ounce dtoth esudd enlys ilent pubth \n",
      "atama ncall edfra nkbry cehad justb eenar reste dfran kcrie \n",
      "dseve ralpe oplen everf rankb rycew asthe riddl esgar dener \n",
      "heliv edalo neina rundo wncot tageo ntheg round softh eridd \n",
      "lehou sefra nkhad comeb ackfr omthe warwi thave rysti ffleg \n",
      "andag reatd islik eofcr owdsa ndlou dnois esand hadbe enwor \n",
      "kingf orthe riddl eseve rsinc exxxx "
     ]
    }
   ],
   "source": [
    "unencryptedText = \"\".join(list(map(lambda x: replaceLetter(x, mappings, hide=True), cipherText)))\n",
    "prettyPrint(unencryptedText)"
   ]
  }
 ],
 "metadata": {
  "kernelspec": {
   "display_name": "Python 3",
   "language": "python",
   "name": "python3"
  },
  "language_info": {
   "codemirror_mode": {
    "name": "ipython",
    "version": 3
   },
   "file_extension": ".py",
   "mimetype": "text/x-python",
   "name": "python",
   "nbconvert_exporter": "python",
   "pygments_lexer": "ipython3",
   "version": "3.11.3"
  },
  "orig_nbformat": 4
 },
 "nbformat": 4,
 "nbformat_minor": 2
}
